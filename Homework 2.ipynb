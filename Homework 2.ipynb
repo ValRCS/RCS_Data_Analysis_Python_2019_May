{
 "cells": [
  {
   "cell_type": "markdown",
   "metadata": {},
   "source": [
    "## Homework Problems No. 2"
   ]
  },
  {
   "cell_type": "code",
   "execution_count": null,
   "metadata": {},
   "outputs": [],
   "source": [
    "# Easy\n",
    "# Write a function to calculate volume for Rectangular Cuboid (visas malas ir taisnsturas 3D objektam)\n",
    "def getRectVol(l,w,h):\n",
    "    '''\n",
    "    '''\n",
    "    return None #You should be returning something not None!\n",
    "getRectVol(2,5,7) == 70"
   ]
  },
  {
   "cell_type": "code",
   "execution_count": null,
   "metadata": {},
   "outputs": [],
   "source": [
    "# Medium\n",
    "# Write a function to check if string is a palindrome\n",
    "def isPalindrome(s):\n",
    "    '''\n",
    "    '''\n",
    "    return None\n",
    "print(isPalindrome('alusariirasula') == True)\n",
    "print(isPalindrome('normaltext') == False)"
   ]
  },
  {
   "cell_type": "code",
   "execution_count": null,
   "metadata": {},
   "outputs": [],
   "source": [
    "# Hint: check what is possible with string\n",
    "dir(\"string\")"
   ]
  },
  {
   "cell_type": "code",
   "execution_count": null,
   "metadata": {},
   "outputs": [],
   "source": [
    "import string\n",
    "print(string.ascii_lowercase)"
   ]
  },
  {
   "cell_type": "code",
   "execution_count": null,
   "metadata": {},
   "outputs": [],
   "source": [
    "# One liner is possible! Okay to do it a longer way\n",
    "# Hints: dir(\"mystring\") for string manipulation(might need more than one method)\n",
    "# Also remember one \"unique\" data structure we covered\n",
    "\n",
    "import string\n",
    "print(string.ascii_lowercase)\n",
    "def isPangram(mytext, a=string.ascii_lowercase):\n",
    "    '''\n",
    "    '''\n",
    "    return None\n",
    "# assert is for debugging\n",
    "assert(isPangram('dadfafd') == False)\n",
    "assert(isPangram(\"The quick brown fox jumps over the lazy dog\") == True)\n",
    "assert(isPangram(\"The five boxing wizards jump quickly\") == True)"
   ]
  }
 ],
 "metadata": {
  "kernelspec": {
   "display_name": "Python 3",
   "language": "python",
   "name": "python3"
  },
  "language_info": {
   "codemirror_mode": {
    "name": "ipython",
    "version": 3
   },
   "file_extension": ".py",
   "mimetype": "text/x-python",
   "name": "python",
   "nbconvert_exporter": "python",
   "pygments_lexer": "ipython3",
   "version": "3.7.3"
  }
 },
 "nbformat": 4,
 "nbformat_minor": 2
}
