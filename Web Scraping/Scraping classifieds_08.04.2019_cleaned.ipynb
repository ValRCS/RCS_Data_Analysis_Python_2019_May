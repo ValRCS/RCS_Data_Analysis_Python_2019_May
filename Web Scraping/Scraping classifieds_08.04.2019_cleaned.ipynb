{
 "cells": [
  {
   "cell_type": "code",
   "execution_count": 1,
   "metadata": {},
   "outputs": [],
   "source": [
    "import requests\n",
    "from bs4 import BeautifulSoup\n",
    "\n",
    "url = \"https://www.ss.com/lv/real-estate/wood/\"\n",
    "baseurl = \"https://www.ss.com\"\n",
    "postfix = \"sell/\"\n",
    "\n",
    "def getUrls(url):\n",
    "    req = requests.get(url)\n",
    "    if req.status_code != 200:\n",
    "        print(\"Status Code is \", req.status_code, \"exiting\")\n",
    "        return []\n",
    "\n",
    "    soup = BeautifulSoup(req.text, 'lxml')\n",
    "    anchorlist = soup.find_all('a', {'class': 'a_category'})\n",
    "\n",
    "    finalurls = []\n",
    "    for elem in anchorlist:\n",
    "        finalurls.append(baseurl + elem['href'] + postfix)\n",
    "    len(finalurls)\n",
    "    return finalurls\n",
    "\n"
   ]
  },
  {
   "cell_type": "code",
   "execution_count": 2,
   "metadata": {},
   "outputs": [
    {
     "data": {
      "text/plain": [
       "'https://www.ss.com/lv/real-estate/wood/riga-region/sell/'"
      ]
     },
     "execution_count": 2,
     "metadata": {},
     "output_type": "execute_result"
    }
   ],
   "source": [
    "workurls = getUrls(url)\n",
    "workurls[0]"
   ]
  },
  {
   "cell_type": "code",
   "execution_count": 3,
   "metadata": {},
   "outputs": [],
   "source": [
    "rurl = workurls[0]"
   ]
  },
  {
   "cell_type": "code",
   "execution_count": 4,
   "metadata": {},
   "outputs": [],
   "source": [
    "def getAds(url):\n",
    "    req = requests.get(url)\n",
    "    \n",
    "    if req.status_code != 200:\n",
    "        print(\"Not a good status code:\", req.status_code, \"exiting\")\n",
    "        return\n",
    "    \n",
    "    rsoup = BeautifulSoup(req.text, 'lxml')\n",
    "    allrows = rsoup.find_all('tr')\n",
    "    \n",
    "    cleanrows = []\n",
    "    for row in allrows:\n",
    "        if 'id' in row.attrs.keys() and 'tr_' in row['id']:\n",
    "            cleanrows.append(row)\n",
    "    print(len(cleanrows))\n",
    "    cleanrows = cleanrows[:-1] #alternative to .pop\n",
    "    # cleanrows.pop() # we do not need the last row\n",
    "    print(len(cleanrows))\n",
    "    return cleanrows"
   ]
  },
  {
   "cell_type": "code",
   "execution_count": 6,
   "metadata": {},
   "outputs": [
    {
     "name": "stdout",
     "output_type": "stream",
     "text": [
      "12\n",
      "11\n"
     ]
    },
    {
     "data": {
      "text/plain": [
       "<tr id=\"tr_45836128\"><td class=\"msga2 pp0\"><input id=\"c45836128\" name=\"mid[]\" type=\"checkbox\" value=\"45836128_24629_0\"/></td><td class=\"msga2\"><a href=\"/msg/lv/real-estate/wood/riga-region/stopinu-nov/gcdeb.html\" id=\"im45836128\"><img alt=\"\" class=\"isfoto foto_list\" src=\"https://i.ss.com/gallery/3/517/129155/25830887.th2.jpg\"/></a></td><td class=\"msg2\"><div class=\"d1\"><a class=\"am\" data=\"JTk5JUEyJTk2JTkyaGUlQTAlRUMlOTMlOEViZyU5QSVBMyU5NyU4RGJoJTlFJUE4JTkyJTkxYmg=|hpbY14\" href=\"/msg/lv/real-estate/wood/riga-region/stopinu-nov/gcdeb.html\" id=\"dm_45836128\"><b>Pārdod cirsmu 80m3 Priedes.</b></a></div></td><td c=\"1\" class=\"msga2-o pp6\" nowrap=\"\"><b>Stopiņu nov.<br/>Upeslejas</b></td><td c=\"1\" class=\"msga2-o pp6\" nowrap=\"\"><b>80 m²</b></td><td c=\"1\" class=\"msga2-o pp6\" nowrap=\"\"><b>5,000</b>  €</td></tr>"
      ]
     },
     "execution_count": 6,
     "metadata": {},
     "output_type": "execute_result"
    }
   ],
   "source": [
    "clrows = getAds(rurl)\n",
    "clrows[0]"
   ]
  },
  {
   "cell_type": "code",
   "execution_count": 10,
   "metadata": {},
   "outputs": [],
   "source": [
    "def parseRow(row, base = 'https://www.ss.com'):\n",
    "    fcells = row.find_all('td')\n",
    "    if len(fcells) !=6:\n",
    "        print(\"Unexpected number of data cells\", len(fcells))\n",
    "        return None\n",
    "    \n",
    "    mydict = {}\n",
    "    mydict['description'] = fcells[2].text\n",
    "    mydict['region'] = fcells[3].text\n",
    "    mydict['size'] = fcells[4].text\n",
    "    # we only need the first part of price as all prices are in Euros, assumption here\n",
    "    mydict['price'] = fcells[5].text.split()[0]\n",
    "    mydict['url'] = base + fcells[1].find('a')['href']\n",
    "    \n",
    "    return mydict"
   ]
  },
  {
   "cell_type": "code",
   "execution_count": 11,
   "metadata": {},
   "outputs": [
    {
     "data": {
      "text/plain": [
       "{'description': 'Pārdod cirsmu 80m3 Priedes.',\n",
       " 'region': 'Stopiņu nov.Upeslejas',\n",
       " 'size': '80 m²',\n",
       " 'price': '5,000',\n",
       " 'url': 'https://www.ss.com/msg/lv/real-estate/wood/riga-region/stopinu-nov/gcdeb.html'}"
      ]
     },
     "execution_count": 11,
     "metadata": {},
     "output_type": "execute_result"
    }
   ],
   "source": [
    "testad = parseRow(clrows[0])\n",
    "testad"
   ]
  },
  {
   "cell_type": "code",
   "execution_count": 12,
   "metadata": {},
   "outputs": [],
   "source": [
    "def getRows(rowlist):\n",
    "    results = []\n",
    "    for row in rowlist:\n",
    "        results.append(parseRow(row))\n",
    "    return results"
   ]
  },
  {
   "cell_type": "code",
   "execution_count": 13,
   "metadata": {},
   "outputs": [],
   "source": [
    "import json\n",
    "def saveResults(filename, results):\n",
    "    with open(filename, \"w\", encoding = 'UTF-8') as write_file:\n",
    "        json.dump(results, write_file, indent = 4)\n",
    "        "
   ]
  },
  {
   "cell_type": "code",
   "execution_count": 15,
   "metadata": {},
   "outputs": [
    {
     "data": {
      "text/plain": [
       "[{'description': 'Pārdod cirsmu 80m3 Priedes.',\n",
       "  'region': 'Stopiņu nov.Upeslejas',\n",
       "  'size': '80 m²',\n",
       "  'price': '5,000',\n",
       "  'url': 'https://www.ss.com/msg/lv/real-estate/wood/riga-region/stopinu-nov/gcdeb.html'},\n",
       " {'description': 'Īpašnieks pārdod mežu Ķekavas nov. z/s \"Veckausiņi\" 7.4 ha platībā (ozols, priede, e',\n",
       "  'region': 'Ķekavas pag.Ķekava',\n",
       "  'size': '7.40 ha.',\n",
       "  'price': '80,000',\n",
       "  'url': 'https://www.ss.com/msg/lv/real-estate/wood/riga-region/kekavas-pag/efomp.html'},\n",
       " {'description': 'Pārdodu īpašumu',\n",
       "  'region': 'Stopiņu nov.Saurieši',\n",
       "  'size': '11.40 ha.',\n",
       "  'price': '20,000',\n",
       "  'url': 'https://www.ss.com/msg/lv/real-estate/wood/riga-region/stopinu-nov/hfdim.html'},\n",
       " {'description': 'Īpašnieks pārdod cirsmas. Ir ciršanas apliecinājums. Galvenās cirtes. Dastotas. 0, 2',\n",
       "  'region': 'Krimuldas pag.Sunīši',\n",
       "  'size': '4.53 ha.',\n",
       "  'price': '10,500',\n",
       "  'url': 'https://www.ss.com/msg/lv/real-estate/wood/riga-region/krimuldas-pag/blcjk.html'},\n",
       " {'description': 'AS Privatbank meitas uzņēmuma īpašums. \\r\\nZemes gabala kopējā platība 3.45 ha. Zemes ',\n",
       "  'region': 'Garkalnes nov.Makstenieki',\n",
       "  'size': '3.45 ha.',\n",
       "  'price': '95,000',\n",
       "  'url': 'https://www.ss.com/msg/lv/real-estate/wood/riga-region/garkalnes-nov/jplnx.html'},\n",
       " {'description': 'Pārdodu cirsmas izstrādes tiesības saskaņā ar apliecinājumu koku ciršanai. Melnalksn',\n",
       "  'region': 'Sējas nov.Pabaži',\n",
       "  'size': '2.50 ha.',\n",
       "  'price': '5,000',\n",
       "  'url': 'https://www.ss.com/msg/lv/real-estate/wood/riga-region/sejas-nov/knfgb.html'},\n",
       " {'description': 'Pārdod izlases cirsmu un divas kailcirtes, viss blakus. \\r\\nKoku krāja 950m3\\r\\nIegūstam',\n",
       "  'region': 'Allažu pag.Allaži',\n",
       "  'size': '3.20 ha.',\n",
       "  'price': '40,000',\n",
       "  'url': 'https://www.ss.com/msg/lv/real-estate/wood/riga-region/allazu-pag/ejxbb.html'},\n",
       " {'description': 'Privātai apbūvei paredzēts zemes gabals 5500 m2 26 km no Rīgas robežas Pleskavas šos',\n",
       "  'region': 'Inčukalna nov.Krustiņi',\n",
       "  'size': '5500 m²',\n",
       "  'price': '14,000',\n",
       "  'url': 'https://www.ss.com/msg/lv/real-estate/wood/riga-region/incukalna-nov/icnbn.html'},\n",
       " {'description': 'Pārdod cērtamu mežu pēc vecuma ar kopējo krāju 1100 m3.\\r\\nPārsvarā Egle, Bērzs. Pieli',\n",
       "  'region': 'Mores pag.More',\n",
       "  'size': '10.10 ha.',\n",
       "  'price': '35,000',\n",
       "  'url': 'https://www.ss.com/msg/lv/real-estate/wood/riga-region/mores-pag/ajhlg.html'},\n",
       " {'description': 'Pārdod cirsmu Mālpils pagastā, Mālpils novadā. Kopā 2775 m3. (Ba 1200m3, B 800m3, E ',\n",
       "  'region': 'Mālpils pag.Mālpils',\n",
       "  'size': '9.90 ha.',\n",
       "  'price': '100,000',\n",
       "  'url': 'https://www.ss.com/msg/lv/real-estate/wood/riga-region/malpils-pag/objbi.html'},\n",
       " {'description': 'Meža īpašums, dastota cirsma, ciršanas apliecinājums. \\r\\nPārdodas nekustamais īpašums',\n",
       "  'region': 'Mālpils pag.Mālpils',\n",
       "  'size': '10.24 ha.',\n",
       "  'price': '16,000',\n",
       "  'url': 'https://www.ss.com/msg/lv/real-estate/wood/riga-region/malpils-pag/hkjih.html'}]"
      ]
     },
     "execution_count": 15,
     "metadata": {},
     "output_type": "execute_result"
    }
   ],
   "source": [
    "myresults = getRows(clrows)\n",
    "myresults"
   ]
  },
  {
   "cell_type": "code",
   "execution_count": 16,
   "metadata": {},
   "outputs": [],
   "source": [
    "saveResults('myforest.json', myresults)"
   ]
  }
 ],
 "metadata": {
  "kernelspec": {
   "display_name": "Python 3",
   "language": "python",
   "name": "python3"
  },
  "language_info": {
   "codemirror_mode": {
    "name": "ipython",
    "version": 3
   },
   "file_extension": ".py",
   "mimetype": "text/x-python",
   "name": "python",
   "nbconvert_exporter": "python",
   "pygments_lexer": "ipython3",
   "version": "3.7.3"
  }
 },
 "nbformat": 4,
 "nbformat_minor": 2
}
