{
 "cells": [
  {
   "cell_type": "code",
   "execution_count": 4,
   "metadata": {},
   "outputs": [],
   "source": [
    "import pandas as pd\n",
    "import folium\n",
    "from folium import plugins\n",
    "import os\n",
    "import json"
   ]
  },
  {
   "cell_type": "code",
   "execution_count": 5,
   "metadata": {
    "scrolled": true
   },
   "outputs": [
    {
     "name": "stdout",
     "output_type": "stream",
     "text": [
      "Requirement already satisfied: folium in c:\\programdata\\anaconda3\\lib\\site-packages (0.8.3)\n",
      "Requirement already satisfied: branca>=0.3.0 in c:\\programdata\\anaconda3\\lib\\site-packages (from folium) (0.3.1)\n",
      "Requirement already satisfied: six in c:\\programdata\\anaconda3\\lib\\site-packages (from folium) (1.12.0)\n",
      "Requirement already satisfied: jinja2 in c:\\programdata\\anaconda3\\lib\\site-packages (from folium) (2.10)\n",
      "Requirement already satisfied: requests in c:\\programdata\\anaconda3\\lib\\site-packages (from folium) (2.21.0)\n",
      "Requirement already satisfied: numpy in c:\\programdata\\anaconda3\\lib\\site-packages (from folium) (1.16.2)\n",
      "Requirement already satisfied: MarkupSafe>=0.23 in c:\\programdata\\anaconda3\\lib\\site-packages (from jinja2->folium) (1.1.1)\n",
      "Requirement already satisfied: certifi>=2017.4.17 in c:\\programdata\\anaconda3\\lib\\site-packages (from requests->folium) (2019.3.9)\n",
      "Requirement already satisfied: urllib3<1.25,>=1.21.1 in c:\\programdata\\anaconda3\\lib\\site-packages (from requests->folium) (1.24.1)\n",
      "Requirement already satisfied: idna<2.9,>=2.5 in c:\\programdata\\anaconda3\\lib\\site-packages (from requests->folium) (2.8)\n",
      "Requirement already satisfied: chardet<3.1.0,>=3.0.2 in c:\\programdata\\anaconda3\\lib\\site-packages (from requests->folium) (3.0.4)\n"
     ]
    }
   ],
   "source": [
    "!pip install folium"
   ]
  },
  {
   "cell_type": "code",
   "execution_count": 6,
   "metadata": {},
   "outputs": [],
   "source": [
    "import folium\n",
    "from folium import plugins"
   ]
  },
  {
   "cell_type": "code",
   "execution_count": 8,
   "metadata": {},
   "outputs": [
    {
     "data": {
      "text/html": [
       "<div style=\"width:100%;\"><div style=\"position:relative;width:100%;height:0;padding-bottom:60%;\"><iframe src=\"data:text/html;charset=utf-8;base64,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\" style=\"position:absolute;width:100%;height:100%;left:0;top:0;border:none !important;\" allowfullscreen webkitallowfullscreen mozallowfullscreen></iframe></div></div>"
      ],
      "text/plain": [
       "<folium.folium.Map at 0x12f357c0048>"
      ]
     },
     "execution_count": 8,
     "metadata": {},
     "output_type": "execute_result"
    }
   ],
   "source": [
    "world = folium.Map()\n",
    "world"
   ]
  },
  {
   "cell_type": "code",
   "execution_count": 7,
   "metadata": {
    "scrolled": true
   },
   "outputs": [
    {
     "data": {
      "text/html": [
       "<div style=\"width:100%;\"><div style=\"position:relative;width:100%;height:0;padding-bottom:60%;\"><iframe src=\"data:text/html;charset=utf-8;base64,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\" style=\"position:absolute;width:100%;height:100%;left:0;top:0;border:none !important;\" allowfullscreen webkitallowfullscreen mozallowfullscreen></iframe></div></div>"
      ],
      "text/plain": [
       "<folium.folium.Map at 0x12f35973e48>"
      ]
     },
     "execution_count": 7,
     "metadata": {},
     "output_type": "execute_result"
    }
   ],
   "source": [
    "latvijas_universitate = folium.Map(location=[56.95080,24.11650],\n",
    "                    zoom_start = 20)\n",
    "latvijas_universitate"
   ]
  },
  {
   "cell_type": "code",
   "execution_count": 9,
   "metadata": {},
   "outputs": [],
   "source": [
    "import pandas as pd"
   ]
  },
  {
   "cell_type": "code",
   "execution_count": 11,
   "metadata": {},
   "outputs": [],
   "source": [
    "import json"
   ]
  },
  {
   "cell_type": "code",
   "execution_count": 17,
   "metadata": {},
   "outputs": [
    {
     "name": "stdout",
     "output_type": "stream",
     "text": [
      " Volume in drive C is Windows\n",
      " Volume Serial Number is 5AA0-2A07\n",
      "\n",
      " Directory of C:\\Users\\val-p1\\Github\\RCS_Data_Analysis_Python_2019\\Folium\n",
      "\n",
      "04/18/2019  05:17 PM    <DIR>          .\n",
      "04/18/2019  05:17 PM    <DIR>          ..\n",
      "04/18/2019  05:01 PM    <DIR>          .ipynb_checkpoints\n",
      "04/17/2019  01:11 PM           448,259 FOLIUM.ipynb\n",
      "04/18/2019  05:17 PM            41,720 FOLIUM_in_class.ipynb\n",
      "04/17/2019  01:11 PM               419 README.md\n",
      "04/17/2019  01:11 PM            49,467 riga.json\n",
      "04/17/2019  01:11 PM            87,739 us-states.json\n",
      "04/17/2019  01:11 PM               417 US_Unemployment_Oct2012.csv\n",
      "               6 File(s)        628,021 bytes\n",
      "               3 Dir(s)  447,418,155,008 bytes free\n"
     ]
    }
   ],
   "source": [
    "!dir"
   ]
  },
  {
   "cell_type": "code",
   "execution_count": 16,
   "metadata": {},
   "outputs": [
    {
     "ename": "FileNotFoundError",
     "evalue": "[Errno 2] No such file or directory: 'cities.json'",
     "output_type": "error",
     "traceback": [
      "\u001b[1;31m---------------------------------------------------------------------------\u001b[0m",
      "\u001b[1;31mFileNotFoundError\u001b[0m                         Traceback (most recent call last)",
      "\u001b[1;32m<ipython-input-16-4e9670e0707d>\u001b[0m in \u001b[0;36m<module>\u001b[1;34m\u001b[0m\n\u001b[1;32m----> 1\u001b[1;33m \u001b[1;32mwith\u001b[0m \u001b[0mopen\u001b[0m\u001b[1;33m(\u001b[0m\u001b[1;34m'cities.json'\u001b[0m\u001b[1;33m)\u001b[0m \u001b[1;32mas\u001b[0m \u001b[0mfile_in\u001b[0m\u001b[1;33m:\u001b[0m\u001b[1;33m\u001b[0m\u001b[1;33m\u001b[0m\u001b[0m\n\u001b[0m\u001b[0;32m      2\u001b[0m     \u001b[0mmydata\u001b[0m \u001b[1;33m=\u001b[0m \u001b[0mjson\u001b[0m\u001b[1;33m.\u001b[0m\u001b[0mloads\u001b[0m\u001b[1;33m(\u001b[0m\u001b[0mfile_in\u001b[0m\u001b[1;33m.\u001b[0m\u001b[0mread\u001b[0m\u001b[1;33m(\u001b[0m\u001b[1;33m)\u001b[0m\u001b[1;33m)\u001b[0m\u001b[1;33m\u001b[0m\u001b[1;33m\u001b[0m\u001b[0m\n",
      "\u001b[1;31mFileNotFoundError\u001b[0m: [Errno 2] No such file or directory: 'cities.json'"
     ]
    }
   ],
   "source": [
    "with open('cities.json') as file_in:\n",
    "    mydata = json.loads(file_in.read())"
   ]
  },
  {
   "cell_type": "code",
   "execution_count": 19,
   "metadata": {},
   "outputs": [
    {
     "data": {
      "text/html": [
       "<div>\n",
       "<style scoped>\n",
       "    .dataframe tbody tr th:only-of-type {\n",
       "        vertical-align: middle;\n",
       "    }\n",
       "\n",
       "    .dataframe tbody tr th {\n",
       "        vertical-align: top;\n",
       "    }\n",
       "\n",
       "    .dataframe thead th {\n",
       "        text-align: right;\n",
       "    }\n",
       "</style>\n",
       "<table border=\"1\" class=\"dataframe\">\n",
       "  <thead>\n",
       "    <tr style=\"text-align: right;\">\n",
       "      <th></th>\n",
       "      <th>country</th>\n",
       "      <th>lat</th>\n",
       "      <th>lng</th>\n",
       "      <th>name</th>\n",
       "    </tr>\n",
       "  </thead>\n",
       "  <tbody>\n",
       "    <tr>\n",
       "      <th>20</th>\n",
       "      <td>AE</td>\n",
       "      <td>24.19167</td>\n",
       "      <td>55.76056</td>\n",
       "      <td>Al Ain</td>\n",
       "    </tr>\n",
       "    <tr>\n",
       "      <th>21</th>\n",
       "      <td>AE</td>\n",
       "      <td>25.41111</td>\n",
       "      <td>55.43504</td>\n",
       "      <td>Ajman</td>\n",
       "    </tr>\n",
       "    <tr>\n",
       "      <th>22</th>\n",
       "      <td>AE</td>\n",
       "      <td>25.28812</td>\n",
       "      <td>55.88157</td>\n",
       "      <td>Adh Dhayd</td>\n",
       "    </tr>\n",
       "    <tr>\n",
       "      <th>23</th>\n",
       "      <td>AE</td>\n",
       "      <td>24.46667</td>\n",
       "      <td>54.36667</td>\n",
       "      <td>Abu Dhabi</td>\n",
       "    </tr>\n",
       "    <tr>\n",
       "      <th>24</th>\n",
       "      <td>AF</td>\n",
       "      <td>33.54149</td>\n",
       "      <td>69.73446</td>\n",
       "      <td>Zorkot</td>\n",
       "    </tr>\n",
       "    <tr>\n",
       "      <th>25</th>\n",
       "      <td>AF</td>\n",
       "      <td>34.34360</td>\n",
       "      <td>67.90567</td>\n",
       "      <td>Wulêswālī Bihsūd</td>\n",
       "    </tr>\n",
       "    <tr>\n",
       "      <th>26</th>\n",
       "      <td>AF</td>\n",
       "      <td>34.65389</td>\n",
       "      <td>61.19778</td>\n",
       "      <td>Kuhsān</td>\n",
       "    </tr>\n",
       "    <tr>\n",
       "      <th>27</th>\n",
       "      <td>AF</td>\n",
       "      <td>35.37820</td>\n",
       "      <td>64.77457</td>\n",
       "      <td>Lāsh</td>\n",
       "    </tr>\n",
       "    <tr>\n",
       "      <th>28</th>\n",
       "      <td>AF</td>\n",
       "      <td>35.94831</td>\n",
       "      <td>66.42132</td>\n",
       "      <td>Tukzār</td>\n",
       "    </tr>\n",
       "    <tr>\n",
       "      <th>29</th>\n",
       "      <td>AF</td>\n",
       "      <td>33.32462</td>\n",
       "      <td>68.44068</td>\n",
       "      <td>Mīray</td>\n",
       "    </tr>\n",
       "  </tbody>\n",
       "</table>\n",
       "</div>"
      ],
      "text/plain": [
       "   country       lat       lng              name\n",
       "20      AE  24.19167  55.76056            Al Ain\n",
       "21      AE  25.41111  55.43504             Ajman\n",
       "22      AE  25.28812  55.88157         Adh Dhayd\n",
       "23      AE  24.46667  54.36667         Abu Dhabi\n",
       "24      AF  33.54149  69.73446            Zorkot\n",
       "25      AF  34.34360  67.90567  Wulêswālī Bihsūd\n",
       "26      AF  34.65389  61.19778            Kuhsān\n",
       "27      AF  35.37820  64.77457              Lāsh\n",
       "28      AF  35.94831  66.42132            Tukzār\n",
       "29      AF  33.32462  68.44068             Mīray"
      ]
     },
     "execution_count": 19,
     "metadata": {},
     "output_type": "execute_result"
    }
   ],
   "source": [
    "df = pd.read_json('cities.json', encoding=\"UTF-8\")\n",
    "#df = pd.read_json('riga.json', encoding=\"UTF-8\")\n",
    "df[20:30]"
   ]
  },
  {
   "cell_type": "code",
   "execution_count": 20,
   "metadata": {},
   "outputs": [],
   "source": [
    "df.index = df['name']"
   ]
  },
  {
   "cell_type": "code",
   "execution_count": 21,
   "metadata": {},
   "outputs": [
    {
     "data": {
      "text/html": [
       "<div>\n",
       "<style scoped>\n",
       "    .dataframe tbody tr th:only-of-type {\n",
       "        vertical-align: middle;\n",
       "    }\n",
       "\n",
       "    .dataframe tbody tr th {\n",
       "        vertical-align: top;\n",
       "    }\n",
       "\n",
       "    .dataframe thead th {\n",
       "        text-align: right;\n",
       "    }\n",
       "</style>\n",
       "<table border=\"1\" class=\"dataframe\">\n",
       "  <thead>\n",
       "    <tr style=\"text-align: right;\">\n",
       "      <th></th>\n",
       "      <th>country</th>\n",
       "      <th>lat</th>\n",
       "      <th>lng</th>\n",
       "      <th>name</th>\n",
       "    </tr>\n",
       "    <tr>\n",
       "      <th>name</th>\n",
       "      <th></th>\n",
       "      <th></th>\n",
       "      <th></th>\n",
       "      <th></th>\n",
       "    </tr>\n",
       "  </thead>\n",
       "  <tbody>\n",
       "    <tr>\n",
       "      <th>Sant Julià de Lòria</th>\n",
       "      <td>AD</td>\n",
       "      <td>42.46372</td>\n",
       "      <td>1.49129</td>\n",
       "      <td>Sant Julià de Lòria</td>\n",
       "    </tr>\n",
       "    <tr>\n",
       "      <th>Pas de la Casa</th>\n",
       "      <td>AD</td>\n",
       "      <td>42.54277</td>\n",
       "      <td>1.73361</td>\n",
       "      <td>Pas de la Casa</td>\n",
       "    </tr>\n",
       "    <tr>\n",
       "      <th>Ordino</th>\n",
       "      <td>AD</td>\n",
       "      <td>42.55623</td>\n",
       "      <td>1.53319</td>\n",
       "      <td>Ordino</td>\n",
       "    </tr>\n",
       "    <tr>\n",
       "      <th>les Escaldes</th>\n",
       "      <td>AD</td>\n",
       "      <td>42.50729</td>\n",
       "      <td>1.53414</td>\n",
       "      <td>les Escaldes</td>\n",
       "    </tr>\n",
       "    <tr>\n",
       "      <th>la Massana</th>\n",
       "      <td>AD</td>\n",
       "      <td>42.54499</td>\n",
       "      <td>1.51483</td>\n",
       "      <td>la Massana</td>\n",
       "    </tr>\n",
       "  </tbody>\n",
       "</table>\n",
       "</div>"
      ],
      "text/plain": [
       "                    country       lat      lng                 name\n",
       "name                                                               \n",
       "Sant Julià de Lòria      AD  42.46372  1.49129  Sant Julià de Lòria\n",
       "Pas de la Casa           AD  42.54277  1.73361       Pas de la Casa\n",
       "Ordino                   AD  42.55623  1.53319               Ordino\n",
       "les Escaldes             AD  42.50729  1.53414         les Escaldes\n",
       "la Massana               AD  42.54499  1.51483           la Massana"
      ]
     },
     "execution_count": 21,
     "metadata": {},
     "output_type": "execute_result"
    }
   ],
   "source": [
    "df.head()"
   ]
  },
  {
   "cell_type": "code",
   "execution_count": 22,
   "metadata": {},
   "outputs": [
    {
     "ename": "SyntaxError",
     "evalue": "invalid syntax (<ipython-input-22-b054a1f74ae9>, line 1)",
     "output_type": "error",
     "traceback": [
      "\u001b[1;36m  File \u001b[1;32m\"<ipython-input-22-b054a1f74ae9>\"\u001b[1;36m, line \u001b[1;32m1\u001b[0m\n\u001b[1;33m    'Riga' in df.loc[]\u001b[0m\n\u001b[1;37m                     ^\u001b[0m\n\u001b[1;31mSyntaxError\u001b[0m\u001b[1;31m:\u001b[0m invalid syntax\n"
     ]
    }
   ],
   "source": [
    "'Riga' in df.loc[]"
   ]
  },
  {
   "cell_type": "code",
   "execution_count": 25,
   "metadata": {},
   "outputs": [
    {
     "data": {
      "text/html": [
       "<div>\n",
       "<style scoped>\n",
       "    .dataframe tbody tr th:only-of-type {\n",
       "        vertical-align: middle;\n",
       "    }\n",
       "\n",
       "    .dataframe tbody tr th {\n",
       "        vertical-align: top;\n",
       "    }\n",
       "\n",
       "    .dataframe thead th {\n",
       "        text-align: right;\n",
       "    }\n",
       "</style>\n",
       "<table border=\"1\" class=\"dataframe\">\n",
       "  <thead>\n",
       "    <tr style=\"text-align: right;\">\n",
       "      <th></th>\n",
       "      <th>country</th>\n",
       "      <th>lat</th>\n",
       "      <th>lng</th>\n",
       "      <th>name</th>\n",
       "    </tr>\n",
       "    <tr>\n",
       "      <th>name</th>\n",
       "      <th></th>\n",
       "      <th></th>\n",
       "      <th></th>\n",
       "      <th></th>\n",
       "    </tr>\n",
       "  </thead>\n",
       "  <tbody>\n",
       "    <tr>\n",
       "      <th>Riga</th>\n",
       "      <td>LV</td>\n",
       "      <td>56.946</td>\n",
       "      <td>24.10589</td>\n",
       "      <td>Riga</td>\n",
       "    </tr>\n",
       "  </tbody>\n",
       "</table>\n",
       "</div>"
      ],
      "text/plain": [
       "     country     lat       lng  name\n",
       "name                                \n",
       "Riga      LV  56.946  24.10589  Riga"
      ]
     },
     "execution_count": 25,
     "metadata": {},
     "output_type": "execute_result"
    }
   ],
   "source": [
    "df.loc[['Riga']]"
   ]
  },
  {
   "cell_type": "code",
   "execution_count": 24,
   "metadata": {},
   "outputs": [
    {
     "data": {
      "text/html": [
       "<div>\n",
       "<style scoped>\n",
       "    .dataframe tbody tr th:only-of-type {\n",
       "        vertical-align: middle;\n",
       "    }\n",
       "\n",
       "    .dataframe tbody tr th {\n",
       "        vertical-align: top;\n",
       "    }\n",
       "\n",
       "    .dataframe thead th {\n",
       "        text-align: right;\n",
       "    }\n",
       "</style>\n",
       "<table border=\"1\" class=\"dataframe\">\n",
       "  <thead>\n",
       "    <tr style=\"text-align: right;\">\n",
       "      <th></th>\n",
       "      <th>country</th>\n",
       "      <th>lat</th>\n",
       "      <th>lng</th>\n",
       "      <th>name</th>\n",
       "    </tr>\n",
       "    <tr>\n",
       "      <th>name</th>\n",
       "      <th></th>\n",
       "      <th></th>\n",
       "      <th></th>\n",
       "      <th></th>\n",
       "    </tr>\n",
       "  </thead>\n",
       "  <tbody>\n",
       "    <tr>\n",
       "      <th>Riga</th>\n",
       "      <td>LV</td>\n",
       "      <td>56.946</td>\n",
       "      <td>24.10589</td>\n",
       "      <td>Riga</td>\n",
       "    </tr>\n",
       "  </tbody>\n",
       "</table>\n",
       "</div>"
      ],
      "text/plain": [
       "     country     lat       lng  name\n",
       "name                                \n",
       "Riga      LV  56.946  24.10589  Riga"
      ]
     },
     "execution_count": 24,
     "metadata": {},
     "output_type": "execute_result"
    }
   ],
   "source": [
    "Riga = df[df.name == 'Riga']\n",
    "Riga"
   ]
  },
  {
   "cell_type": "code",
   "execution_count": null,
   "metadata": {},
   "outputs": [],
   "source": []
  },
  {
   "cell_type": "code",
   "execution_count": 26,
   "metadata": {},
   "outputs": [
    {
     "data": {
      "text/html": [
       "<div>\n",
       "<style scoped>\n",
       "    .dataframe tbody tr th:only-of-type {\n",
       "        vertical-align: middle;\n",
       "    }\n",
       "\n",
       "    .dataframe tbody tr th {\n",
       "        vertical-align: top;\n",
       "    }\n",
       "\n",
       "    .dataframe thead th {\n",
       "        text-align: right;\n",
       "    }\n",
       "</style>\n",
       "<table border=\"1\" class=\"dataframe\">\n",
       "  <thead>\n",
       "    <tr style=\"text-align: right;\">\n",
       "      <th></th>\n",
       "      <th>country</th>\n",
       "      <th>lat</th>\n",
       "      <th>lng</th>\n",
       "      <th>name</th>\n",
       "    </tr>\n",
       "    <tr>\n",
       "      <th>name</th>\n",
       "      <th></th>\n",
       "      <th></th>\n",
       "      <th></th>\n",
       "      <th></th>\n",
       "    </tr>\n",
       "  </thead>\n",
       "  <tbody>\n",
       "    <tr>\n",
       "      <th>Sant Julià de Lòria</th>\n",
       "      <td>AD</td>\n",
       "      <td>42.46372</td>\n",
       "      <td>1.49129</td>\n",
       "      <td>Sant Julià de Lòria</td>\n",
       "    </tr>\n",
       "    <tr>\n",
       "      <th>Pas de la Casa</th>\n",
       "      <td>AD</td>\n",
       "      <td>42.54277</td>\n",
       "      <td>1.73361</td>\n",
       "      <td>Pas de la Casa</td>\n",
       "    </tr>\n",
       "    <tr>\n",
       "      <th>Ordino</th>\n",
       "      <td>AD</td>\n",
       "      <td>42.55623</td>\n",
       "      <td>1.53319</td>\n",
       "      <td>Ordino</td>\n",
       "    </tr>\n",
       "    <tr>\n",
       "      <th>les Escaldes</th>\n",
       "      <td>AD</td>\n",
       "      <td>42.50729</td>\n",
       "      <td>1.53414</td>\n",
       "      <td>les Escaldes</td>\n",
       "    </tr>\n",
       "    <tr>\n",
       "      <th>la Massana</th>\n",
       "      <td>AD</td>\n",
       "      <td>42.54499</td>\n",
       "      <td>1.51483</td>\n",
       "      <td>la Massana</td>\n",
       "    </tr>\n",
       "    <tr>\n",
       "      <th>Encamp</th>\n",
       "      <td>AD</td>\n",
       "      <td>42.53474</td>\n",
       "      <td>1.58014</td>\n",
       "      <td>Encamp</td>\n",
       "    </tr>\n",
       "    <tr>\n",
       "      <th>Canillo</th>\n",
       "      <td>AD</td>\n",
       "      <td>42.56760</td>\n",
       "      <td>1.59756</td>\n",
       "      <td>Canillo</td>\n",
       "    </tr>\n",
       "    <tr>\n",
       "      <th>Arinsal</th>\n",
       "      <td>AD</td>\n",
       "      <td>42.57205</td>\n",
       "      <td>1.48453</td>\n",
       "      <td>Arinsal</td>\n",
       "    </tr>\n",
       "    <tr>\n",
       "      <th>Andorra la Vella</th>\n",
       "      <td>AD</td>\n",
       "      <td>42.50779</td>\n",
       "      <td>1.52109</td>\n",
       "      <td>Andorra la Vella</td>\n",
       "    </tr>\n",
       "    <tr>\n",
       "      <th>Umm al Qaywayn</th>\n",
       "      <td>AE</td>\n",
       "      <td>25.56473</td>\n",
       "      <td>55.55517</td>\n",
       "      <td>Umm al Qaywayn</td>\n",
       "    </tr>\n",
       "    <tr>\n",
       "      <th>Ras al-Khaimah</th>\n",
       "      <td>AE</td>\n",
       "      <td>25.78953</td>\n",
       "      <td>55.94320</td>\n",
       "      <td>Ras al-Khaimah</td>\n",
       "    </tr>\n",
       "    <tr>\n",
       "      <th>Muzayri‘</th>\n",
       "      <td>AE</td>\n",
       "      <td>23.14355</td>\n",
       "      <td>53.78810</td>\n",
       "      <td>Muzayri‘</td>\n",
       "    </tr>\n",
       "    <tr>\n",
       "      <th>Murbaḩ</th>\n",
       "      <td>AE</td>\n",
       "      <td>25.27623</td>\n",
       "      <td>56.36256</td>\n",
       "      <td>Murbaḩ</td>\n",
       "    </tr>\n",
       "    <tr>\n",
       "      <th>Khawr Fakkān</th>\n",
       "      <td>AE</td>\n",
       "      <td>25.33132</td>\n",
       "      <td>56.34199</td>\n",
       "      <td>Khawr Fakkān</td>\n",
       "    </tr>\n",
       "    <tr>\n",
       "      <th>Dubai</th>\n",
       "      <td>AE</td>\n",
       "      <td>25.06570</td>\n",
       "      <td>55.17128</td>\n",
       "      <td>Dubai</td>\n",
       "    </tr>\n",
       "    <tr>\n",
       "      <th>Dibba Al-Fujairah</th>\n",
       "      <td>AE</td>\n",
       "      <td>25.59246</td>\n",
       "      <td>56.26176</td>\n",
       "      <td>Dibba Al-Fujairah</td>\n",
       "    </tr>\n",
       "    <tr>\n",
       "      <th>Dibba Al-Hisn</th>\n",
       "      <td>AE</td>\n",
       "      <td>25.61955</td>\n",
       "      <td>56.27291</td>\n",
       "      <td>Dibba Al-Hisn</td>\n",
       "    </tr>\n",
       "    <tr>\n",
       "      <th>Sharjah</th>\n",
       "      <td>AE</td>\n",
       "      <td>25.33737</td>\n",
       "      <td>55.41206</td>\n",
       "      <td>Sharjah</td>\n",
       "    </tr>\n",
       "    <tr>\n",
       "      <th>Ar Ruways</th>\n",
       "      <td>AE</td>\n",
       "      <td>24.11028</td>\n",
       "      <td>52.73056</td>\n",
       "      <td>Ar Ruways</td>\n",
       "    </tr>\n",
       "    <tr>\n",
       "      <th>Al Fujayrah</th>\n",
       "      <td>AE</td>\n",
       "      <td>25.11641</td>\n",
       "      <td>56.34141</td>\n",
       "      <td>Al Fujayrah</td>\n",
       "    </tr>\n",
       "    <tr>\n",
       "      <th>Al Ain</th>\n",
       "      <td>AE</td>\n",
       "      <td>24.19167</td>\n",
       "      <td>55.76056</td>\n",
       "      <td>Al Ain</td>\n",
       "    </tr>\n",
       "    <tr>\n",
       "      <th>Ajman</th>\n",
       "      <td>AE</td>\n",
       "      <td>25.41111</td>\n",
       "      <td>55.43504</td>\n",
       "      <td>Ajman</td>\n",
       "    </tr>\n",
       "    <tr>\n",
       "      <th>Adh Dhayd</th>\n",
       "      <td>AE</td>\n",
       "      <td>25.28812</td>\n",
       "      <td>55.88157</td>\n",
       "      <td>Adh Dhayd</td>\n",
       "    </tr>\n",
       "    <tr>\n",
       "      <th>Abu Dhabi</th>\n",
       "      <td>AE</td>\n",
       "      <td>24.46667</td>\n",
       "      <td>54.36667</td>\n",
       "      <td>Abu Dhabi</td>\n",
       "    </tr>\n",
       "    <tr>\n",
       "      <th>Zorkot</th>\n",
       "      <td>AF</td>\n",
       "      <td>33.54149</td>\n",
       "      <td>69.73446</td>\n",
       "      <td>Zorkot</td>\n",
       "    </tr>\n",
       "    <tr>\n",
       "      <th>Wulêswālī Bihsūd</th>\n",
       "      <td>AF</td>\n",
       "      <td>34.34360</td>\n",
       "      <td>67.90567</td>\n",
       "      <td>Wulêswālī Bihsūd</td>\n",
       "    </tr>\n",
       "    <tr>\n",
       "      <th>Kuhsān</th>\n",
       "      <td>AF</td>\n",
       "      <td>34.65389</td>\n",
       "      <td>61.19778</td>\n",
       "      <td>Kuhsān</td>\n",
       "    </tr>\n",
       "    <tr>\n",
       "      <th>Lāsh</th>\n",
       "      <td>AF</td>\n",
       "      <td>35.37820</td>\n",
       "      <td>64.77457</td>\n",
       "      <td>Lāsh</td>\n",
       "    </tr>\n",
       "    <tr>\n",
       "      <th>Tukzār</th>\n",
       "      <td>AF</td>\n",
       "      <td>35.94831</td>\n",
       "      <td>66.42132</td>\n",
       "      <td>Tukzār</td>\n",
       "    </tr>\n",
       "    <tr>\n",
       "      <th>Mīray</th>\n",
       "      <td>AF</td>\n",
       "      <td>33.32462</td>\n",
       "      <td>68.44068</td>\n",
       "      <td>Mīray</td>\n",
       "    </tr>\n",
       "    <tr>\n",
       "      <th>Āq Kupruk</th>\n",
       "      <td>AF</td>\n",
       "      <td>36.08352</td>\n",
       "      <td>66.84029</td>\n",
       "      <td>Āq Kupruk</td>\n",
       "    </tr>\n",
       "    <tr>\n",
       "      <th>Zurmat</th>\n",
       "      <td>AF</td>\n",
       "      <td>33.43778</td>\n",
       "      <td>69.02774</td>\n",
       "      <td>Zurmat</td>\n",
       "    </tr>\n",
       "    <tr>\n",
       "      <th>Zaybāk</th>\n",
       "      <td>AF</td>\n",
       "      <td>36.52947</td>\n",
       "      <td>71.34410</td>\n",
       "      <td>Zaybāk</td>\n",
       "    </tr>\n",
       "    <tr>\n",
       "      <th>Zīārat-e Shāh Maqşūd</th>\n",
       "      <td>AF</td>\n",
       "      <td>31.98480</td>\n",
       "      <td>65.47360</td>\n",
       "      <td>Zīārat-e Shāh Maqşūd</td>\n",
       "    </tr>\n",
       "    <tr>\n",
       "      <th>Zindah Jān</th>\n",
       "      <td>AF</td>\n",
       "      <td>34.34264</td>\n",
       "      <td>61.74675</td>\n",
       "      <td>Zindah Jān</td>\n",
       "    </tr>\n",
       "    <tr>\n",
       "      <th>Zarghūn Shahr</th>\n",
       "      <td>AF</td>\n",
       "      <td>32.84734</td>\n",
       "      <td>68.44573</td>\n",
       "      <td>Zarghūn Shahr</td>\n",
       "    </tr>\n",
       "    <tr>\n",
       "      <th>Zaṟah Sharan</th>\n",
       "      <td>AF</td>\n",
       "      <td>33.14641</td>\n",
       "      <td>68.79213</td>\n",
       "      <td>Zaṟah Sharan</td>\n",
       "    </tr>\n",
       "    <tr>\n",
       "      <th>Zaranj</th>\n",
       "      <td>AF</td>\n",
       "      <td>30.95962</td>\n",
       "      <td>61.86037</td>\n",
       "      <td>Zaranj</td>\n",
       "    </tr>\n",
       "    <tr>\n",
       "      <th>Zamtō Kêlay</th>\n",
       "      <td>AF</td>\n",
       "      <td>32.37260</td>\n",
       "      <td>66.17708</td>\n",
       "      <td>Zamtō Kêlay</td>\n",
       "    </tr>\n",
       "    <tr>\n",
       "      <th>Yangī Qal‘ah</th>\n",
       "      <td>AF</td>\n",
       "      <td>37.46572</td>\n",
       "      <td>69.61131</td>\n",
       "      <td>Yangī Qal‘ah</td>\n",
       "    </tr>\n",
       "  </tbody>\n",
       "</table>\n",
       "</div>"
      ],
      "text/plain": [
       "                     country       lat       lng                  name\n",
       "name                                                                  \n",
       "Sant Julià de Lòria       AD  42.46372   1.49129   Sant Julià de Lòria\n",
       "Pas de la Casa            AD  42.54277   1.73361        Pas de la Casa\n",
       "Ordino                    AD  42.55623   1.53319                Ordino\n",
       "les Escaldes              AD  42.50729   1.53414          les Escaldes\n",
       "la Massana                AD  42.54499   1.51483            la Massana\n",
       "Encamp                    AD  42.53474   1.58014                Encamp\n",
       "Canillo                   AD  42.56760   1.59756               Canillo\n",
       "Arinsal                   AD  42.57205   1.48453               Arinsal\n",
       "Andorra la Vella          AD  42.50779   1.52109      Andorra la Vella\n",
       "Umm al Qaywayn            AE  25.56473  55.55517        Umm al Qaywayn\n",
       "Ras al-Khaimah            AE  25.78953  55.94320        Ras al-Khaimah\n",
       "Muzayri‘                  AE  23.14355  53.78810              Muzayri‘\n",
       "Murbaḩ                    AE  25.27623  56.36256                Murbaḩ\n",
       "Khawr Fakkān              AE  25.33132  56.34199          Khawr Fakkān\n",
       "Dubai                     AE  25.06570  55.17128                 Dubai\n",
       "Dibba Al-Fujairah         AE  25.59246  56.26176     Dibba Al-Fujairah\n",
       "Dibba Al-Hisn             AE  25.61955  56.27291         Dibba Al-Hisn\n",
       "Sharjah                   AE  25.33737  55.41206               Sharjah\n",
       "Ar Ruways                 AE  24.11028  52.73056             Ar Ruways\n",
       "Al Fujayrah               AE  25.11641  56.34141           Al Fujayrah\n",
       "Al Ain                    AE  24.19167  55.76056                Al Ain\n",
       "Ajman                     AE  25.41111  55.43504                 Ajman\n",
       "Adh Dhayd                 AE  25.28812  55.88157             Adh Dhayd\n",
       "Abu Dhabi                 AE  24.46667  54.36667             Abu Dhabi\n",
       "Zorkot                    AF  33.54149  69.73446                Zorkot\n",
       "Wulêswālī Bihsūd          AF  34.34360  67.90567      Wulêswālī Bihsūd\n",
       "Kuhsān                    AF  34.65389  61.19778                Kuhsān\n",
       "Lāsh                      AF  35.37820  64.77457                  Lāsh\n",
       "Tukzār                    AF  35.94831  66.42132                Tukzār\n",
       "Mīray                     AF  33.32462  68.44068                 Mīray\n",
       "Āq Kupruk                 AF  36.08352  66.84029             Āq Kupruk\n",
       "Zurmat                    AF  33.43778  69.02774                Zurmat\n",
       "Zaybāk                    AF  36.52947  71.34410                Zaybāk\n",
       "Zīārat-e Shāh Maqşūd      AF  31.98480  65.47360  Zīārat-e Shāh Maqşūd\n",
       "Zindah Jān                AF  34.34264  61.74675            Zindah Jān\n",
       "Zarghūn Shahr             AF  32.84734  68.44573         Zarghūn Shahr\n",
       "Zaṟah Sharan              AF  33.14641  68.79213          Zaṟah Sharan\n",
       "Zaranj                    AF  30.95962  61.86037                Zaranj\n",
       "Zamtō Kêlay               AF  32.37260  66.17708           Zamtō Kêlay\n",
       "Yangī Qal‘ah              AF  37.46572  69.61131          Yangī Qal‘ah"
      ]
     },
     "execution_count": 26,
     "metadata": {},
     "output_type": "execute_result"
    }
   ],
   "source": [
    "df.head(40)"
   ]
  },
  {
   "cell_type": "code",
   "execution_count": 27,
   "metadata": {},
   "outputs": [],
   "source": [
    "def getCity(cityName):\n",
    "    cityFrame = pd.read_json('cities.json', encoding=\"UTF-8\")\n",
    "    city = cityFrame[cityFrame.name == cityName]\n",
    "    return [float(city.lat), float(city.lng)]"
   ]
  },
  {
   "cell_type": "code",
   "execution_count": 28,
   "metadata": {},
   "outputs": [
    {
     "data": {
      "text/plain": [
       "[56.946, 24.10589]"
      ]
     },
     "execution_count": 28,
     "metadata": {},
     "output_type": "execute_result"
    }
   ],
   "source": [
    "getCity('Riga')"
   ]
  },
  {
   "cell_type": "code",
   "execution_count": 29,
   "metadata": {},
   "outputs": [
    {
     "data": {
      "text/plain": [
       "[56.8162, 24.61401]"
      ]
     },
     "execution_count": 29,
     "metadata": {},
     "output_type": "execute_result"
    }
   ],
   "source": [
    "getCity('Ogre')"
   ]
  },
  {
   "cell_type": "code",
   "execution_count": 33,
   "metadata": {},
   "outputs": [
    {
     "data": {
      "text/html": [
       "<div style=\"width:100%;\"><div style=\"position:relative;width:100%;height:0;padding-bottom:60%;\"><iframe src=\"data:text/html;charset=utf-8;base64,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\" style=\"position:absolute;width:100%;height:100%;left:0;top:0;border:none !important;\" allowfullscreen webkitallowfullscreen mozallowfullscreen></iframe></div></div>"
      ],
      "text/plain": [
       "<folium.folium.Map at 0x12f35b35d68>"
      ]
     },
     "execution_count": 33,
     "metadata": {},
     "output_type": "execute_result"
    }
   ],
   "source": [
    "ogre = folium.Map(location=getCity('Ogre'), zoom_start = 10)\n",
    "ogre "
   ]
  },
  {
   "cell_type": "code",
   "execution_count": 34,
   "metadata": {},
   "outputs": [
    {
     "data": {
      "text/html": [
       "<div style=\"width:100%;\"><div style=\"position:relative;width:100%;height:0;padding-bottom:60%;\"><iframe src=\"data:text/html;charset=utf-8;base64,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\" style=\"position:absolute;width:100%;height:100%;left:0;top:0;border:none !important;\" allowfullscreen webkitallowfullscreen mozallowfullscreen></iframe></div></div>"
      ],
      "text/plain": [
       "<folium.folium.Map at 0x12f35ea8080>"
      ]
     },
     "execution_count": 34,
     "metadata": {},
     "output_type": "execute_result"
    }
   ],
   "source": [
    "latvijas_universitate = folium.Map(location=[56.95080,24.11650],\n",
    "                        tiles = \"Stamen Terrain\",\n",
    "                        zoom_start = 15)\n",
    "latvijas_universitate"
   ]
  },
  {
   "cell_type": "code",
   "execution_count": null,
   "metadata": {},
   "outputs": [],
   "source": [
    "clean_map = folium.Map()\n",
    "clean_map"
   ]
  },
  {
   "cell_type": "code",
   "execution_count": null,
   "metadata": {},
   "outputs": [],
   "source": [
    "latvijas_universitate = folium.Map(location=[56.95080,24.11650],\n",
    "                        tiles = \"Stamen Toner\",\n",
    "                        zoom_start = 20)\n",
    "latvijas_universitate"
   ]
  },
  {
   "cell_type": "code",
   "execution_count": 47,
   "metadata": {},
   "outputs": [
    {
     "data": {
      "text/html": [
       "<div style=\"width:100%;\"><div style=\"position:relative;width:100%;height:0;padding-bottom:60%;\"><iframe src=\"data:text/html;charset=utf-8;base64,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\" style=\"position:absolute;width:100%;height:100%;left:0;top:0;border:none !important;\" allowfullscreen webkitallowfullscreen mozallowfullscreen></iframe></div></div>"
      ],
      "text/plain": [
       "<folium.folium.Map at 0x12f35b35d68>"
      ]
     },
     "execution_count": 47,
     "metadata": {},
     "output_type": "execute_result"
    }
   ],
   "source": [
    "latvijas_universitate = folium.Map(location=[56.95080,24.11650],\n",
    "                        width=500, height=500, #var nodefinēt dimensijas\n",
    "                        zoom_start = 20)\n",
    "\n",
    "latvijas_universitate\n",
    "\n",
    "folium.Marker([56.95080,24.11650], tooltip='LU',popup='Latvijas universitāte').add_to(ogre)\n",
    "ogre"
   ]
  },
  {
   "cell_type": "code",
   "execution_count": 36,
   "metadata": {},
   "outputs": [
    {
     "data": {
      "text/html": [
       "<div>\n",
       "<style scoped>\n",
       "    .dataframe tbody tr th:only-of-type {\n",
       "        vertical-align: middle;\n",
       "    }\n",
       "\n",
       "    .dataframe tbody tr th {\n",
       "        vertical-align: top;\n",
       "    }\n",
       "\n",
       "    .dataframe thead th {\n",
       "        text-align: right;\n",
       "    }\n",
       "</style>\n",
       "<table border=\"1\" class=\"dataframe\">\n",
       "  <thead>\n",
       "    <tr style=\"text-align: right;\">\n",
       "      <th></th>\n",
       "      <th>country</th>\n",
       "      <th>lat</th>\n",
       "      <th>lng</th>\n",
       "      <th>name</th>\n",
       "    </tr>\n",
       "    <tr>\n",
       "      <th>name</th>\n",
       "      <th></th>\n",
       "      <th></th>\n",
       "      <th></th>\n",
       "      <th></th>\n",
       "    </tr>\n",
       "  </thead>\n",
       "  <tbody>\n",
       "    <tr>\n",
       "      <th>Sant Julià de Lòria</th>\n",
       "      <td>AD</td>\n",
       "      <td>42.46372</td>\n",
       "      <td>1.49129</td>\n",
       "      <td>Sant Julià de Lòria</td>\n",
       "    </tr>\n",
       "    <tr>\n",
       "      <th>Pas de la Casa</th>\n",
       "      <td>AD</td>\n",
       "      <td>42.54277</td>\n",
       "      <td>1.73361</td>\n",
       "      <td>Pas de la Casa</td>\n",
       "    </tr>\n",
       "    <tr>\n",
       "      <th>Ordino</th>\n",
       "      <td>AD</td>\n",
       "      <td>42.55623</td>\n",
       "      <td>1.53319</td>\n",
       "      <td>Ordino</td>\n",
       "    </tr>\n",
       "    <tr>\n",
       "      <th>les Escaldes</th>\n",
       "      <td>AD</td>\n",
       "      <td>42.50729</td>\n",
       "      <td>1.53414</td>\n",
       "      <td>les Escaldes</td>\n",
       "    </tr>\n",
       "    <tr>\n",
       "      <th>la Massana</th>\n",
       "      <td>AD</td>\n",
       "      <td>42.54499</td>\n",
       "      <td>1.51483</td>\n",
       "      <td>la Massana</td>\n",
       "    </tr>\n",
       "  </tbody>\n",
       "</table>\n",
       "</div>"
      ],
      "text/plain": [
       "                    country       lat      lng                 name\n",
       "name                                                               \n",
       "Sant Julià de Lòria      AD  42.46372  1.49129  Sant Julià de Lòria\n",
       "Pas de la Casa           AD  42.54277  1.73361       Pas de la Casa\n",
       "Ordino                   AD  42.55623  1.53319               Ordino\n",
       "les Escaldes             AD  42.50729  1.53414         les Escaldes\n",
       "la Massana               AD  42.54499  1.51483           la Massana"
      ]
     },
     "execution_count": 36,
     "metadata": {},
     "output_type": "execute_result"
    }
   ],
   "source": [
    "df.head()"
   ]
  },
  {
   "cell_type": "code",
   "execution_count": 38,
   "metadata": {},
   "outputs": [
    {
     "data": {
      "text/html": [
       "<div>\n",
       "<style scoped>\n",
       "    .dataframe tbody tr th:only-of-type {\n",
       "        vertical-align: middle;\n",
       "    }\n",
       "\n",
       "    .dataframe tbody tr th {\n",
       "        vertical-align: top;\n",
       "    }\n",
       "\n",
       "    .dataframe thead th {\n",
       "        text-align: right;\n",
       "    }\n",
       "</style>\n",
       "<table border=\"1\" class=\"dataframe\">\n",
       "  <thead>\n",
       "    <tr style=\"text-align: right;\">\n",
       "      <th></th>\n",
       "      <th>country</th>\n",
       "      <th>lat</th>\n",
       "      <th>lng</th>\n",
       "      <th>name</th>\n",
       "    </tr>\n",
       "    <tr>\n",
       "      <th>name</th>\n",
       "      <th></th>\n",
       "      <th></th>\n",
       "      <th></th>\n",
       "      <th></th>\n",
       "    </tr>\n",
       "  </thead>\n",
       "  <tbody>\n",
       "    <tr>\n",
       "      <th>Valmiera</th>\n",
       "      <td>LV</td>\n",
       "      <td>57.54108</td>\n",
       "      <td>25.42751</td>\n",
       "      <td>Valmiera</td>\n",
       "    </tr>\n",
       "    <tr>\n",
       "      <th>Zilupe</th>\n",
       "      <td>LV</td>\n",
       "      <td>56.38616</td>\n",
       "      <td>28.12165</td>\n",
       "      <td>Zilupe</td>\n",
       "    </tr>\n",
       "    <tr>\n",
       "      <th>Zelmeņi</th>\n",
       "      <td>LV</td>\n",
       "      <td>56.45167</td>\n",
       "      <td>23.35194</td>\n",
       "      <td>Zelmeņi</td>\n",
       "    </tr>\n",
       "    <tr>\n",
       "      <th>Viļaka</th>\n",
       "      <td>LV</td>\n",
       "      <td>57.18458</td>\n",
       "      <td>27.67220</td>\n",
       "      <td>Viļaka</td>\n",
       "    </tr>\n",
       "    <tr>\n",
       "      <th>Viļāni</th>\n",
       "      <td>LV</td>\n",
       "      <td>56.55253</td>\n",
       "      <td>26.92449</td>\n",
       "      <td>Viļāni</td>\n",
       "    </tr>\n",
       "  </tbody>\n",
       "</table>\n",
       "</div>"
      ],
      "text/plain": [
       "         country       lat       lng      name\n",
       "name                                          \n",
       "Valmiera      LV  57.54108  25.42751  Valmiera\n",
       "Zilupe        LV  56.38616  28.12165    Zilupe\n",
       "Zelmeņi       LV  56.45167  23.35194   Zelmeņi\n",
       "Viļaka        LV  57.18458  27.67220    Viļaka\n",
       "Viļāni        LV  56.55253  26.92449    Viļāni"
      ]
     },
     "execution_count": 38,
     "metadata": {},
     "output_type": "execute_result"
    }
   ],
   "source": [
    "lvcities = df[df.country == 'LV']\n",
    "lvcities.head()"
   ]
  },
  {
   "cell_type": "code",
   "execution_count": 39,
   "metadata": {},
   "outputs": [
    {
     "name": "stdout",
     "output_type": "stream",
     "text": [
      "<class 'pandas.core.frame.DataFrame'>\n",
      "Index: 134 entries, Valmiera to Mārupe\n",
      "Data columns (total 4 columns):\n",
      "country    134 non-null object\n",
      "lat        134 non-null float64\n",
      "lng        134 non-null float64\n",
      "name       134 non-null object\n",
      "dtypes: float64(2), object(2)\n",
      "memory usage: 5.2+ KB\n"
     ]
    }
   ],
   "source": [
    "lvcities.info()"
   ]
  },
  {
   "cell_type": "code",
   "execution_count": 40,
   "metadata": {},
   "outputs": [
    {
     "data": {
      "text/html": [
       "<div>\n",
       "<style scoped>\n",
       "    .dataframe tbody tr th:only-of-type {\n",
       "        vertical-align: middle;\n",
       "    }\n",
       "\n",
       "    .dataframe tbody tr th {\n",
       "        vertical-align: top;\n",
       "    }\n",
       "\n",
       "    .dataframe thead th {\n",
       "        text-align: right;\n",
       "    }\n",
       "</style>\n",
       "<table border=\"1\" class=\"dataframe\">\n",
       "  <thead>\n",
       "    <tr style=\"text-align: right;\">\n",
       "      <th></th>\n",
       "      <th>lat</th>\n",
       "      <th>lng</th>\n",
       "    </tr>\n",
       "  </thead>\n",
       "  <tbody>\n",
       "    <tr>\n",
       "      <th>count</th>\n",
       "      <td>134.000000</td>\n",
       "      <td>134.000000</td>\n",
       "    </tr>\n",
       "    <tr>\n",
       "      <th>mean</th>\n",
       "      <td>56.907784</td>\n",
       "      <td>24.634215</td>\n",
       "    </tr>\n",
       "    <tr>\n",
       "      <th>std</th>\n",
       "      <td>0.455718</td>\n",
       "      <td>1.747996</td>\n",
       "    </tr>\n",
       "    <tr>\n",
       "      <th>min</th>\n",
       "      <td>55.883330</td>\n",
       "      <td>21.012870</td>\n",
       "    </tr>\n",
       "    <tr>\n",
       "      <th>25%</th>\n",
       "      <td>56.585712</td>\n",
       "      <td>23.619960</td>\n",
       "    </tr>\n",
       "    <tr>\n",
       "      <th>50%</th>\n",
       "      <td>56.920870</td>\n",
       "      <td>24.696805</td>\n",
       "    </tr>\n",
       "    <tr>\n",
       "      <th>75%</th>\n",
       "      <td>57.179972</td>\n",
       "      <td>25.760895</td>\n",
       "    </tr>\n",
       "    <tr>\n",
       "      <th>max</th>\n",
       "      <td>57.897520</td>\n",
       "      <td>28.121650</td>\n",
       "    </tr>\n",
       "  </tbody>\n",
       "</table>\n",
       "</div>"
      ],
      "text/plain": [
       "              lat         lng\n",
       "count  134.000000  134.000000\n",
       "mean    56.907784   24.634215\n",
       "std      0.455718    1.747996\n",
       "min     55.883330   21.012870\n",
       "25%     56.585712   23.619960\n",
       "50%     56.920870   24.696805\n",
       "75%     57.179972   25.760895\n",
       "max     57.897520   28.121650"
      ]
     },
     "execution_count": 40,
     "metadata": {},
     "output_type": "execute_result"
    }
   ],
   "source": [
    "lvcities.describe()"
   ]
  },
  {
   "cell_type": "code",
   "execution_count": 41,
   "metadata": {},
   "outputs": [
    {
     "data": {
      "text/html": [
       "<div>\n",
       "<style scoped>\n",
       "    .dataframe tbody tr th:only-of-type {\n",
       "        vertical-align: middle;\n",
       "    }\n",
       "\n",
       "    .dataframe tbody tr th {\n",
       "        vertical-align: top;\n",
       "    }\n",
       "\n",
       "    .dataframe thead th {\n",
       "        text-align: right;\n",
       "    }\n",
       "</style>\n",
       "<table border=\"1\" class=\"dataframe\">\n",
       "  <thead>\n",
       "    <tr style=\"text-align: right;\">\n",
       "      <th></th>\n",
       "      <th>country</th>\n",
       "      <th>lat</th>\n",
       "      <th>lng</th>\n",
       "      <th>name</th>\n",
       "    </tr>\n",
       "    <tr>\n",
       "      <th>name</th>\n",
       "      <th></th>\n",
       "      <th></th>\n",
       "      <th></th>\n",
       "      <th></th>\n",
       "    </tr>\n",
       "  </thead>\n",
       "  <tbody>\n",
       "    <tr>\n",
       "      <th>Valmiera</th>\n",
       "      <td>LV</td>\n",
       "      <td>57.54108</td>\n",
       "      <td>25.42751</td>\n",
       "      <td>Valmiera</td>\n",
       "    </tr>\n",
       "    <tr>\n",
       "      <th>Zilupe</th>\n",
       "      <td>LV</td>\n",
       "      <td>56.38616</td>\n",
       "      <td>28.12165</td>\n",
       "      <td>Zilupe</td>\n",
       "    </tr>\n",
       "    <tr>\n",
       "      <th>Zelmeņi</th>\n",
       "      <td>LV</td>\n",
       "      <td>56.45167</td>\n",
       "      <td>23.35194</td>\n",
       "      <td>Zelmeņi</td>\n",
       "    </tr>\n",
       "    <tr>\n",
       "      <th>Viļaka</th>\n",
       "      <td>LV</td>\n",
       "      <td>57.18458</td>\n",
       "      <td>27.67220</td>\n",
       "      <td>Viļaka</td>\n",
       "    </tr>\n",
       "    <tr>\n",
       "      <th>Viļāni</th>\n",
       "      <td>LV</td>\n",
       "      <td>56.55253</td>\n",
       "      <td>26.92449</td>\n",
       "      <td>Viļāni</td>\n",
       "    </tr>\n",
       "  </tbody>\n",
       "</table>\n",
       "</div>"
      ],
      "text/plain": [
       "         country       lat       lng      name\n",
       "name                                          \n",
       "Valmiera      LV  57.54108  25.42751  Valmiera\n",
       "Zilupe        LV  56.38616  28.12165    Zilupe\n",
       "Zelmeņi       LV  56.45167  23.35194   Zelmeņi\n",
       "Viļaka        LV  57.18458  27.67220    Viļaka\n",
       "Viļāni        LV  56.55253  26.92449    Viļāni"
      ]
     },
     "execution_count": 41,
     "metadata": {},
     "output_type": "execute_result"
    }
   ],
   "source": [
    "lvcities.head()"
   ]
  },
  {
   "cell_type": "code",
   "execution_count": 42,
   "metadata": {},
   "outputs": [
    {
     "data": {
      "text/plain": [
       "country         LV\n",
       "lat        56.3862\n",
       "lng        28.1216\n",
       "name        Zilupe\n",
       "Name: Zilupe, dtype: object"
      ]
     },
     "execution_count": 42,
     "metadata": {},
     "output_type": "execute_result"
    }
   ],
   "source": [
    "zilupe = lvcities.iloc[1]\n",
    "zilupe"
   ]
  },
  {
   "cell_type": "code",
   "execution_count": 43,
   "metadata": {},
   "outputs": [
    {
     "data": {
      "text/plain": [
       "('Zilupe', 56.38616, 28.12165)"
      ]
     },
     "execution_count": 43,
     "metadata": {},
     "output_type": "execute_result"
    }
   ],
   "source": [
    "zilupe.name, float(zilupe.lat), float(zilupe.lng)"
   ]
  },
  {
   "cell_type": "code",
   "execution_count": 51,
   "metadata": {},
   "outputs": [],
   "source": [
    "def createCitiesMap(countrycode='LV', filename='cities.json', addToolTip=False):\n",
    "    df = pd.read_json(filename, encoding=\"UTF-8\")\n",
    "    cities = df[df.country == countrycode]\n",
    "    newmap = folium.Map(location=[(cities.lat.max()+cities.lat.min())/2, (cities.lng.max()+cities.lng.min())/2], zoom_start = 8)\n",
    "    for index, city in cities.iterrows():\n",
    "        if addToolTip == True:\n",
    "            mytooltip = str(city['name'])\n",
    "        else:\n",
    "            mytooltip = None\n",
    "        folium.Marker([float(city.lat), float(city.lng)], tooltip = mytooltip).add_to(newmap)\n",
    "    return newmap"
   ]
  },
  {
   "cell_type": "code",
   "execution_count": 52,
   "metadata": {},
   "outputs": [
    {
     "data": {
      "text/html": [
       "<div style=\"width:100%;\"><div style=\"position:relative;width:100%;height:0;padding-bottom:60%;\"><iframe src=\"data:text/html;charset=utf-8;base64,PCFET0NUWVBFIGh0bWw+CjxoZWFkPiAgICAKICAgIDxtZXRhIGh0dHAtZXF1aXY9ImNvbnRlbnQtdHlwZSIgY29udGVudD0idGV4dC9odG1sOyBjaGFyc2V0PVVURi04IiAvPgogICAgPHNjcmlwdD5MX1BSRUZFUl9DQU5WQVM9ZmFsc2U7IExfTk9fVE9VQ0g9ZmFsc2U7IExfRElTQUJMRV8zRD1mYWxzZTs8L3NjcmlwdD4KICAgIDxzY3JpcHQgc3JjPSJodHRwczovL2Nkbi5qc2RlbGl2ci5uZXQvbnBtL2xlYWZsZXRAMS40LjAvZGlzdC9sZWFmbGV0LmpzIj48L3NjcmlwdD4KICAgIDxzY3JpcHQgc3JjPSJodHRwczovL2NvZGUuanF1ZXJ5LmNvbS9qcXVlcnktMS4xMi40Lm1pbi5qcyI+PC9zY3JpcHQ+CiAgICA8c2NyaXB0IHNyYz0iaHR0cHM6Ly9tYXhjZG4uYm9vdHN0cmFwY2RuLmNvbS9ib290c3RyYXAvMy4yLjAvanMvYm9vdHN0cmFwLm1pbi5qcyI+PC9zY3JpcHQ+CiAgICA8c2NyaXB0IHNyYz0iaHR0cHM6Ly9jZG5qcy5jbG91ZGZsYXJlLmNvbS9hamF4L2xpYnMvTGVhZmxldC5hd2Vzb21lLW1hcmtlcnMvMi4wLjIvbGVhZmxldC5hd2Vzb21lLW1hcmtlcnMuanMiPjwvc2NyaXB0PgogICAgPGxpbmsgcmVsPSJzdHlsZXNoZWV0IiBocmVmPSJodHRwczovL2Nkbi5qc2RlbGl2ci5uZXQvbnBtL2xlYWZsZXRAMS40LjAvZGlzdC9sZWFmbGV0LmNzcyIvPgogICAgPGxpbmsgcmVsPSJzdHlsZXNoZWV0IiBocmVmPSJodHRwczovL21heGNkbi5ib290c3RyYXBjZG4uY29tL2Jvb3RzdHJhcC8zLjIuMC9jc3MvYm9vdHN0cmFwLm1pbi5jc3MiLz4KICAgIDxsaW5rIHJlbD0ic3R5bGVzaGVldCIgaHJlZj0iaHR0cHM6Ly9tYXhjZG4uYm9vdHN0cmFwY2RuLmNvbS9ib290c3RyYXAvMy4yLjAvY3NzL2Jvb3RzdHJhcC10aGVtZS5taW4uY3NzIi8+CiAgICA8bGluayByZWw9InN0eWxlc2hlZXQiIGhyZWY9Imh0dHBzOi8vbWF4Y2RuLmJvb3RzdHJhcGNkbi5jb20vZm9udC1hd2Vzb21lLzQuNi4zL2Nzcy9mb250LWF3ZXNvbWUubWluLmNzcyIvPgogICAgPGxpbmsgcmVsPSJzdHlsZXNoZWV0IiBocmVmPSJodHRwczovL2NkbmpzLmNsb3VkZmxhcmUuY29tL2FqYXgvbGlicy9MZWFmbGV0LmF3ZXNvbWUtbWFya2Vycy8yLjAuMi9sZWFmbGV0LmF3ZXNvbWUtbWFya2Vycy5jc3MiLz4KICAgIDxsaW5rIHJlbD0ic3R5bGVzaGVldCIgaHJlZj0iaHR0cHM6Ly9yYXdjZG4uZ2l0aGFjay5jb20vcHl0aG9uLXZpc3VhbGl6YXRpb24vZm9saXVtL21hc3Rlci9mb2xpdW0vdGVtcGxhdGVzL2xlYWZsZXQuYXdlc29tZS5yb3RhdGUuY3NzIi8+CiAgICA8c3R5bGU+aHRtbCwgYm9keSB7d2lkdGg6IDEwMCU7aGVpZ2h0OiAxMDAlO21hcmdpbjogMDtwYWRkaW5nOiAwO308L3N0eWxlPgogICAgPHN0eWxlPiNtYXAge3Bvc2l0aW9uOmFic29sdXRlO3RvcDowO2JvdHRvbTowO3JpZ2h0OjA7bGVmdDowO308L3N0eWxlPgogICAgCiAgICA8bWV0YSBuYW1lPSJ2aWV3cG9ydCIgY29udGVudD0id2lkdGg9ZGV2aWNlLXdpZHRoLAogICAgICAgIGluaXRpYWwtc2NhbGU9MS4wLCBtYXhpbXVtLXNjYWxlPTEuMCwgdXNlci1zY2FsYWJsZT1ubyIgLz4KICAgIDxzdHlsZT4jbWFwXzFjMzFiMGM1ZDcxYzRkNzA5OGRhYjMyNDQwNzIwMTIxIHsKICAgICAgICBwb3NpdGlvbjogcmVsYXRpdmU7CiAgICAgICAgd2lkdGg6IDEwMC4wJTsKICAgICAgICBoZWlnaHQ6IDEwMC4wJTsKICAgICAgICBsZWZ0OiAwLjAlOwogICAgICAgIHRvcDogMC4wJTsKICAgICAgICB9CiAgICA8L3N0eWxlPgo8L2hlYWQ+Cjxib2R5PiAgICAKICAgIAogICAgPGRpdiBjbGFzcz0iZm9saXVtLW1hcCIgaWQ9Im1hcF8xYzMxYjBjNWQ3MWM0ZDcwOThkYWIzMjQ0MDcyMDEyMSIgPjwvZGl2Pgo8L2JvZHk+CjxzY3JpcHQ+ICAgIAogICAgCiAgICAKICAgICAgICB2YXIgYm91bmRzID0gbnVsbDsKICAgIAoKICAgIHZhciBtYXBfMWMzMWIwYzVkNzFjNGQ3MDk4ZGFiMzI0NDA3MjAxMjEgPSBMLm1hcCgKICAgICAgICAnbWFwXzFjMzFiMGM1ZDcxYzRkNzA5OGRhYjMyNDQwNzIwMTIxJywgewogICAgICAgIGNlbnRlcjogWzU2Ljg5MDQyNSwgMjQuNTY3MjU5OTk5OTk5OTk3XSwKICAgICAgICB6b29tOiA4LAogICAgICAgIG1heEJvdW5kczogYm91bmRzLAogICAgICAgIGxheWVyczogW10sCiAgICAgICAgd29ybGRDb3B5SnVtcDogZmFsc2UsCiAgICAgICAgY3JzOiBMLkNSUy5FUFNHMzg1NywKICAgICAgICB6b29tQ29udHJvbDogdHJ1ZSwKICAgICAgICB9KTsKCgogICAgCiAgICB2YXIgdGlsZV9sYXllcl8zNjk3OGYyYjIwYzc0YjM4OTY4OGRiNWY2NmRkZjcxZSA9IEwudGlsZUxheWVyKAogICAgICAgICdodHRwczovL3tzfS50aWxlLm9wZW5zdHJlZXRtYXAub3JnL3t6fS97eH0ve3l9LnBuZycsCiAgICAgICAgewogICAgICAgICJhdHRyaWJ1dGlvbiI6IG51bGwsCiAgICAgICAgImRldGVjdFJldGluYSI6IGZhbHNlLAogICAgICAgICJtYXhOYXRpdmVab29tIjogMTgsCiAgICAgICAgIm1heFpvb20iOiAxOCwKICAgICAgICAibWluWm9vbSI6IDAsCiAgICAgICAgIm5vV3JhcCI6IGZhbHNlLAogICAgICAgICJvcGFjaXR5IjogMSwKICAgICAgICAic3ViZG9tYWlucyI6ICJhYmMiLAogICAgICAgICJ0bXMiOiBmYWxzZQp9KS5hZGRUbyhtYXBfMWMzMWIwYzVkNzFjNGQ3MDk4ZGFiMzI0NDA3MjAxMjEpOwogICAgCiAgICAgICAgdmFyIG1hcmtlcl8wOWYzY2E1YThmNTA0ODRiODkyNGM2ODZkNDlkMzNlYiA9IEwubWFya2VyKAogICAgICAgICAgICBbNTcuNTQxMDgsIDI1LjQyNzUxXSwKICAgICAgICAgICAgewogICAgICAgICAgICAgICAgaWNvbjogbmV3IEwuSWNvbi5EZWZhdWx0KCksCiAgICAgICAgICAgICAgICB9CiAgICAgICAgICAgICkuYWRkVG8obWFwXzFjMzFiMGM1ZDcxYzRkNzA5OGRhYjMyNDQwNzIwMTIxKTsKICAgICAgICAKICAgIAogICAgICAgIG1hcmtlcl8wOWYzY2E1YThmNTA0ODRiODkyNGM2ODZkNDlkMzNlYi5iaW5kVG9vbHRpcCgKICAgICAgICAgICAgYDxkaXY+YAogICAgICAgICAgICArIGBWYWxtaWVyYWAgKyBgPC9kaXY+YCwKICAgICAgICAgICAgeyJzdGlja3kiOiB0cnVlfQogICAgICAgICk7CiAgICAgICAgCiAgICAKICAgICAgICB2YXIgbWFya2VyX2YxYTNhNGU2OWU5NTQ5ZjM4YjgxNjA4ZTcxNDA4YjVhID0gTC5tYXJrZXIoCiAgICAgICAgICAgIFs1Ni4zODYxNiwgMjguMTIxNjVdLAogICAgICAgICAgICB7CiAgICAgICAgICAgICAgICBpY29uOiBuZXcgTC5JY29uLkRlZmF1bHQoKSwKICAgICAgICAgICAgICAgIH0KICAgICAgICAgICAgKS5hZGRUbyhtYXBfMWMzMWIwYzVkNzFjNGQ3MDk4ZGFiMzI0NDA3MjAxMjEpOwogICAgICAgIAogICAgCiAgICAgICAgbWFya2VyX2YxYTNhNGU2OWU5NTQ5ZjM4YjgxNjA4ZTcxNDA4YjVhLmJpbmRUb29sdGlwKAogICAgICAgICAgICBgPGRpdj5gCiAgICAgICAgICAgICsgYFppbHVwZWAgKyBgPC9kaXY+YCwKICAgICAgICAgICAgeyJzdGlja3kiOiB0cnVlfQogICAgICAgICk7CiAgICAgICAgCiAgICAKICAgICAgICB2YXIgbWFya2VyXzIyZjViYjg5ZThmODRiZTQ4ZGM5MmQ4ZmZiZjA5MTFlID0gTC5tYXJrZXIoCiAgICAgICAgICAgIFs1Ni40NTE2NywgMjMuMzUxOTRdLAogICAgICAgICAgICB7CiAgICAgICAgICAgICAgICBpY29uOiBuZXcgTC5JY29uLkRlZmF1bHQoKSwKICAgICAgICAgICAgICAgIH0KICAgICAgICAgICAgKS5hZGRUbyhtYXBfMWMzMWIwYzVkNzFjNGQ3MDk4ZGFiMzI0NDA3MjAxMjEpOwogICAgICAgIAogICAgCiAgICAgICAgbWFya2VyXzIyZjViYjg5ZThmODRiZTQ4ZGM5MmQ4ZmZiZjA5MTFlLmJpbmRUb29sdGlwKAogICAgICAgICAgICBgPGRpdj5gCiAgICAgICAgICAgICsgYFplbG1lxYZpYCArIGA8L2Rpdj5gLAogICAgICAgICAgICB7InN0aWNreSI6IHRydWV9CiAgICAgICAgKTsKICAgICAgICAKICAgIAogICAgICAgIHZhciBtYXJrZXJfMDMyOGIxMjU4ZWJjNDRlMGFkMjYyMzdkYzBmNWZjMTcgPSBMLm1hcmtlcigKICAgICAgICAgICAgWzU3LjE4NDU4LCAyNy42NzIyXSwKICAgICAgICAgICAgewogICAgICAgICAgICAgICAgaWNvbjogbmV3IEwuSWNvbi5EZWZhdWx0KCksCiAgICAgICAgICAgICAgICB9CiAgICAgICAgICAgICkuYWRkVG8obWFwXzFjMzFiMGM1ZDcxYzRkNzA5OGRhYjMyNDQwNzIwMTIxKTsKICAgICAgICAKICAgIAogICAgICAgIG1hcmtlcl8wMzI4YjEyNThlYmM0NGUwYWQyNjIzN2RjMGY1ZmMxNy5iaW5kVG9vbHRpcCgKICAgICAgICAgICAgYDxkaXY+YAogICAgICAgICAgICArIGBWacS8YWthYCArIGA8L2Rpdj5gLAogICAgICAgICAgICB7InN0aWNreSI6IHRydWV9CiAgICAgICAgKTsKICAgICAgICAKICAgIAogICAgICAgIHZhciBtYXJrZXJfMmUwOWU3YjIxYWNiNDYxZWFjMjVmOTU1ZTdiYTA5ZDcgPSBMLm1hcmtlcigKICAgICAgICAgICAgWzU2LjU1MjUzLCAyNi45MjQ0OV0sCiAgICAgICAgICAgIHsKICAgICAgICAgICAgICAgIGljb246IG5ldyBMLkljb24uRGVmYXVsdCgpLAogICAgICAgICAgICAgICAgfQogICAgICAgICAgICApLmFkZFRvKG1hcF8xYzMxYjBjNWQ3MWM0ZDcwOThkYWIzMjQ0MDcyMDEyMSk7CiAgICAgICAgCiAgICAKICAgICAgICBtYXJrZXJfMmUwOWU3YjIxYWNiNDYxZWFjMjVmOTU1ZTdiYTA5ZDcuYmluZFRvb2x0aXAoCiAgICAgICAgICAgIGA8ZGl2PmAKICAgICAgICAgICAgKyBgVmnEvMSBbmlgICsgYDwvZGl2PmAsCiAgICAgICAgICAgIHsic3RpY2t5IjogdHJ1ZX0KICAgICAgICApOwogICAgICAgIAogICAgCiAgICAgICAgdmFyIG1hcmtlcl9jMDA3ODUxYmY2ZDY0ZTZjOTg2MWU3OTJiOTJhZDdjOCA9IEwubWFya2VyKAogICAgICAgICAgICBbNTYuMzQ3NTEsIDI1LjU1NTE0XSwKICAgICAgICAgICAgewogICAgICAgICAgICAgICAgaWNvbjogbmV3IEwuSWNvbi5EZWZhdWx0KCksCiAgICAgICAgICAgICAgICB9CiAgICAgICAgICAgICkuYWRkVG8obWFwXzFjMzFiMGM1ZDcxYzRkNzA5OGRhYjMyNDQwNzIwMTIxKTsKICAgICAgICAKICAgIAogICAgICAgIG1hcmtlcl9jMDA3ODUxYmY2ZDY0ZTZjOTg2MWU3OTJiOTJhZDdjOC5iaW5kVG9vbHRpcCgKICAgICAgICAgICAgYDxkaXY+YAogICAgICAgICAgICArIGBWaWVzxKt0ZWAgKyBgPC9kaXY+YCwKICAgICAgICAgICAgeyJzdGlja3kiOiB0cnVlfQogICAgICAgICk7CiAgICAgICAgCiAgICAKICAgICAgICB2YXIgbWFya2VyXzdmZWRiMWI1ZGM5NDQzYmU4NDVjMjcwNTRjMWFhMTMxID0gTC5tYXJrZXIoCiAgICAgICAgICAgIFs1Ni42MDYwOCwgMjQuNTIyMzJdLAogICAgICAgICAgICB7CiAgICAgICAgICAgICAgICBpY29uOiBuZXcgTC5JY29uLkRlZmF1bHQoKSwKICAgICAgICAgICAgICAgIH0KICAgICAgICAgICAgKS5hZGRUbyhtYXBfMWMzMWIwYzVkNzFjNGQ3MDk4ZGFiMzI0NDA3MjAxMjEpOwogICAgICAgIAogICAgCiAgICAgICAgbWFya2VyXzdmZWRiMWI1ZGM5NDQzYmU4NDVjMjcwNTRjMWFhMTMxLmJpbmRUb29sdGlwKAogICAgICAgICAgICBgPGRpdj5gCiAgICAgICAgICAgICsgYFZlY3Vtbmlla2lgICsgYDwvZGl2PmAsCiAgICAgICAgICAgIHsic3RpY2t5IjogdHJ1ZX0KICAgICAgICApOwogICAgICAgIAogICAgCiAgICAgICAgdmFyIG1hcmtlcl9hNTA1YmY3ZTQ2MzQ0MmI2OTE0M2I5ODdhMjk3NzVlYyA9IEwubWFya2VyKAogICAgICAgICAgICBbNTcuMzg5ODgsIDIxLjU3Mjg4XSwKICAgICAgICAgICAgewogICAgICAgICAgICAgICAgaWNvbjogbmV3IEwuSWNvbi5EZWZhdWx0KCksCiAgICAgICAgICAgICAgICB9CiAgICAgICAgICAgICkuYWRkVG8obWFwXzFjMzFiMGM1ZDcxYzRkNzA5OGRhYjMyNDQwNzIwMTIxKTsKICAgICAgICAKICAgIAogICAgICAgIG1hcmtlcl9hNTA1YmY3ZTQ2MzQ0MmI2OTE0M2I5ODdhMjk3NzVlYy5iaW5kVG9vbHRpcCgKICAgICAgICAgICAgYDxkaXY+YAogICAgICAgICAgICArIGBWZW50c3BpbHNgICsgYDwvZGl2PmAsCiAgICAgICAgICAgIHsic3RpY2t5IjogdHJ1ZX0KICAgICAgICApOwogICAgICAgIAogICAgCiAgICAgICAgdmFyIG1hcmtlcl9kMjQ1OGMxZDc4NzY0Nzg5YjRlZTIyNWMzMTQyM2E4OCA9IEwubWFya2VyKAogICAgICAgICAgICBbNTYuMTk4MzgsIDI2LjUwODExXSwKICAgICAgICAgICAgewogICAgICAgICAgICAgICAgaWNvbjogbmV3IEwuSWNvbi5EZWZhdWx0KCksCiAgICAgICAgICAgICAgICB9CiAgICAgICAgICAgICkuYWRkVG8obWFwXzFjMzFiMGM1ZDcxYzRkNzA5OGRhYjMyNDQwNzIwMTIxKTsKICAgICAgICAKICAgIAogICAgICAgIG1hcmtlcl9kMjQ1OGMxZDc4NzY0Nzg5YjRlZTIyNWMzMTQyM2E4OC5iaW5kVG9vbHRpcCgKICAgICAgICAgICAgYDxkaXY+YAogICAgICAgICAgICArIGBWZWN2xIFya2F2YWAgKyBgPC9kaXY+YCwKICAgICAgICAgICAgeyJzdGlja3kiOiB0cnVlfQogICAgICAgICk7CiAgICAgICAgCiAgICAKICAgICAgICB2YXIgbWFya2VyXzU4ZGU2YzYwNzM2NTRiY2Y4NTEyMWM3MDdmYTJjOTJhID0gTC5tYXJrZXIoCiAgICAgICAgICAgIFs1Ny4wNjA5LCAyNS44MTYyNF0sCiAgICAgICAgICAgIHsKICAgICAgICAgICAgICAgIGljb246IG5ldyBMLkljb24uRGVmYXVsdCgpLAogICAgICAgICAgICAgICAgfQogICAgICAgICAgICApLmFkZFRvKG1hcF8xYzMxYjBjNWQ3MWM0ZDcwOThkYWIzMjQ0MDcyMDEyMSk7CiAgICAgICAgCiAgICAKICAgICAgICBtYXJrZXJfNThkZTZjNjA3MzY1NGJjZjg1MTIxYzcwN2ZhMmM5MmEuYmluZFRvb2x0aXAoCiAgICAgICAgICAgIGA8ZGl2PmAKICAgICAgICAgICAgKyBgVmVjcGllYmFsZ2FgICsgYDwvZGl2PmAsCiAgICAgICAgICAgIHsic3RpY2t5IjogdHJ1ZX0KICAgICAgICApOwogICAgICAgIAogICAgCiAgICAgICAgdmFyIG1hcmtlcl9iYzFiZjM5OTVhMTI0ZGE0ODllNmVhOGY0ZjBjODNkNCA9IEwubWFya2VyKAogICAgICAgICAgICBbNTYuNjA4MjYsIDI2Ljc1Mzc3XSwKICAgICAgICAgICAgewogICAgICAgICAgICAgICAgaWNvbjogbmV3IEwuSWNvbi5EZWZhdWx0KCksCiAgICAgICAgICAgICAgICB9CiAgICAgICAgICAgICkuYWRkVG8obWFwXzFjMzFiMGM1ZDcxYzRkNzA5OGRhYjMyNDQwNzIwMTIxKTsKICAgICAgICAKICAgIAogICAgICAgIG1hcmtlcl9iYzFiZjM5OTVhMTI0ZGE0ODllNmVhOGY0ZjBjODNkNC5iaW5kVG9vbHRpcCgKICAgICAgICAgICAgYDxkaXY+YAogICAgICAgICAgICArIGBWYXJha8S8xIFuaWAgKyBgPC9kaXY+YCwKICAgICAgICAgICAgeyJzdGlja3kiOiB0cnVlfQogICAgICAgICk7CiAgICAgICAgCiAgICAKICAgICAgICB2YXIgbWFya2VyXzIwYmEzNTRmMmYyNjRkODc5MmNiOWMzZDVhYmU4NjIwID0gTC5tYXJrZXIoCiAgICAgICAgICAgIFs1Ny4wOTM1OCwgMjQuNTQ0NjhdLAogICAgICAgICAgICB7CiAgICAgICAgICAgICAgICBpY29uOiBuZXcgTC5JY29uLkRlZmF1bHQoKSwKICAgICAgICAgICAgICAgIH0KICAgICAgICAgICAgKS5hZGRUbyhtYXBfMWMzMWIwYzVkNzFjNGQ3MDk4ZGFiMzI0NDA3MjAxMjEpOwogICAgICAgIAogICAgCiAgICAgICAgbWFya2VyXzIwYmEzNTRmMmYyNjRkODc5MmNiOWMzZDVhYmU4NjIwLmJpbmRUb29sdGlwKAogICAgICAgICAgICBgPGRpdj5gCiAgICAgICAgICAgICsgYFZhbmdhxb5pYCArIGA8L2Rpdj5gLAogICAgICAgICAgICB7InN0aWNreSI6IHRydWV9CiAgICAgICAgKTsKICAgICAgICAKICAgIAogICAgICAgIHZhciBtYXJrZXJfMzc2YzdlNjQyNTY0NGJmZjgxYmNiNGEwYmNlNGY0MGQgPSBMLm1hcmtlcigKICAgICAgICAgICAgWzU3Ljc3NTIsIDI2LjAxMDEzXSwKICAgICAgICAgICAgewogICAgICAgICAgICAgICAgaWNvbjogbmV3IEwuSWNvbi5EZWZhdWx0KCksCiAgICAgICAgICAgICAgICB9CiAgICAgICAgICAgICkuYWRkVG8obWFwXzFjMzFiMGM1ZDcxYzRkNzA5OGRhYjMyNDQwNzIwMTIxKTsKICAgICAgICAKICAgIAogICAgICAgIG1hcmtlcl8zNzZjN2U2NDI1NjQ0YmZmODFiY2I0YTBiY2U0ZjQwZC5iaW5kVG9vbHRpcCgKICAgICAgICAgICAgYDxkaXY+YAogICAgICAgICAgICArIGBWYWxrYWAgKyBgPC9kaXY+YCwKICAgICAgICAgICAgeyJzdGlja3kiOiB0cnVlfQogICAgICAgICk7CiAgICAgICAgCiAgICAKICAgICAgICB2YXIgbWFya2VyXzYyMjgyMDhiYjcyMTRjZGFhYmJkZjM1MWM1YTQ1Y2Q4ID0gTC5tYXJrZXIoCiAgICAgICAgICAgIFs1Ny4zNzA2OCwgMjIuNTkxODhdLAogICAgICAgICAgICB7CiAgICAgICAgICAgICAgICBpY29uOiBuZXcgTC5JY29uLkRlZmF1bHQoKSwKICAgICAgICAgICAgICAgIH0KICAgICAgICAgICAgKS5hZGRUbyhtYXBfMWMzMWIwYzVkNzFjNGQ3MDk4ZGFiMzI0NDA3MjAxMjEpOwogICAgICAgIAogICAgCiAgICAgICAgbWFya2VyXzYyMjgyMDhiYjcyMTRjZGFhYmJkZjM1MWM1YTQ1Y2Q4LmJpbmRUb29sdGlwKAogICAgICAgICAgICBgPGRpdj5gCiAgICAgICAgICAgICsgYFZhbGRlbcSBcnBpbHNgICsgYDwvZGl2PmAsCiAgICAgICAgICAgIHsic3RpY2t5IjogdHJ1ZX0KICAgICAgICApOwogICAgICAgIAogICAgCiAgICAgICAgdmFyIG1hcmtlcl82MDA0NWYzMTFhY2Q0NzI4OTNjYTQ1MTE0YWZiMmNiYiA9IEwubWFya2VyKAogICAgICAgICAgICBbNTYuNDE4NDgsIDIxLjg1NDA1XSwKICAgICAgICAgICAgewogICAgICAgICAgICAgICAgaWNvbjogbmV3IEwuSWNvbi5EZWZhdWx0KCksCiAgICAgICAgICAgICAgICB9CiAgICAgICAgICAgICkuYWRkVG8obWFwXzFjMzFiMGM1ZDcxYzRkNzA5OGRhYjMyNDQwNzIwMTIxKTsKICAgICAgICAKICAgIAogICAgICAgIG1hcmtlcl82MDA0NWYzMTFhY2Q0NzI4OTNjYTQ1MTE0YWZiMmNiYi5iaW5kVG9vbHRpcCgKICAgICAgICAgICAgYDxkaXY+YAogICAgICAgICAgICArIGBWYWnFhm9kZWAgKyBgPC9kaXY+YCwKICAgICAgICAgICAgeyJzdGlja3kiOiB0cnVlfQogICAgICAgICk7CiAgICAgICAgCiAgICAKICAgICAgICB2YXIgbWFya2VyXzcxNmMyYTQ1OWRlMTQyMmJhMWE0MGU5MmQyMjliYmY5ID0gTC5tYXJrZXIoCiAgICAgICAgICAgIFs1Ni45MzYzLCAyNC4zMDM4N10sCiAgICAgICAgICAgIHsKICAgICAgICAgICAgICAgIGljb246IG5ldyBMLkljb24uRGVmYXVsdCgpLAogICAgICAgICAgICAgICAgfQogICAgICAgICAgICApLmFkZFRvKG1hcF8xYzMxYjBjNWQ3MWM0ZDcwOThkYWIzMjQ0MDcyMDEyMSk7CiAgICAgICAgCiAgICAKICAgICAgICBtYXJrZXJfNzE2YzJhNDU5ZGUxNDIyYmExYTQwZTkyZDIyOWJiZjkuYmluZFRvb2x0aXAoCiAgICAgICAgICAgIGA8ZGl2PmAKICAgICAgICAgICAgKyBgVWxicm9rYWAgKyBgPC9kaXY+YCwKICAgICAgICAgICAgeyJzdGlja3kiOiB0cnVlfQogICAgICAgICk7CiAgICAgICAgCiAgICAKICAgICAgICB2YXIgbWFya2VyXzQ5MmM1MjQyZjk5MzQ3YmRiZDlmNzRiYTJiZTJiZTkwID0gTC5tYXJrZXIoCiAgICAgICAgICAgIFs1Ni45Njc2NCwgMjMuMTU1NTRdLAogICAgICAgICAgICB7CiAgICAgICAgICAgICAgICBpY29uOiBuZXcgTC5JY29uLkRlZmF1bHQoKSwKICAgICAgICAgICAgICAgIH0KICAgICAgICAgICAgKS5hZGRUbyhtYXBfMWMzMWIwYzVkNzFjNGQ3MDk4ZGFiMzI0NDA3MjAxMjEpOwogICAgICAgIAogICAgCiAgICAgICAgbWFya2VyXzQ5MmM1MjQyZjk5MzQ3YmRiZDlmNzRiYTJiZTJiZTkwLmJpbmRUb29sdGlwKAogICAgICAgICAgICBgPGRpdj5gCiAgICAgICAgICAgICsgYFR1a3Vtc2AgKyBgPC9kaXY+YCwKICAgICAgICAgICAgeyJzdGlja3kiOiB0cnVlfQogICAgICAgICk7CiAgICAgICAgCiAgICAKICAgICAgICB2YXIgbWFya2VyXzY4MzQ1MjFlZTE3MDRkNzM5MjkzNDljYTVkZjZlNWIzID0gTC5tYXJrZXIoCiAgICAgICAgICAgIFs1Ni44Mzk5MSwgMjMuNTg5MDJdLAogICAgICAgICAgICB7CiAgICAgICAgICAgICAgICBpY29uOiBuZXcgTC5JY29uLkRlZmF1bHQoKSwKICAgICAgICAgICAgICAgIH0KICAgICAgICAgICAgKS5hZGRUbyhtYXBfMWMzMWIwYzVkNzFjNGQ3MDk4ZGFiMzI0NDA3MjAxMjEpOwogICAgICAgIAogICAgCiAgICAgICAgbWFya2VyXzY4MzQ1MjFlZTE3MDRkNzM5MjkzNDljYTVkZjZlNWIzLmJpbmRUb29sdGlwKAogICAgICAgICAgICBgPGRpdj5gCiAgICAgICAgICAgICsgYFTEq3JlxLxpYCArIGA8L2Rpdj5gLAogICAgICAgICAgICB7InN0aWNreSI6IHRydWV9CiAgICAgICAgKTsKICAgICAgICAKICAgIAogICAgICAgIHZhciBtYXJrZXJfNjc2NjIwZjZjY2NjNGNmZDhlZDFiOWRiYzVmN2VjNWMgPSBMLm1hcmtlcigKICAgICAgICAgICAgWzU2LjQ3OTg5LCAyMy4zODg5NV0sCiAgICAgICAgICAgIHsKICAgICAgICAgICAgICAgIGljb246IG5ldyBMLkljb24uRGVmYXVsdCgpLAogICAgICAgICAgICAgICAgfQogICAgICAgICAgICApLmFkZFRvKG1hcF8xYzMxYjBjNWQ3MWM0ZDcwOThkYWIzMjQ0MDcyMDEyMSk7CiAgICAgICAgCiAgICAKICAgICAgICBtYXJrZXJfNjc2NjIwZjZjY2NjNGNmZDhlZDFiOWRiYzVmN2VjNWMuYmluZFRvb2x0aXAoCiAgICAgICAgICAgIGA8ZGl2PmAKICAgICAgICAgICAgKyBgVMSTcnZldGVgICsgYDwvZGl2PmAsCiAgICAgICAgICAgIHsic3RpY2t5IjogdHJ1ZX0KICAgICAgICApOwogICAgICAgIAogICAgCiAgICAgICAgdmFyIG1hcmtlcl8zYmY4OGQ1NDA0OTA0OWQzODY4NjQzN2U2YjNhMTczYiA9IEwubWFya2VyKAogICAgICAgICAgICBbNTcuMjQ1NjIsIDIyLjU4MTM3XSwKICAgICAgICAgICAgewogICAgICAgICAgICAgICAgaWNvbjogbmV3IEwuSWNvbi5EZWZhdWx0KCksCiAgICAgICAgICAgICAgICB9CiAgICAgICAgICAgICkuYWRkVG8obWFwXzFjMzFiMGM1ZDcxYzRkNzA5OGRhYjMyNDQwNzIwMTIxKTsKICAgICAgICAKICAgIAogICAgICAgIG1hcmtlcl8zYmY4OGQ1NDA0OTA0OWQzODY4NjQzN2U2YjNhMTczYi5iaW5kVG9vbHRpcCgKICAgICAgICAgICAgYDxkaXY+YAogICAgICAgICAgICArIGBUYWxzaWAgKyBgPC9kaXY+YCwKICAgICAgICAgICAgeyJzdGlja3kiOiB0cnVlfQogICAgICAgICk7CiAgICAgICAgCiAgICAKICAgICAgICB2YXIgbWFya2VyXzFjMmJhNjI3YTVkNjRjM2NiYmUxNTQxOWExM2VkZDk1ID0gTC5tYXJrZXIoCiAgICAgICAgICAgIFs1Ny42MjU3NCwgMjUuNjg1MzVdLAogICAgICAgICAgICB7CiAgICAgICAgICAgICAgICBpY29uOiBuZXcgTC5JY29uLkRlZmF1bHQoKSwKICAgICAgICAgICAgICAgIH0KICAgICAgICAgICAgKS5hZGRUbyhtYXBfMWMzMWIwYzVkNzFjNGQ3MDk4ZGFiMzI0NDA3MjAxMjEpOwogICAgICAgIAogICAgCiAgICAgICAgbWFya2VyXzFjMmJhNjI3YTVkNjRjM2NiYmUxNTQxOWExM2VkZDk1LmJpbmRUb29sdGlwKAogICAgICAgICAgICBgPGRpdj5gCiAgICAgICAgICAgICsgYFN0cmVuxI1pYCArIGA8L2Rpdj5gLAogICAgICAgICAgICB7InN0aWNreSI6IHRydWV9CiAgICAgICAgKTsKICAgICAgICAKICAgIAogICAgICAgIHZhciBtYXJrZXJfZDE4NTc0NGE1NmJkNDM4MjlkMjg2ZTA3ZWVmYTI4OTEgPSBMLm1hcmtlcigKICAgICAgICAgICAgWzU3LjE0NDk3LCAyMi41MzQ4Ml0sCiAgICAgICAgICAgIHsKICAgICAgICAgICAgICAgIGljb246IG5ldyBMLkljb24uRGVmYXVsdCgpLAogICAgICAgICAgICAgICAgfQogICAgICAgICAgICApLmFkZFRvKG1hcF8xYzMxYjBjNWQ3MWM0ZDcwOThkYWIzMjQ0MDcyMDEyMSk7CiAgICAgICAgCiAgICAKICAgICAgICBtYXJrZXJfZDE4NTc0NGE1NmJkNDM4MjlkMjg2ZTA3ZWVmYTI4OTEuYmluZFRvb2x0aXAoCiAgICAgICAgICAgIGA8ZGl2PmAKICAgICAgICAgICAgKyBgU3RlbmRlYCArIGA8L2Rpdj5gLAogICAgICAgICAgICB7InN0aWNreSI6IHRydWV9CiAgICAgICAgKTsKICAgICAgICAKICAgIAogICAgICAgIHZhciBtYXJrZXJfNDc0MjJjNjQ1YTU5NDNiYjgxZDU4OWZjNzk4MWJhMGMgPSBMLm1hcmtlcigKICAgICAgICAgICAgWzU3LjM3MDY1LCAyNS4wMzEwNl0sCiAgICAgICAgICAgIHsKICAgICAgICAgICAgICAgIGljb246IG5ldyBMLkljb24uRGVmYXVsdCgpLAogICAgICAgICAgICAgICAgfQogICAgICAgICAgICApLmFkZFRvKG1hcF8xYzMxYjBjNWQ3MWM0ZDcwOThkYWIzMjQ0MDcyMDEyMSk7CiAgICAgICAgCiAgICAKICAgICAgICBtYXJrZXJfNDc0MjJjNjQ1YTU5NDNiYjgxZDU4OWZjNzk4MWJhMGMuYmluZFRvb2x0aXAoCiAgICAgICAgICAgIGA8ZGl2PmAKICAgICAgICAgICAgKyBgU3RhbGJlYCArIGA8L2Rpdj5gLAogICAgICAgICAgICB7InN0aWNreSI6IHRydWV9CiAgICAgICAgKTsKICAgICAgICAKICAgIAogICAgICAgIHZhciBtYXJrZXJfN2Y5NTA2MWViNzU3NDUwMTkwNDQ3Njk3N2E3NjI2ZjQgPSBMLm1hcmtlcigKICAgICAgICAgICAgWzU3LjgzNjM5LCAyNC43NV0sCiAgICAgICAgICAgIHsKICAgICAgICAgICAgICAgIGljb246IG5ldyBMLkljb24uRGVmYXVsdCgpLAogICAgICAgICAgICAgICAgfQogICAgICAgICAgICApLmFkZFRvKG1hcF8xYzMxYjBjNWQ3MWM0ZDcwOThkYWIzMjQ0MDcyMDEyMSk7CiAgICAgICAgCiAgICAKICAgICAgICBtYXJrZXJfN2Y5NTA2MWViNzU3NDUwMTkwNDQ3Njk3N2E3NjI2ZjQuYmluZFRvb2x0aXAoCiAgICAgICAgICAgIGA8ZGl2PmAKICAgICAgICAgICAgKyBgU3RhaWNlbGVgICsgYDwvZGl2PmAsCiAgICAgICAgICAgIHsic3RpY2t5IjogdHJ1ZX0KICAgICAgICApOwogICAgICAgIAogICAgCiAgICAgICAgdmFyIG1hcmtlcl8xZTVmNGY5ZmVkZDE0ZTNmYmI3NzU2ZDkwNTQwYjdkMiA9IEwubWFya2VyKAogICAgICAgICAgICBbNTcuNDI0NDQsIDI1LjkwMTY0XSwKICAgICAgICAgICAgewogICAgICAgICAgICAgICAgaWNvbjogbmV3IEwuSWNvbi5EZWZhdWx0KCksCiAgICAgICAgICAgICAgICB9CiAgICAgICAgICAgICkuYWRkVG8obWFwXzFjMzFiMGM1ZDcxYzRkNzA5OGRhYjMyNDQwNzIwMTIxKTsKICAgICAgICAKICAgIAogICAgICAgIG1hcmtlcl8xZTVmNGY5ZmVkZDE0ZTNmYmI3NzU2ZDkwNTQwYjdkMi5iaW5kVG9vbHRpcCgKICAgICAgICAgICAgYDxkaXY+YAogICAgICAgICAgICArIGBTbWlsdGVuZWAgKyBgPC9kaXY+YCwKICAgICAgICAgICAgeyJzdGlja3kiOiB0cnVlfQogICAgICAgICk7CiAgICAgICAgCiAgICAKICAgICAgICB2YXIgbWFya2VyXzkxZjZkYTA4N2VmMTQ5YzFiNjI1ZDc2M2UyNzI4ODUwID0gTC5tYXJrZXIoCiAgICAgICAgICAgIFs1Ni45NTQyLCAyMy4zMzczNl0sCiAgICAgICAgICAgIHsKICAgICAgICAgICAgICAgIGljb246IG5ldyBMLkljb24uRGVmYXVsdCgpLAogICAgICAgICAgICAgICAgfQogICAgICAgICAgICApLmFkZFRvKG1hcF8xYzMxYjBjNWQ3MWM0ZDcwOThkYWIzMjQ0MDcyMDEyMSk7CiAgICAgICAgCiAgICAKICAgICAgICBtYXJrZXJfOTFmNmRhMDg3ZWYxNDljMWI2MjVkNzYzZTI3Mjg4NTAuYmluZFRvb2x0aXAoCiAgICAgICAgICAgIGA8ZGl2PmAKICAgICAgICAgICAgKyBgU23EgXJkZWAgKyBgPC9kaXY+YCwKICAgICAgICAgICAgeyJzdGlja3kiOiB0cnVlfQogICAgICAgICk7CiAgICAgICAgCiAgICAKICAgICAgICB2YXIgbWFya2VyX2ZiNjcyMDk4Y2ZlODQ2MzViNGU0YjI2MzUzOWZkMWM0ID0gTC5tYXJrZXIoCiAgICAgICAgICAgIFs1Ni42Nzc0OSwgMjIuMDE2NDldLAogICAgICAgICAgICB7CiAgICAgICAgICAgICAgICBpY29uOiBuZXcgTC5JY29uLkRlZmF1bHQoKSwKICAgICAgICAgICAgICAgIH0KICAgICAgICAgICAgKS5hZGRUbyhtYXBfMWMzMWIwYzVkNzFjNGQ3MDk4ZGFiMzI0NDA3MjAxMjEpOwogICAgICAgIAogICAgCiAgICAgICAgbWFya2VyX2ZiNjcyMDk4Y2ZlODQ2MzViNGU0YjI2MzUzOWZkMWM0LmJpbmRUb29sdGlwKAogICAgICAgICAgICBgPGRpdj5gCiAgICAgICAgICAgICsgYFNrcnVuZGFgICsgYDwvZGl2PmAsCiAgICAgICAgICAgIHsic3RpY2t5IjogdHJ1ZX0KICAgICAgICApOwogICAgICAgIAogICAgCiAgICAgICAgdmFyIG1hcmtlcl8xYzJlYjA2YzZmZjQ0MGYwODZiYzhkNTViNDZlMjdlYyA9IEwubWFya2VyKAogICAgICAgICAgICBbNTYuNjQ1LCAyNS4xMjA1OF0sCiAgICAgICAgICAgIHsKICAgICAgICAgICAgICAgIGljb246IG5ldyBMLkljb24uRGVmYXVsdCgpLAogICAgICAgICAgICAgICAgfQogICAgICAgICAgICApLmFkZFRvKG1hcF8xYzMxYjBjNWQ3MWM0ZDcwOThkYWIzMjQ0MDcyMDEyMSk7CiAgICAgICAgCiAgICAKICAgICAgICBtYXJrZXJfMWMyZWIwNmM2ZmY0NDBmMDg2YmM4ZDU1YjQ2ZTI3ZWMuYmluZFRvb2x0aXAoCiAgICAgICAgICAgIGA8ZGl2PmAKICAgICAgICAgICAgKyBgU2tyxKt2ZXJpYCArIGA8L2Rpdj5gLAogICAgICAgICAgICB7InN0aWNreSI6IHRydWV9CiAgICAgICAgKTsKICAgICAgICAKICAgIAogICAgICAgIHZhciBtYXJrZXJfM2MzNmYxMWQ4OTU3NDE5YThhZmI0MGQ4ZTFlNjQ3OWQgPSBMLm1hcmtlcigKICAgICAgICAgICAgWzU3LjE1Mzc1LCAyNC44NTk1M10sCiAgICAgICAgICAgIHsKICAgICAgICAgICAgICAgIGljb246IG5ldyBMLkljb24uRGVmYXVsdCgpLAogICAgICAgICAgICAgICAgfQogICAgICAgICAgICApLmFkZFRvKG1hcF8xYzMxYjBjNWQ3MWM0ZDcwOThkYWIzMjQ0MDcyMDEyMSk7CiAgICAgICAgCiAgICAKICAgICAgICBtYXJrZXJfM2MzNmYxMWQ4OTU3NDE5YThhZmI0MGQ4ZTFlNjQ3OWQuYmluZFRvb2x0aXAoCiAgICAgICAgICAgIGA8ZGl2PmAKICAgICAgICAgICAgKyBgU2lndWxkYWAgKyBgPC9kaXY+YCwKICAgICAgICAgICAgeyJzdGlja3kiOiB0cnVlfQogICAgICAgICk7CiAgICAgICAgCiAgICAKICAgICAgICB2YXIgbWFya2VyXzM3NGVlZmRkMWQwNjRkZDdiNDUxMDVlN2E3MDQzZjI5ID0gTC5tYXJrZXIoCiAgICAgICAgICAgIFs1Ny42NTA0MiwgMjUuNzUwODldLAogICAgICAgICAgICB7CiAgICAgICAgICAgICAgICBpY29uOiBuZXcgTC5JY29uLkRlZmF1bHQoKSwKICAgICAgICAgICAgICAgIH0KICAgICAgICAgICAgKS5hZGRUbyhtYXBfMWMzMWIwYzVkNzFjNGQ3MDk4ZGFiMzI0NDA3MjAxMjEpOwogICAgICAgIAogICAgCiAgICAgICAgbWFya2VyXzM3NGVlZmRkMWQwNjRkZDdiNDUxMDVlN2E3MDQzZjI5LmJpbmRUb29sdGlwKAogICAgICAgICAgICBgPGRpdj5gCiAgICAgICAgICAgICsgYFNlZGFgICsgYDwvZGl2PmAsCiAgICAgICAgICAgIHsic3RpY2t5IjogdHJ1ZX0KICAgICAgICApOwogICAgICAgIAogICAgCiAgICAgICAgdmFyIG1hcmtlcl9iY2JiOGE2M2U4NTQ0MmNiYjI3N2UzNmNmZjMwN2E1MiA9IEwubWFya2VyKAogICAgICAgICAgICBbNTcuMjYyMjQsIDI0LjQxNDcxXSwKICAgICAgICAgICAgewogICAgICAgICAgICAgICAgaWNvbjogbmV3IEwuSWNvbi5EZWZhdWx0KCksCiAgICAgICAgICAgICAgICB9CiAgICAgICAgICAgICkuYWRkVG8obWFwXzFjMzFiMGM1ZDcxYzRkNzA5OGRhYjMyNDQwNzIwMTIxKTsKICAgICAgICAKICAgIAogICAgICAgIG1hcmtlcl9iY2JiOGE2M2U4NTQ0MmNiYjI3N2UzNmNmZjMwN2E1Mi5iaW5kVG9vbHRpcCgKICAgICAgICAgICAgYDxkaXY+YAogICAgICAgICAgICArIGBTYXVsa3Jhc3RpYCArIGA8L2Rpdj5gLAogICAgICAgICAgICB7InN0aWNreSI6IHRydWV9CiAgICAgICAgKTsKICAgICAgICAKICAgIAogICAgICAgIHZhciBtYXJrZXJfOTJiZGViMWI4NmVlNDk3ZWI3ZjFhZTlhODc3YzQzNTYgPSBMLm1hcmtlcigKICAgICAgICAgICAgWzU2LjY2MzYzLCAyMi40ODgwN10sCiAgICAgICAgICAgIHsKICAgICAgICAgICAgICAgIGljb246IG5ldyBMLkljb24uRGVmYXVsdCgpLAogICAgICAgICAgICAgICAgfQogICAgICAgICAgICApLmFkZFRvKG1hcF8xYzMxYjBjNWQ3MWM0ZDcwOThkYWIzMjQ0MDcyMDEyMSk7CiAgICAgICAgCiAgICAKICAgICAgICBtYXJrZXJfOTJiZGViMWI4NmVlNDk3ZWI3ZjFhZTlhODc3YzQzNTYuYmluZFRvb2x0aXAoCiAgICAgICAgICAgIGA8ZGl2PmAKICAgICAgICAgICAgKyBgU2FsZHVzYCArIGA8L2Rpdj5gLAogICAgICAgICAgICB7InN0aWNreSI6IHRydWV9CiAgICAgICAgKTsKICAgICAgICAKICAgIAogICAgICAgIHZhciBtYXJrZXJfN2ZmNTI4ZmJkMDIxNDFiYjgwNTcxYjQ1MTUyYWQxZTYgPSBMLm1hcmtlcigKICAgICAgICAgICAgWzU2Ljg2MDE0LCAyNC4zNjU0NF0sCiAgICAgICAgICAgIHsKICAgICAgICAgICAgICAgIGljb246IG5ldyBMLkljb24uRGVmYXVsdCgpLAogICAgICAgICAgICAgICAgfQogICAgICAgICAgICApLmFkZFRvKG1hcF8xYzMxYjBjNWQ3MWM0ZDcwOThkYWIzMjQ0MDcyMDEyMSk7CiAgICAgICAgCiAgICAKICAgICAgICBtYXJrZXJfN2ZmNTI4ZmJkMDIxNDFiYjgwNTcxYjQ1MTUyYWQxZTYuYmluZFRvb2x0aXAoCiAgICAgICAgICAgIGA8ZGl2PmAKICAgICAgICAgICAgKyBgU2FsYXNwaWxzYCArIGA8L2Rpdj5gLAogICAgICAgICAgICB7InN0aWNreSI6IHRydWV9CiAgICAgICAgKTsKICAgICAgICAKICAgIAogICAgICAgIHZhciBtYXJrZXJfNzMyODgzMmI1YTMyNGI1MTk3ODZlMmZkYWU2ZWM0NTkgPSBMLm1hcmtlcigKICAgICAgICAgICAgWzU3Ljc1MzEyLCAyNC4zNTg5NV0sCiAgICAgICAgICAgIHsKICAgICAgICAgICAgICAgIGljb246IG5ldyBMLkljb24uRGVmYXVsdCgpLAogICAgICAgICAgICAgICAgfQogICAgICAgICAgICApLmFkZFRvKG1hcF8xYzMxYjBjNWQ3MWM0ZDcwOThkYWIzMjQ0MDcyMDEyMSk7CiAgICAgICAgCiAgICAKICAgICAgICBtYXJrZXJfNzMyODgzMmI1YTMyNGI1MTk3ODZlMmZkYWU2ZWM0NTkuYmluZFRvb2x0aXAoCiAgICAgICAgICAgIGA8ZGl2PmAKICAgICAgICAgICAgKyBgU2FsYWNncsSrdmFgICsgYDwvZGl2PmAsCiAgICAgICAgICAgIHsic3RpY2t5IjogdHJ1ZX0KICAgICAgICApOwogICAgICAgIAogICAgCiAgICAgICAgdmFyIG1hcmtlcl82ZDgzMzUyZDhhMTQ0OWNkYWIzYzhhNDRkOGM1YWIyZiA9IEwubWFya2VyKAogICAgICAgICAgICBbNTYuNTA2NzUsIDI1Ljc2NDIzXSwKICAgICAgICAgICAgewogICAgICAgICAgICAgICAgaWNvbjogbmV3IEwuSWNvbi5EZWZhdWx0KCksCiAgICAgICAgICAgICAgICB9CiAgICAgICAgICAgICkuYWRkVG8obWFwXzFjMzFiMGM1ZDcxYzRkNzA5OGRhYjMyNDQwNzIwMTIxKTsKICAgICAgICAKICAgIAogICAgICAgIG1hcmtlcl82ZDgzMzUyZDhhMTQ0OWNkYWIzYzhhNDRkOGM1YWIyZi5iaW5kVG9vbHRpcCgKICAgICAgICAgICAgYDxkaXY+YAogICAgICAgICAgICArIGBTYWxhYCArIGA8L2Rpdj5gLAogICAgICAgICAgICB7InN0aWNreSI6IHRydWV9CiAgICAgICAgKTsKICAgICAgICAKICAgIAogICAgICAgIHZhciBtYXJrZXJfY2M4ZDk5MGJlMDM1NDkxOGIxMjZkMjk3MjdjYWU2NWEgPSBMLm1hcmtlcigKICAgICAgICAgICAgWzU3LjA0NTc3LCAyMi41NzI2MV0sCiAgICAgICAgICAgIHsKICAgICAgICAgICAgICAgIGljb246IG5ldyBMLkljb24uRGVmYXVsdCgpLAogICAgICAgICAgICAgICAgfQogICAgICAgICAgICApLmFkZFRvKG1hcF8xYzMxYjBjNWQ3MWM0ZDcwOThkYWIzMjQ0MDcyMDEyMSk7CiAgICAgICAgCiAgICAKICAgICAgICBtYXJrZXJfY2M4ZDk5MGJlMDM1NDkxOGIxMjZkMjk3MjdjYWU2NWEuYmluZFRvb2x0aXAoCiAgICAgICAgICAgIGA8ZGl2PmAKICAgICAgICAgICAgKyBgU2FiaWxlYCArIGA8L2Rpdj5gLAogICAgICAgICAgICB7InN0aWNreSI6IHRydWV9CiAgICAgICAgKTsKICAgICAgICAKICAgIAogICAgICAgIHZhciBtYXJrZXJfMmZkNmNmODUwM2EyNDg5ODk5MTg3MzRhYTJjZjRlZTYgPSBMLm1hcmtlcigKICAgICAgICAgICAgWzU3Ljg5NzUyLCAyNS4zMzE1NV0sCiAgICAgICAgICAgIHsKICAgICAgICAgICAgICAgIGljb246IG5ldyBMLkljb24uRGVmYXVsdCgpLAogICAgICAgICAgICAgICAgfQogICAgICAgICAgICApLmFkZFRvKG1hcF8xYzMxYjBjNWQ3MWM0ZDcwOThkYWIzMjQ0MDcyMDEyMSk7CiAgICAgICAgCiAgICAKICAgICAgICBtYXJrZXJfMmZkNmNmODUwM2EyNDg5ODk5MTg3MzRhYTJjZjRlZTYuYmluZFRvb2x0aXAoCiAgICAgICAgICAgIGA8ZGl2PmAKICAgICAgICAgICAgKyBgUsWramllbmFgICsgYDwvZGl2PmAsCiAgICAgICAgICAgIHsic3RpY2t5IjogdHJ1ZX0KICAgICAgICApOwogICAgICAgIAogICAgCiAgICAgICAgdmFyIG1hcmtlcl9iMmUwNzE5NTk2YTI0ZTI0OGM4N2Q5MjQ5MDU0ZDJjNCA9IEwubWFya2VyKAogICAgICAgICAgICBbNTcuMDAzMjUsIDI3LjEzMzcxXSwKICAgICAgICAgICAgewogICAgICAgICAgICAgICAgaWNvbjogbmV3IEwuSWNvbi5EZWZhdWx0KCksCiAgICAgICAgICAgICAgICB9CiAgICAgICAgICAgICkuYWRkVG8obWFwXzFjMzFiMGM1ZDcxYzRkNzA5OGRhYjMyNDQwNzIwMTIxKTsKICAgICAgICAKICAgIAogICAgICAgIG1hcmtlcl9iMmUwNzE5NTk2YTI0ZTI0OGM4N2Q5MjQ5MDU0ZDJjNC5iaW5kVG9vbHRpcCgKICAgICAgICAgICAgYDxkaXY+YAogICAgICAgICAgICArIGBSdWfEgWppYCArIGA8L2Rpdj5gLAogICAgICAgICAgICB7InN0aWNreSI6IHRydWV9CiAgICAgICAgKTsKICAgICAgICAKICAgIAogICAgICAgIHZhciBtYXJrZXJfMjM1NDAxYTNmMmNlNGFiMGFmZWIwYmUxMzk5YTQxMmQgPSBMLm1hcmtlcigKICAgICAgICAgICAgWzU2LjE2MzE0LCAyMS4xNjE1Nl0sCiAgICAgICAgICAgIHsKICAgICAgICAgICAgICAgIGljb246IG5ldyBMLkljb24uRGVmYXVsdCgpLAogICAgICAgICAgICAgICAgfQogICAgICAgICAgICApLmFkZFRvKG1hcF8xYzMxYjBjNWQ3MWM0ZDcwOThkYWIzMjQ0MDcyMDEyMSk7CiAgICAgICAgCiAgICAKICAgICAgICBtYXJrZXJfMjM1NDAxYTNmMmNlNGFiMGFmZWIwYmUxMzk5YTQxMmQuYmluZFRvb2x0aXAoCiAgICAgICAgICAgIGA8ZGl2PmAKICAgICAgICAgICAgKyBgUnVjYXZhYCArIGA8L2Rpdj5gLAogICAgICAgICAgICB7InN0aWNreSI6IHRydWV9CiAgICAgICAgKTsKICAgICAgICAKICAgIAogICAgICAgIHZhciBtYXJrZXJfZGM5ZGI0YWE3MDEwNDYyNjgxMTcyNzg0OGY3YWQxMjAgPSBMLm1hcmtlcigKICAgICAgICAgICAgWzU3LjA0NDg2LCAyNC40MTk1MV0sCiAgICAgICAgICAgIHsKICAgICAgICAgICAgICAgIGljb246IG5ldyBMLkljb24uRGVmYXVsdCgpLAogICAgICAgICAgICAgICAgfQogICAgICAgICAgICApLmFkZFRvKG1hcF8xYzMxYjBjNWQ3MWM0ZDcwOThkYWIzMjQ0MDcyMDEyMSk7CiAgICAgICAgCiAgICAKICAgICAgICBtYXJrZXJfZGM5ZGI0YWE3MDEwNDYyNjgxMTcyNzg0OGY3YWQxMjAuYmluZFRvb2x0aXAoCiAgICAgICAgICAgIGA8ZGl2PmAKICAgICAgICAgICAgKyBgR2Fya2FsbmVgICsgYDwvZGl2PmAsCiAgICAgICAgICAgIHsic3RpY2t5IjogdHJ1ZX0KICAgICAgICApOwogICAgICAgIAogICAgCiAgICAgICAgdmFyIG1hcmtlcl9jOTMwMzIwZDBjNzI0ZjJjOTFhOGQ1NzRiNjJiZDgzZSA9IEwubWFya2VyKAogICAgICAgICAgICBbNTYuOTc0NywgMjQuNjMyOTVdLAogICAgICAgICAgICB7CiAgICAgICAgICAgICAgICBpY29uOiBuZXcgTC5JY29uLkRlZmF1bHQoKSwKICAgICAgICAgICAgICAgIH0KICAgICAgICAgICAgKS5hZGRUbyhtYXBfMWMzMWIwYzVkNzFjNGQ3MDk4ZGFiMzI0NDA3MjAxMjEpOwogICAgICAgIAogICAgCiAgICAgICAgbWFya2VyX2M5MzAzMjBkMGM3MjRmMmM5MWE4ZDU3NGI2MmJkODNlLmJpbmRUb29sdGlwKAogICAgICAgICAgICBgPGRpdj5gCiAgICAgICAgICAgICsgYFJvcGHFvmlgICsgYDwvZGl2PmAsCiAgICAgICAgICAgIHsic3RpY2t5IjogdHJ1ZX0KICAgICAgICApOwogICAgICAgIAogICAgCiAgICAgICAgdmFyIG1hcmtlcl9jYzQyNDU4MGY5YjU0YjhlYWU2OGMwOWQ3MDU5ZmRjOCA9IEwubWFya2VyKAogICAgICAgICAgICBbNTcuNTAxNDYsIDIyLjgwODgxXSwKICAgICAgICAgICAgewogICAgICAgICAgICAgICAgaWNvbjogbmV3IEwuSWNvbi5EZWZhdWx0KCksCiAgICAgICAgICAgICAgICB9CiAgICAgICAgICAgICkuYWRkVG8obWFwXzFjMzFiMGM1ZDcxYzRkNzA5OGRhYjMyNDQwNzIwMTIxKTsKICAgICAgICAKICAgIAogICAgICAgIG1hcmtlcl9jYzQyNDU4MGY5YjU0YjhlYWU2OGMwOWQ3MDU5ZmRjOC5iaW5kVG9vbHRpcCgKICAgICAgICAgICAgYDxkaXY+YAogICAgICAgICAgICArIGBSb2phYCArIGA8L2Rpdj5gLAogICAgICAgICAgICB7InN0aWNreSI6IHRydWV9CiAgICAgICAgKTsKICAgICAgICAKICAgIAogICAgICAgIHZhciBtYXJrZXJfOTNlODRiYzJkMDdkNGU5Mjg1NDdmNjI5NGRkZWZkMjcgPSBMLm1hcmtlcigKICAgICAgICAgICAgWzU2Ljk0NiwgMjQuMTA1ODldLAogICAgICAgICAgICB7CiAgICAgICAgICAgICAgICBpY29uOiBuZXcgTC5JY29uLkRlZmF1bHQoKSwKICAgICAgICAgICAgICAgIH0KICAgICAgICAgICAgKS5hZGRUbyhtYXBfMWMzMWIwYzVkNzFjNGQ3MDk4ZGFiMzI0NDA3MjAxMjEpOwogICAgICAgIAogICAgCiAgICAgICAgbWFya2VyXzkzZTg0YmMyZDA3ZDRlOTI4NTQ3ZjYyOTRkZGVmZDI3LmJpbmRUb29sdGlwKAogICAgICAgICAgICBgPGRpdj5gCiAgICAgICAgICAgICsgYFJpZ2FgICsgYDwvZGl2PmAsCiAgICAgICAgICAgIHsic3RpY2t5IjogdHJ1ZX0KICAgICAgICApOwogICAgICAgIAogICAgCiAgICAgICAgdmFyIG1hcmtlcl84OWNmYzIzMjk1MGQ0MzJlYTQ3MmUyYzg4OGE0Mzc2ZSA9IEwubWFya2VyKAogICAgICAgICAgICBbNTYuMzQyOCwgMjYuNzk5OTVdLAogICAgICAgICAgICB7CiAgICAgICAgICAgICAgICBpY29uOiBuZXcgTC5JY29uLkRlZmF1bHQoKSwKICAgICAgICAgICAgICAgIH0KICAgICAgICAgICAgKS5hZGRUbyhtYXBfMWMzMWIwYzVkNzFjNGQ3MDk4ZGFiMzI0NDA3MjAxMjEpOwogICAgICAgIAogICAgCiAgICAgICAgbWFya2VyXzg5Y2ZjMjMyOTUwZDQzMmVhNDcyZTJjODg4YTQzNzZlLmJpbmRUb29sdGlwKAogICAgICAgICAgICBgPGRpdj5gCiAgICAgICAgICAgICsgYFJpZWJpxYZpYCArIGA8L2Rpdj5gLAogICAgICAgICAgICB7InN0aWNreSI6IHRydWV9CiAgICAgICAgKTsKICAgICAgICAKICAgIAogICAgICAgIHZhciBtYXJrZXJfODA1OGVhNjBmZDcxNDc2Njk2NzJhYjFmY2MwNjNkOTEgPSBMLm1hcmtlcigKICAgICAgICAgICAgWzU2LjUxMDI4LCAyNy4zNF0sCiAgICAgICAgICAgIHsKICAgICAgICAgICAgICAgIGljb246IG5ldyBMLkljb24uRGVmYXVsdCgpLAogICAgICAgICAgICAgICAgfQogICAgICAgICAgICApLmFkZFRvKG1hcF8xYzMxYjBjNWQ3MWM0ZDcwOThkYWIzMjQ0MDcyMDEyMSk7CiAgICAgICAgCiAgICAKICAgICAgICBtYXJrZXJfODA1OGVhNjBmZDcxNDc2Njk2NzJhYjFmY2MwNjNkOTEuYmluZFRvb2x0aXAoCiAgICAgICAgICAgIGA8ZGl2PmAKICAgICAgICAgICAgKyBgUsSTemVrbmVgICsgYDwvZGl2PmAsCiAgICAgICAgICAgIHsic3RpY2t5IjogdHJ1ZX0KICAgICAgICApOwogICAgICAgIAogICAgCiAgICAgICAgdmFyIG1hcmtlcl84NGExYzZhOWRlYzQ0NmY5YTk5NTA0ZWU2YjhmMDMxYiA9IEwubWFya2VyKAogICAgICAgICAgICBbNTcuMzMxNzMsIDI1LjYwOTQ3XSwKICAgICAgICAgICAgewogICAgICAgICAgICAgICAgaWNvbjogbmV3IEwuSWNvbi5EZWZhdWx0KCksCiAgICAgICAgICAgICAgICB9CiAgICAgICAgICAgICkuYWRkVG8obWFwXzFjMzFiMGM1ZDcxYzRkNzA5OGRhYjMyNDQwNzIwMTIxKTsKICAgICAgICAKICAgIAogICAgICAgIG1hcmtlcl84NGExYzZhOWRlYzQ0NmY5YTk5NTA0ZWU2YjhmMDMxYi5iaW5kVG9vbHRpcCgKICAgICAgICAgICAgYDxkaXY+YAogICAgICAgICAgICArIGBSYXVuYWAgKyBgPC9kaXY+YCwKICAgICAgICAgICAgeyJzdGlja3kiOiB0cnVlfQogICAgICAgICk7CiAgICAgICAgCiAgICAKICAgICAgICB2YXIgbWFya2VyXzM5MWM0MzEyOWVmODRiZDY4ODllOGM4NmY2OWI2NGE1ID0gTC5tYXJrZXIoCiAgICAgICAgICAgIFs1Ny4xODA3NCwgMjQuNzA3MzFdLAogICAgICAgICAgICB7CiAgICAgICAgICAgICAgICBpY29uOiBuZXcgTC5JY29uLkRlZmF1bHQoKSwKICAgICAgICAgICAgICAgIH0KICAgICAgICAgICAgKS5hZGRUbyhtYXBfMWMzMWIwYzVkNzFjNGQ3MDk4ZGFiMzI0NDA3MjAxMjEpOwogICAgICAgIAogICAgCiAgICAgICAgbWFya2VyXzM5MWM0MzEyOWVmODRiZDY4ODllOGM4NmY2OWI2NGE1LmJpbmRUb29sdGlwKAogICAgICAgICAgICBgPGRpdj5gCiAgICAgICAgICAgICsgYFJhZ2FuYWAgKyBgPC9kaXY+YCwKICAgICAgICAgICAgeyJzdGlja3kiOiB0cnVlfQogICAgICAgICk7CiAgICAgICAgCiAgICAKICAgICAgICB2YXIgbWFya2VyX2ZmN2Q1MDcxZjZiYTQ0NzQ5MDRjOWJlYjU5MWUzMTE0ID0gTC5tYXJrZXIoCiAgICAgICAgICAgIFs1Ny4zMTUsIDI1LjM2MTQ3XSwKICAgICAgICAgICAgewogICAgICAgICAgICAgICAgaWNvbjogbmV3IEwuSWNvbi5EZWZhdWx0KCksCiAgICAgICAgICAgICAgICB9CiAgICAgICAgICAgICkuYWRkVG8obWFwXzFjMzFiMGM1ZDcxYzRkNzA5OGRhYjMyNDQwNzIwMTIxKTsKICAgICAgICAKICAgIAogICAgICAgIG1hcmtlcl9mZjdkNTA3MWY2YmE0NDc0OTA0YzliZWI1OTFlMzExNC5iaW5kVG9vbHRpcCgKICAgICAgICAgICAgYDxkaXY+YAogICAgICAgICAgICArIGBQcmlla3XEvGlgICsgYDwvZGl2PmAsCiAgICAgICAgICAgIHsic3RpY2t5IjogdHJ1ZX0KICAgICAgICApOwogICAgICAgIAogICAgCiAgICAgICAgdmFyIG1hcmtlcl9mOGJhZTg3YTI4MDk0MWFmYjQ4ZWRkZjA5Mjc0YjM2OCA9IEwubWFya2VyKAogICAgICAgICAgICBbNTYuNDQ2NzksIDIxLjU4OTY4XSwKICAgICAgICAgICAgewogICAgICAgICAgICAgICAgaWNvbjogbmV3IEwuSWNvbi5EZWZhdWx0KCksCiAgICAgICAgICAgICAgICB9CiAgICAgICAgICAgICkuYWRkVG8obWFwXzFjMzFiMGM1ZDcxYzRkNzA5OGRhYjMyNDQwNzIwMTIxKTsKICAgICAgICAKICAgIAogICAgICAgIG1hcmtlcl9mOGJhZTg3YTI4MDk0MWFmYjQ4ZWRkZjA5Mjc0YjM2OC5iaW5kVG9vbHRpcCgKICAgICAgICAgICAgYDxkaXY+YAogICAgICAgICAgICArIGBQcmlla3VsZWAgKyBgPC9kaXY+YCwKICAgICAgICAgICAgeyJzdGlja3kiOiB0cnVlfQogICAgICAgICk7CiAgICAgICAgCiAgICAKICAgICAgICB2YXIgbWFya2VyX2YxZmQ4MzAzZjhkOTRhZWRiODA5M2M3YWY1ZDdiNjA2ID0gTC5tYXJrZXIoCiAgICAgICAgICAgIFs1Ni4yOTQ0NCwgMjYuNzI0NTldLAogICAgICAgICAgICB7CiAgICAgICAgICAgICAgICBpY29uOiBuZXcgTC5JY29uLkRlZmF1bHQoKSwKICAgICAgICAgICAgICAgIH0KICAgICAgICAgICAgKS5hZGRUbyhtYXBfMWMzMWIwYzVkNzFjNGQ3MDk4ZGFiMzI0NDA3MjAxMjEpOwogICAgICAgIAogICAgCiAgICAgICAgbWFya2VyX2YxZmQ4MzAzZjhkOTRhZWRiODA5M2M3YWY1ZDdiNjA2LmJpbmRUb29sdGlwKAogICAgICAgICAgICBgPGRpdj5gCiAgICAgICAgICAgICsgYFByZWnEvGlgICsgYDwvZGl2PmAsCiAgICAgICAgICAgIHsic3RpY2t5IjogdHJ1ZX0KICAgICAgICApOwogICAgICAgIAogICAgCiAgICAgICAgdmFyIG1hcmtlcl85ODc0MmM2ZWZhNzk0YWI5YTRmNjFmMDIwODBhOWJmMiA9IEwubWFya2VyKAogICAgICAgICAgICBbNTYuNjE3OCwgMjUuNzI1NTJdLAogICAgICAgICAgICB7CiAgICAgICAgICAgICAgICBpY29uOiBuZXcgTC5JY29uLkRlZmF1bHQoKSwKICAgICAgICAgICAgICAgIH0KICAgICAgICAgICAgKS5hZGRUbyhtYXBfMWMzMWIwYzVkNzFjNGQ3MDk4ZGFiMzI0NDA3MjAxMjEpOwogICAgICAgIAogICAgCiAgICAgICAgbWFya2VyXzk4NzQyYzZlZmE3OTRhYjlhNGY2MWYwMjA4MGE5YmYyLmJpbmRUb29sdGlwKAogICAgICAgICAgICBgPGRpdj5gCiAgICAgICAgICAgICsgYFDEvGF2acWGYXNgICsgYDwvZGl2PmAsCiAgICAgICAgICAgIHsic3RpY2t5IjogdHJ1ZX0KICAgICAgICApOwogICAgICAgIAogICAgCiAgICAgICAgdmFyIG1hcmtlcl80MTdiZmMxOTczYTA0MTQ2YTQ4ODk3YTNjM2Y4MDRkNiA9IEwubWFya2VyKAogICAgICAgICAgICBbNTYuOTQxODksIDIzLjkxMzY1XSwKICAgICAgICAgICAgewogICAgICAgICAgICAgICAgaWNvbjogbmV3IEwuSWNvbi5EZWZhdWx0KCksCiAgICAgICAgICAgICAgICB9CiAgICAgICAgICAgICkuYWRkVG8obWFwXzFjMzFiMGM1ZDcxYzRkNzA5OGRhYjMyNDQwNzIwMTIxKTsKICAgICAgICAKICAgIAogICAgICAgIG1hcmtlcl80MTdiZmMxOTczYTA0MTQ2YTQ4ODk3YTNjM2Y4MDRkNi5iaW5kVG9vbHRpcCgKICAgICAgICAgICAgYDxkaXY+YAogICAgICAgICAgICArIGBQacWGxLdpYCArIGA8L2Rpdj5gLAogICAgICAgICAgICB7InN0aWNreSI6IHRydWV9CiAgICAgICAgKTsKICAgICAgICAKICAgIAogICAgICAgIHZhciBtYXJrZXJfMWEzYzVjMWI5ODk3NGE4NGJmMWNlY2QyYzA5YTlkZTMgPSBMLm1hcmtlcigKICAgICAgICAgICAgWzU3LjIyNDI2LCAyMS42NzQzOV0sCiAgICAgICAgICAgIHsKICAgICAgICAgICAgICAgIGljb246IG5ldyBMLkljb24uRGVmYXVsdCgpLAogICAgICAgICAgICAgICAgfQogICAgICAgICAgICApLmFkZFRvKG1hcF8xYzMxYjBjNWQ3MWM0ZDcwOThkYWIzMjQ0MDcyMDEyMSk7CiAgICAgICAgCiAgICAKICAgICAgICBtYXJrZXJfMWEzYzVjMWI5ODk3NGE4NGJmMWNlY2QyYzA5YTlkZTMuYmluZFRvb2x0aXAoCiAgICAgICAgICAgIGA8ZGl2PmAKICAgICAgICAgICAgKyBgUGlsdGVuZWAgKyBgPC9kaXY+YCwKICAgICAgICAgICAgeyJzdGlja3kiOiB0cnVlfQogICAgICAgICk7CiAgICAgICAgCiAgICAKICAgICAgICB2YXIgbWFya2VyXzc1NTRlOTlkMjIzMDRjNjg5NTM3Mjk0YTg5MGU2MTI5ID0gTC5tYXJrZXIoCiAgICAgICAgICAgIFs1Ni40MTgxMiwgMjQuMDE2MjVdLAogICAgICAgICAgICB7CiAgICAgICAgICAgICAgICBpY29uOiBuZXcgTC5JY29uLkRlZmF1bHQoKSwKICAgICAgICAgICAgICAgIH0KICAgICAgICAgICAgKS5hZGRUbyhtYXBfMWMzMWIwYzVkNzFjNGQ3MDk4ZGFiMzI0NDA3MjAxMjEpOwogICAgICAgIAogICAgCiAgICAgICAgbWFya2VyXzc1NTRlOTlkMjIzMDRjNjg5NTM3Mjk0YTg5MGU2MTI5LmJpbmRUb29sdGlwKAogICAgICAgICAgICBgPGRpdj5gCiAgICAgICAgICAgICsgYFBpbHNydW5kxIFsZWAgKyBgPC9kaXY+YCwKICAgICAgICAgICAgeyJzdGlja3kiOiB0cnVlfQogICAgICAgICk7CiAgICAgICAgCiAgICAKICAgICAgICB2YXIgbWFya2VyXzI4NWU5N2JlZDMyYjRmMGViZGZkMzg3MTkyNGE2ODM4ID0gTC5tYXJrZXIoCiAgICAgICAgICAgIFs1Ni44ODc5MSwgMjEuMTg1OTNdLAogICAgICAgICAgICB7CiAgICAgICAgICAgICAgICBpY29uOiBuZXcgTC5JY29uLkRlZmF1bHQoKSwKICAgICAgICAgICAgICAgIH0KICAgICAgICAgICAgKS5hZGRUbyhtYXBfMWMzMWIwYzVkNzFjNGQ3MDk4ZGFiMzI0NDA3MjAxMjEpOwogICAgICAgIAogICAgCiAgICAgICAgbWFya2VyXzI4NWU5N2JlZDMyYjRmMGViZGZkMzg3MTkyNGE2ODM4LmJpbmRUb29sdGlwKAogICAgICAgICAgICBgPGRpdj5gCiAgICAgICAgICAgICsgYFDEgXZpbG9zdGFgICsgYDwvZGl2PmAsCiAgICAgICAgICAgIHsic3RpY2t5IjogdHJ1ZX0KICAgICAgICApOwogICAgICAgIAogICAgCiAgICAgICAgdmFyIG1hcmtlcl8xNDY1ZGY1NWZlMDQ0MzQ2YWRkNTU3NjgzMDU2YTk4YiA9IEwubWFya2VyKAogICAgICAgICAgICBbNTYuNjg5NDQsIDIzLjc5MTM2XSwKICAgICAgICAgICAgewogICAgICAgICAgICAgICAgaWNvbjogbmV3IEwuSWNvbi5EZWZhdWx0KCksCiAgICAgICAgICAgICAgICB9CiAgICAgICAgICAgICkuYWRkVG8obWFwXzFjMzFiMGM1ZDcxYzRkNzA5OGRhYjMyNDQwNzIwMTIxKTsKICAgICAgICAKICAgIAogICAgICAgIG1hcmtlcl8xNDY1ZGY1NWZlMDQ0MzQ2YWRkNTU3NjgzMDU2YTk4Yi5iaW5kVG9vbHRpcCgKICAgICAgICAgICAgYDxkaXY+YAogICAgICAgICAgICArIGBPem9sbmlla2lgICsgYDwvZGl2PmAsCiAgICAgICAgICAgIHsic3RpY2t5IjogdHJ1ZX0KICAgICAgICApOwogICAgICAgIAogICAgCiAgICAgICAgdmFyIG1hcmtlcl9mODBiMjA5NjE1ODk0MDQ2YTdhMTUwNGUxNTk1ZGU4NyA9IEwubWFya2VyKAogICAgICAgICAgICBbNTYuNzk0NzIsIDIzLjkzNThdLAogICAgICAgICAgICB7CiAgICAgICAgICAgICAgICBpY29uOiBuZXcgTC5JY29uLkRlZmF1bHQoKSwKICAgICAgICAgICAgICAgIH0KICAgICAgICAgICAgKS5hZGRUbyhtYXBfMWMzMWIwYzVkNzFjNGQ3MDk4ZGFiMzI0NDA3MjAxMjEpOwogICAgICAgIAogICAgCiAgICAgICAgbWFya2VyX2Y4MGIyMDk2MTU4OTQwNDZhN2ExNTA0ZTE1OTVkZTg3LmJpbmRUb29sdGlwKAogICAgICAgICAgICBgPGRpdj5gCiAgICAgICAgICAgICsgYE9sYWluZWAgKyBgPC9kaXY+YCwKICAgICAgICAgICAgeyJzdGlja3kiOiB0cnVlfQogICAgICAgICk7CiAgICAgICAgCiAgICAKICAgICAgICB2YXIgbWFya2VyXzMzMWM3Mzc4NDcyNjRkYTA4ZjJlOTgxOGRhODczMzNmID0gTC5tYXJrZXIoCiAgICAgICAgICAgIFs1Ni44MTYyLCAyNC42MTQwMV0sCiAgICAgICAgICAgIHsKICAgICAgICAgICAgICAgIGljb246IG5ldyBMLkljb24uRGVmYXVsdCgpLAogICAgICAgICAgICAgICAgfQogICAgICAgICAgICApLmFkZFRvKG1hcF8xYzMxYjBjNWQ3MWM0ZDcwOThkYWIzMjQ0MDcyMDEyMSk7CiAgICAgICAgCiAgICAKICAgICAgICBtYXJrZXJfMzMxYzczNzg0NzI2NGRhMDhmMmU5ODE4ZGE4NzMzM2YuYmluZFRvb2x0aXAoCiAgICAgICAgICAgIGA8ZGl2PmAKICAgICAgICAgICAgKyBgT2dyZWAgKyBgPC9kaXY+YCwKICAgICAgICAgICAgeyJzdGlja3kiOiB0cnVlfQogICAgICAgICk7CiAgICAgICAgCiAgICAKICAgICAgICB2YXIgbWFya2VyX2ZlYzI3YTZkZjk0ZTRhNDZhYzJlZTVjM2VhYjc1NzY4ID0gTC5tYXJrZXIoCiAgICAgICAgICAgIFs1Ni4zNDYwMSwgMjEuMDY0MDFdLAogICAgICAgICAgICB7CiAgICAgICAgICAgICAgICBpY29uOiBuZXcgTC5JY29uLkRlZmF1bHQoKSwKICAgICAgICAgICAgICAgIH0KICAgICAgICAgICAgKS5hZGRUbyhtYXBfMWMzMWIwYzVkNzFjNGQ3MDk4ZGFiMzI0NDA3MjAxMjEpOwogICAgICAgIAogICAgCiAgICAgICAgbWFya2VyX2ZlYzI3YTZkZjk0ZTRhNDZhYzJlZTVjM2VhYjc1NzY4LmJpbmRUb29sdGlwKAogICAgICAgICAgICBgPGRpdj5gCiAgICAgICAgICAgICsgYE7Eq2NhYCArIGA8L2Rpdj5gLAogICAgICAgICAgICB7InN0aWNreSI6IHRydWV9CiAgICAgICAgKTsKICAgICAgICAKICAgIAogICAgICAgIHZhciBtYXJrZXJfYmFmMmFjNjExODE3NDIyNjg5NGJmYjI5NDZjNzJkNmQgPSBMLm1hcmtlcigKICAgICAgICAgICAgWzU2LjIwMjc5LCAyNS4zMDc1Ml0sCiAgICAgICAgICAgIHsKICAgICAgICAgICAgICAgIGljb246IG5ldyBMLkljb24uRGVmYXVsdCgpLAogICAgICAgICAgICAgICAgfQogICAgICAgICAgICApLmFkZFRvKG1hcF8xYzMxYjBjNWQ3MWM0ZDcwOThkYWIzMjQ0MDcyMDEyMSk7CiAgICAgICAgCiAgICAKICAgICAgICBtYXJrZXJfYmFmMmFjNjExODE3NDIyNjg5NGJmYjI5NDZjNzJkNmQuYmluZFRvb2x0aXAoCiAgICAgICAgICAgIGA8ZGl2PmAKICAgICAgICAgICAgKyBgTmVyZXRhYCArIGA8L2Rpdj5gLAogICAgICAgICAgICB7InN0aWNreSI6IHRydWV9CiAgICAgICAgKTsKICAgICAgICAKICAgIAogICAgICAgIHZhciBtYXJrZXJfN2YyMmY2YzJmOWM1NDgyNmIyZDcwZmI0OGFmZjljNTIgPSBMLm1hcmtlcigKICAgICAgICAgICAgWzU3Ljg4MzQ5LCAyNS40NTYwOV0sCiAgICAgICAgICAgIHsKICAgICAgICAgICAgICAgIGljb246IG5ldyBMLkljb24uRGVmYXVsdCgpLAogICAgICAgICAgICAgICAgfQogICAgICAgICAgICApLmFkZFRvKG1hcF8xYzMxYjBjNWQ3MWM0ZDcwOThkYWIzMjQ0MDcyMDEyMSk7CiAgICAgICAgCiAgICAKICAgICAgICBtYXJrZXJfN2YyMmY2YzJmOWM1NDgyNmIyZDcwZmI0OGFmZjljNTIuYmluZFRvb2x0aXAoCiAgICAgICAgICAgIGA8ZGl2PmAKICAgICAgICAgICAgKyBgTmF1a8WhxJNuaWAgKyBgPC9kaXY+YCwKICAgICAgICAgICAgeyJzdGlja3kiOiB0cnVlfQogICAgICAgICk7CiAgICAgICAgCiAgICAKICAgICAgICB2YXIgbWFya2VyX2ExMTdlMzE1ZGQ5NDQ3YjhhYjJkZDQzODU2ZTAwZjZiID0gTC5tYXJrZXIoCiAgICAgICAgICAgIFs1Ny40NzMxMiwgMjUuNDkxNzRdLAogICAgICAgICAgICB7CiAgICAgICAgICAgICAgICBpY29uOiBuZXcgTC5JY29uLkRlZmF1bHQoKSwKICAgICAgICAgICAgICAgIH0KICAgICAgICAgICAgKS5hZGRUbyhtYXBfMWMzMWIwYzVkNzFjNGQ3MDk4ZGFiMzI0NDA3MjAxMjEpOwogICAgICAgIAogICAgCiAgICAgICAgbWFya2VyX2ExMTdlMzE1ZGQ5NDQ3YjhhYjJkZDQzODU2ZTAwZjZiLmJpbmRUb29sdGlwKAogICAgICAgICAgICBgPGRpdj5gCiAgICAgICAgICAgICsgYE3Fq3JtdWnFvmFgICsgYDwvZGl2PmAsCiAgICAgICAgICAgIHsic3RpY2t5IjogdHJ1ZX0KICAgICAgICApOwogICAgICAgIAogICAgCiAgICAgICAgdmFyIG1hcmtlcl9kYzgxNzJiMDQ3MTA0ZWQ4OGMxYTg2YzM2ZTQzNjIwMiA9IEwubWFya2VyKAogICAgICAgICAgICBbNTcuMDAwMDgsIDI0LjE1OTk3XSwKICAgICAgICAgICAgewogICAgICAgICAgICAgICAgaWNvbjogbmV3IEwuSWNvbi5EZWZhdWx0KCksCiAgICAgICAgICAgICAgICB9CiAgICAgICAgICAgICkuYWRkVG8obWFwXzFjMzFiMGM1ZDcxYzRkNzA5OGRhYjMyNDQwNzIwMTIxKTsKICAgICAgICAKICAgIAogICAgICAgIG1hcmtlcl9kYzgxNzJiMDQ3MTA0ZWQ4OGMxYTg2YzM2ZTQzNjIwMi5iaW5kVG9vbHRpcCgKICAgICAgICAgICAgYDxkaXY+YAogICAgICAgICAgICArIGBNZcW+YXBhcmtzYCArIGA8L2Rpdj5gLAogICAgICAgICAgICB7InN0aWNreSI6IHRydWV9CiAgICAgICAgKTsKICAgICAgICAKICAgIAogICAgICAgIHZhciBtYXJrZXJfNTljNmIxNzc0MTkzNDg4NGI0M2RiZjA0NDBiNjgwMzcgPSBMLm1hcmtlcigKICAgICAgICAgICAgWzU3LjMzNTM1LCAyMy4xMjQ1NV0sCiAgICAgICAgICAgIHsKICAgICAgICAgICAgICAgIGljb246IG5ldyBMLkljb24uRGVmYXVsdCgpLAogICAgICAgICAgICAgICAgfQogICAgICAgICAgICApLmFkZFRvKG1hcF8xYzMxYjBjNWQ3MWM0ZDcwOThkYWIzMjQ0MDcyMDEyMSk7CiAgICAgICAgCiAgICAKICAgICAgICBtYXJrZXJfNTljNmIxNzc0MTkzNDg4NGI0M2RiZjA0NDBiNjgwMzcuYmluZFRvb2x0aXAoCiAgICAgICAgICAgIGA8ZGl2PmAKICAgICAgICAgICAgKyBgTcSTcnNyYWdzYCArIGA8L2Rpdj5gLAogICAgICAgICAgICB7InN0aWNreSI6IHRydWV9CiAgICAgICAgKTsKICAgICAgICAKICAgIAogICAgICAgIHZhciBtYXJrZXJfNjIxMDlkNDcwYTg2NGUyYjk0ZTdlN2M0NTIxODRkODMgPSBMLm1hcmtlcigKICAgICAgICAgICAgWzU3Ljg2MzI5LCAyNS4wNTQ3NV0sCiAgICAgICAgICAgIHsKICAgICAgICAgICAgICAgIGljb246IG5ldyBMLkljb24uRGVmYXVsdCgpLAogICAgICAgICAgICAgICAgfQogICAgICAgICAgICApLmFkZFRvKG1hcF8xYzMxYjBjNWQ3MWM0ZDcwOThkYWIzMjQ0MDcyMDEyMSk7CiAgICAgICAgCiAgICAKICAgICAgICBtYXJrZXJfNjIxMDlkNDcwYTg2NGUyYjk0ZTdlN2M0NTIxODRkODMuYmluZFRvb2x0aXAoCiAgICAgICAgICAgIGA8ZGl2PmAKICAgICAgICAgICAgKyBgTWF6c2FsYWNhYCArIGA8L2Rpdj5gLAogICAgICAgICAgICB7InN0aWNreSI6IHRydWV9CiAgICAgICAgKTsKICAgICAgICAKICAgIAogICAgICAgIHZhciBtYXJrZXJfMzkwNzdiMjBkODRjNDA1MWE3ZjQ3MjJkNGZjNDQwZjIgPSBMLm1hcmtlcigKICAgICAgICAgICAgWzU3LjY5ODkyLCAyNS4xNTg4Nl0sCiAgICAgICAgICAgIHsKICAgICAgICAgICAgICAgIGljb246IG5ldyBMLkljb24uRGVmYXVsdCgpLAogICAgICAgICAgICAgICAgfQogICAgICAgICAgICApLmFkZFRvKG1hcF8xYzMxYjBjNWQ3MWM0ZDcwOThkYWIzMjQ0MDcyMDEyMSk7CiAgICAgICAgCiAgICAKICAgICAgICBtYXJrZXJfMzkwNzdiMjBkODRjNDA1MWE3ZjQ3MjJkNGZjNDQwZjIuYmluZFRvb2x0aXAoCiAgICAgICAgICAgIGA8ZGl2PmAKICAgICAgICAgICAgKyBgTWF0xKvFoWlgICsgYDwvZGl2PmAsCiAgICAgICAgICAgIHsic3RpY2t5IjogdHJ1ZX0KICAgICAgICApOwogICAgICAgIAogICAgCiAgICAgICAgdmFyIG1hcmtlcl9iMjMzMDc2YTg5NDU0MDJkYjljMjcyOTljMDVmMDM1ZSA9IEwubWFya2VyKAogICAgICAgICAgICBbNTcuMDEwMSwgMjQuOTU3ODNdLAogICAgICAgICAgICB7CiAgICAgICAgICAgICAgICBpY29uOiBuZXcgTC5JY29uLkRlZmF1bHQoKSwKICAgICAgICAgICAgICAgIH0KICAgICAgICAgICAgKS5hZGRUbyhtYXBfMWMzMWIwYzVkNzFjNGQ3MDk4ZGFiMzI0NDA3MjAxMjEpOwogICAgICAgIAogICAgCiAgICAgICAgbWFya2VyX2IyMzMwNzZhODk0NTQwMmRiOWMyNzI5OWMwNWYwMzVlLmJpbmRUb29sdGlwKAogICAgICAgICAgICBgPGRpdj5gCiAgICAgICAgICAgICsgYE3EgWxwaWxzYCArIGA8L2Rpdj5gLAogICAgICAgICAgICB7InN0aWNreSI6IHRydWV9CiAgICAgICAgKTsKICAgICAgICAKICAgIAogICAgICAgIHZhciBtYXJrZXJfNmUxNzZhNzJhNThkNDZkZGEyNWEwMjM0YzhhYWM5NDMgPSBMLm1hcmtlcigKICAgICAgICAgICAgWzU2Ljg1MzI5LCAyNi4yMTY5OF0sCiAgICAgICAgICAgIHsKICAgICAgICAgICAgICAgIGljb246IG5ldyBMLkljb24uRGVmYXVsdCgpLAogICAgICAgICAgICAgICAgfQogICAgICAgICAgICApLmFkZFRvKG1hcF8xYzMxYjBjNWQ3MWM0ZDcwOThkYWIzMjQ0MDcyMDEyMSk7CiAgICAgICAgCiAgICAKICAgICAgICBtYXJrZXJfNmUxNzZhNzJhNThkNDZkZGEyNWEwMjM0YzhhYWM5NDMuYmluZFRvb2x0aXAoCiAgICAgICAgICAgIGA8ZGl2PmAKICAgICAgICAgICAgKyBgTWFkb25hYCArIGA8L2Rpdj5gLAogICAgICAgICAgICB7InN0aWNreSI6IHRydWV9CiAgICAgICAgKTsKICAgICAgICAKICAgIAogICAgICAgIHZhciBtYXJrZXJfMTYxYjRmOWRjNmZiNGJkZmExNjA1NDg2MDhmNzdkODQgPSBMLm1hcmtlcigKICAgICAgICAgICAgWzU2LjUzOTU4LCAyNy43MTg5MV0sCiAgICAgICAgICAgIHsKICAgICAgICAgICAgICAgIGljb246IG5ldyBMLkljb24uRGVmYXVsdCgpLAogICAgICAgICAgICAgICAgfQogICAgICAgICAgICApLmFkZFRvKG1hcF8xYzMxYjBjNWQ3MWM0ZDcwOThkYWIzMjQ0MDcyMDEyMSk7CiAgICAgICAgCiAgICAKICAgICAgICBtYXJrZXJfMTYxYjRmOWRjNmZiNGJkZmExNjA1NDg2MDhmNzdkODQuYmluZFRvb2x0aXAoCiAgICAgICAgICAgIGA8ZGl2PmAKICAgICAgICAgICAgKyBgTHVkemFgICsgYDwvZGl2PmAsCiAgICAgICAgICAgIHsic3RpY2t5IjogdHJ1ZX0KICAgICAgICApOwogICAgICAgIAogICAgCiAgICAgICAgdmFyIG1hcmtlcl85NDBiOWQzODNiNzI0Y2NiYjU5Y2Y0ZTVjM2VlNTNlZSA9IEwubWFya2VyKAogICAgICAgICAgICBbNTYuOTA0MjUsIDI2LjcxNjA2XSwKICAgICAgICAgICAgewogICAgICAgICAgICAgICAgaWNvbjogbmV3IEwuSWNvbi5EZWZhdWx0KCksCiAgICAgICAgICAgICAgICB9CiAgICAgICAgICAgICkuYWRkVG8obWFwXzFjMzFiMGM1ZDcxYzRkNzA5OGRhYjMyNDQwNzIwMTIxKTsKICAgICAgICAKICAgIAogICAgICAgIG1hcmtlcl85NDBiOWQzODNiNzI0Y2NiYjU5Y2Y0ZTVjM2VlNTNlZS5iaW5kVG9vbHRpcCgKICAgICAgICAgICAgYDxkaXY+YAogICAgICAgICAgICArIGBMdWLEgW5hYCArIGA8L2Rpdj5gLAogICAgICAgICAgICB7InN0aWNreSI6IHRydWV9CiAgICAgICAgKTsKICAgICAgICAKICAgIAogICAgICAgIHZhciBtYXJrZXJfZjc0OWZmNjkzYjkyNDAwYWExMzM3OGFjMzhiZmRkOTkgPSBMLm1hcmtlcigKICAgICAgICAgICAgWzU3LjE1MzM2LCAyNC42NDMzXSwKICAgICAgICAgICAgewogICAgICAgICAgICAgICAgaWNvbjogbmV3IEwuSWNvbi5EZWZhdWx0KCksCiAgICAgICAgICAgICAgICB9CiAgICAgICAgICAgICkuYWRkVG8obWFwXzFjMzFiMGM1ZDcxYzRkNzA5OGRhYjMyNDQwNzIwMTIxKTsKICAgICAgICAKICAgIAogICAgICAgIG1hcmtlcl9mNzQ5ZmY2OTNiOTI0MDBhYTEzMzc4YWMzOGJmZGQ5OS5iaW5kVG9vbHRpcCgKICAgICAgICAgICAgYDxkaXY+YAogICAgICAgICAgICArIGBMb2phYCArIGA8L2Rpdj5gLAogICAgICAgICAgICB7InN0aWNreSI6IHRydWV9CiAgICAgICAgKTsKICAgICAgICAKICAgIAogICAgICAgIHZhciBtYXJrZXJfMDNmN2YwMzE2ZTdjNDQ3YmFjMjYyMWQ2YzI2MGIwOTYgPSBMLm1hcmtlcigKICAgICAgICAgICAgWzU2LjM1NDMxLCAyNi4xNzU3OV0sCiAgICAgICAgICAgIHsKICAgICAgICAgICAgICAgIGljb246IG5ldyBMLkljb24uRGVmYXVsdCgpLAogICAgICAgICAgICAgICAgfQogICAgICAgICAgICApLmFkZFRvKG1hcF8xYzMxYjBjNWQ3MWM0ZDcwOThkYWIzMjQ0MDcyMDEyMSk7CiAgICAgICAgCiAgICAKICAgICAgICBtYXJrZXJfMDNmN2YwMzE2ZTdjNDQ3YmFjMjYyMWQ2YzI2MGIwOTYuYmluZFRvb2x0aXAoCiAgICAgICAgICAgIGA8ZGl2PmAKICAgICAgICAgICAgKyBgTMSrdsSBbmlgICsgYDwvZGl2PmAsCiAgICAgICAgICAgIHsic3RpY2t5IjogdHJ1ZX0KICAgICAgICApOwogICAgICAgIAogICAgCiAgICAgICAgdmFyIG1hcmtlcl8zNzBiMmU1MzA4NzU0MTdlYjRhOGY2NDZkYzYxMTMwOSA9IEwubWFya2VyKAogICAgICAgICAgICBbNTcuNTEyODcsIDI0LjcxOTQxXSwKICAgICAgICAgICAgewogICAgICAgICAgICAgICAgaWNvbjogbmV3IEwuSWNvbi5EZWZhdWx0KCksCiAgICAgICAgICAgICAgICB9CiAgICAgICAgICAgICkuYWRkVG8obWFwXzFjMzFiMGM1ZDcxYzRkNzA5OGRhYjMyNDQwNzIwMTIxKTsKICAgICAgICAKICAgIAogICAgICAgIG1hcmtlcl8zNzBiMmU1MzA4NzU0MTdlYjRhOGY2NDZkYzYxMTMwOS5iaW5kVG9vbHRpcCgKICAgICAgICAgICAgYDxkaXY+YAogICAgICAgICAgICArIGBMaW1iYcW+aWAgKyBgPC9kaXY+YCwKICAgICAgICAgICAgeyJzdGlja3kiOiB0cnVlfQogICAgICAgICk7CiAgICAgICAgCiAgICAKICAgICAgICB2YXIgbWFya2VyXzQzZTQzZGNjN2QwZDQzYTRiZGJjMTE1MTU0NTkzODczID0gTC5tYXJrZXIoCiAgICAgICAgICAgIFs1Ny4yMzQyOSwgMjUuMDQwNTldLAogICAgICAgICAgICB7CiAgICAgICAgICAgICAgICBpY29uOiBuZXcgTC5JY29uLkRlZmF1bHQoKSwKICAgICAgICAgICAgICAgIH0KICAgICAgICAgICAgKS5hZGRUbyhtYXBfMWMzMWIwYzVkNzFjNGQ3MDk4ZGFiMzI0NDA3MjAxMjEpOwogICAgICAgIAogICAgCiAgICAgICAgbWFya2VyXzQzZTQzZGNjN2QwZDQzYTRiZGJjMTE1MTU0NTkzODczLmJpbmRUb29sdGlwKAogICAgICAgICAgICBgPGRpdj5gCiAgICAgICAgICAgICsgYEzEq2dhdG5lYCArIGA8L2Rpdj5gLAogICAgICAgICAgICB7InN0aWNreSI6IHRydWV9CiAgICAgICAgKTsKICAgICAgICAKICAgIAogICAgICAgIHZhciBtYXJrZXJfZDRjZGFmYTFhYWVhNDg1NjhjMTU2NzBlZmJlYjY1YjggPSBMLm1hcmtlcigKICAgICAgICAgICAgWzU2LjUyNzA3LCAyMS4wMjM1N10sCiAgICAgICAgICAgIHsKICAgICAgICAgICAgICAgIGljb246IG5ldyBMLkljb24uRGVmYXVsdCgpLAogICAgICAgICAgICAgICAgfQogICAgICAgICAgICApLmFkZFRvKG1hcF8xYzMxYjBjNWQ3MWM0ZDcwOThkYWIzMjQ0MDcyMDEyMSk7CiAgICAgICAgCiAgICAKICAgICAgICBtYXJrZXJfZDRjZGFmYTFhYWVhNDg1NjhjMTU2NzBlZmJlYjY1YjguYmluZFRvb2x0aXAoCiAgICAgICAgICAgIGA8ZGl2PmAKICAgICAgICAgICAgKyBgTGllcMSBamFgICsgYDwvZGl2PmAsCiAgICAgICAgICAgIHsic3RpY2t5IjogdHJ1ZX0KICAgICAgICApOwogICAgICAgIAogICAgCiAgICAgICAgdmFyIG1hcmtlcl9jNWE0OTlkMDczYTg0OWY0ODlkM2U2YmI0MGJjNzRjZCA9IEwubWFya2VyKAogICAgICAgICAgICBbNTYuNzIwNjYsIDI0LjgwNzQzXSwKICAgICAgICAgICAgewogICAgICAgICAgICAgICAgaWNvbjogbmV3IEwuSWNvbi5EZWZhdWx0KCksCiAgICAgICAgICAgICAgICB9CiAgICAgICAgICAgICkuYWRkVG8obWFwXzFjMzFiMGM1ZDcxYzRkNzA5OGRhYjMyNDQwNzIwMTIxKTsKICAgICAgICAKICAgIAogICAgICAgIG1hcmtlcl9jNWE0OTlkMDczYTg0OWY0ODlkM2U2YmI0MGJjNzRjZC5iaW5kVG9vbHRpcCgKICAgICAgICAgICAgYDxkaXY+YAogICAgICAgICAgICArIGBMaWVsdsSBcmRlYCArIGA8L2Rpdj5gLAogICAgICAgICAgICB7InN0aWNreSI6IHRydWV9CiAgICAgICAgKTsKICAgICAgICAKICAgIAogICAgICAgIHZhciBtYXJrZXJfZTdlOGNkNmJkYzljNDgzNjhkY2JiZGI5OTUxOWU4ZWIgPSBMLm1hcmtlcigKICAgICAgICAgICAgWzU2LjU4MTczLCAyMS4zMzM5OV0sCiAgICAgICAgICAgIHsKICAgICAgICAgICAgICAgIGljb246IG5ldyBMLkljb24uRGVmYXVsdCgpLAogICAgICAgICAgICAgICAgfQogICAgICAgICAgICApLmFkZFRvKG1hcF8xYzMxYjBjNWQ3MWM0ZDcwOThkYWIzMjQ0MDcyMDEyMSk7CiAgICAgICAgCiAgICAKICAgICAgICBtYXJrZXJfZTdlOGNkNmJkYzljNDgzNjhkY2JiZGI5OTUxOWU4ZWIuYmluZFRvb2x0aXAoCiAgICAgICAgICAgIGA8ZGl2PmAKICAgICAgICAgICAgKyBgTGllxKNpYCArIGA8L2Rpdj5gLAogICAgICAgICAgICB7InN0aWNreSI6IHRydWV9CiAgICAgICAgKTsKICAgICAgICAKICAgIAogICAgICAgIHZhciBtYXJrZXJfYTkyNmNlNmEyOWJmNGY3M2FhNzZmZDg0NzQwYTEzMzcgPSBMLm1hcmtlcigKICAgICAgICAgICAgWzU2Ljk3Mzk5LCAyMS45NTcyMV0sCiAgICAgICAgICAgIHsKICAgICAgICAgICAgICAgIGljb246IG5ldyBMLkljb24uRGVmYXVsdCgpLAogICAgICAgICAgICAgICAgfQogICAgICAgICAgICApLmFkZFRvKG1hcF8xYzMxYjBjNWQ3MWM0ZDcwOThkYWIzMjQ0MDcyMDEyMSk7CiAgICAgICAgCiAgICAKICAgICAgICBtYXJrZXJfYTkyNmNlNmEyOWJmNGY3M2FhNzZmZDg0NzQwYTEzMzcuYmluZFRvb2x0aXAoCiAgICAgICAgICAgIGA8ZGl2PmAKICAgICAgICAgICAgKyBgS3VsZMSrZ2FgICsgYDwvZGl2PmAsCiAgICAgICAgICAgIHsic3RpY2t5IjogdHJ1ZX0KICAgICAgICApOwogICAgICAgIAogICAgCiAgICAgICAgdmFyIG1hcmtlcl85NzU5MDUwYTFkYWM0NjBkYWM4YmY2YjA1YWEyNGI4NiA9IEwubWFya2VyKAogICAgICAgICAgICBbNTYuNTEwNjgsIDI1Ljg2MTE3XSwKICAgICAgICAgICAgewogICAgICAgICAgICAgICAgaWNvbjogbmV3IEwuSWNvbi5EZWZhdWx0KCksCiAgICAgICAgICAgICAgICB9CiAgICAgICAgICAgICkuYWRkVG8obWFwXzFjMzFiMGM1ZDcxYzRkNzA5OGRhYjMyNDQwNzIwMTIxKTsKICAgICAgICAKICAgIAogICAgICAgIG1hcmtlcl85NzU5MDUwYTFkYWM0NjBkYWM4YmY2YjA1YWEyNGI4Ni5iaW5kVG9vbHRpcCgKICAgICAgICAgICAgYDxkaXY+YAogICAgICAgICAgICArIGBLcnVzdHBpbHNgICsgYDwvZGl2PmAsCiAgICAgICAgICAgIHsic3RpY2t5IjogdHJ1ZX0KICAgICAgICApOwogICAgICAgIAogICAgCiAgICAgICAgdmFyIG1hcmtlcl83ZTAzNzlmN2YwNmU0M2JkOTlhYzI0OWMzNTQwMTA4MiA9IEwubWFya2VyKAogICAgICAgICAgICBbNTUuODk1MTQsIDI3LjE2Nzk5XSwKICAgICAgICAgICAgewogICAgICAgICAgICAgICAgaWNvbjogbmV3IEwuSWNvbi5EZWZhdWx0KCksCiAgICAgICAgICAgICAgICB9CiAgICAgICAgICAgICkuYWRkVG8obWFwXzFjMzFiMGM1ZDcxYzRkNzA5OGRhYjMyNDQwNzIwMTIxKTsKICAgICAgICAKICAgIAogICAgICAgIG1hcmtlcl83ZTAzNzlmN2YwNmU0M2JkOTlhYzI0OWMzNTQwMTA4Mi5iaW5kVG9vbHRpcCgKICAgICAgICAgICAgYDxkaXY+YAogICAgICAgICAgICArIGBLcsSBc2xhdmFgICsgYDwvZGl2PmAsCiAgICAgICAgICAgIHsic3RpY2t5IjogdHJ1ZX0KICAgICAgICApOwogICAgICAgIAogICAgCiAgICAgICAgdmFyIG1hcmtlcl8zZDJhMzdiYWM2NDc0MjMyYWE4ODBhNGQzOTBkOGUyNiA9IEwubWFya2VyKAogICAgICAgICAgICBbNTYuNjUxNjMsIDI1LjQzNjM3XSwKICAgICAgICAgICAgewogICAgICAgICAgICAgICAgaWNvbjogbmV3IEwuSWNvbi5EZWZhdWx0KCksCiAgICAgICAgICAgICAgICB9CiAgICAgICAgICAgICkuYWRkVG8obWFwXzFjMzFiMGM1ZDcxYzRkNzA5OGRhYjMyNDQwNzIwMTIxKTsKICAgICAgICAKICAgIAogICAgICAgIG1hcmtlcl8zZDJhMzdiYWM2NDc0MjMyYWE4ODBhNGQzOTBkOGUyNi5iaW5kVG9vbHRpcCgKICAgICAgICAgICAgYDxkaXY+YAogICAgICAgICAgICArIGBLb2tuZXNlYCArIGA8L2Rpdj5gLAogICAgICAgICAgICB7InN0aWNreSI6IHRydWV9CiAgICAgICAgKTsKICAgICAgICAKICAgIAogICAgICAgIHZhciBtYXJrZXJfOWRkMDUyZjNmN2QxNDY1ZjhkZDNmYTAyMDUwMDViODkgPSBMLm1hcmtlcigKICAgICAgICAgICAgWzU3LjUyMDU3LCAyNS4zMzgyMV0sCiAgICAgICAgICAgIHsKICAgICAgICAgICAgICAgIGljb246IG5ldyBMLkljb24uRGVmYXVsdCgpLAogICAgICAgICAgICAgICAgfQogICAgICAgICAgICApLmFkZFRvKG1hcF8xYzMxYjBjNWQ3MWM0ZDcwOThkYWIzMjQ0MDcyMDEyMSk7CiAgICAgICAgCiAgICAKICAgICAgICBtYXJrZXJfOWRkMDUyZjNmN2QxNDY1ZjhkZDNmYTAyMDUwMDViODkuYmluZFRvb2x0aXAoCiAgICAgICAgICAgIGA8ZGl2PmAKICAgICAgICAgICAgKyBgS29jxJNuaWAgKyBgPC9kaXY+YCwKICAgICAgICAgICAgeyJzdGlja3kiOiB0cnVlfQogICAgICAgICk7CiAgICAgICAgCiAgICAKICAgICAgICB2YXIgbWFya2VyXzI5NTgxMmRlNjcwYTRjOTlhODkyZGQ0NjEwMDYxZjNjID0gTC5tYXJrZXIoCiAgICAgICAgICAgIFs1Ni44MjY2MiwgMjQuMjNdLAogICAgICAgICAgICB7CiAgICAgICAgICAgICAgICBpY29uOiBuZXcgTC5JY29uLkRlZmF1bHQoKSwKICAgICAgICAgICAgICAgIH0KICAgICAgICAgICAgKS5hZGRUbyhtYXBfMWMzMWIwYzVkNzFjNGQ3MDk4ZGFiMzI0NDA3MjAxMjEpOwogICAgICAgIAogICAgCiAgICAgICAgbWFya2VyXzI5NTgxMmRlNjcwYTRjOTlhODkyZGQ0NjEwMDYxZjNjLmJpbmRUb29sdGlwKAogICAgICAgICAgICBgPGRpdj5gCiAgICAgICAgICAgICsgYMS2ZWthdmFgICsgYDwvZGl2PmAsCiAgICAgICAgICAgIHsic3RpY2t5IjogdHJ1ZX0KICAgICAgICApOwogICAgICAgIAogICAgCiAgICAgICAgdmFyIG1hcmtlcl9mNGMwMTZkNmVmNTg0OWJlYTQzOWNhYzUyOWEzYmExNyA9IEwubWFya2VyKAogICAgICAgICAgICBbNTYuNzQ1MSwgMjQuNzI0MzldLAogICAgICAgICAgICB7CiAgICAgICAgICAgICAgICBpY29uOiBuZXcgTC5JY29uLkRlZmF1bHQoKSwKICAgICAgICAgICAgICAgIH0KICAgICAgICAgICAgKS5hZGRUbyhtYXBfMWMzMWIwYzVkNzFjNGQ3MDk4ZGFiMzI0NDA3MjAxMjEpOwogICAgICAgIAogICAgCiAgICAgICAgbWFya2VyX2Y0YzAxNmQ2ZWY1ODQ5YmVhNDM5Y2FjNTI5YTNiYTE3LmJpbmRUb29sdGlwKAogICAgICAgICAgICBgPGRpdj5gCiAgICAgICAgICAgICsgYMS2ZWd1bXNgICsgYDwvZGl2PmAsCiAgICAgICAgICAgIHsic3RpY2t5IjogdHJ1ZX0KICAgICAgICApOwogICAgICAgIAogICAgCiAgICAgICAgdmFyIG1hcmtlcl8yZWVhMjc1OWExZmE0ZjMyOGRlYzE1NjJmZjNlMmU2MSA9IEwubWFya2VyKAogICAgICAgICAgICBbNTYuNzg0MDUsIDI3LjY4ODI5XSwKICAgICAgICAgICAgewogICAgICAgICAgICAgICAgaWNvbjogbmV3IEwuSWNvbi5EZWZhdWx0KCksCiAgICAgICAgICAgICAgICB9CiAgICAgICAgICAgICkuYWRkVG8obWFwXzFjMzFiMGM1ZDcxYzRkNzA5OGRhYjMyNDQwNzIwMTIxKTsKICAgICAgICAKICAgIAogICAgICAgIG1hcmtlcl8yZWVhMjc1OWExZmE0ZjMyOGRlYzE1NjJmZjNlMmU2MS5iaW5kVG9vbHRpcCgKICAgICAgICAgICAgYDxkaXY+YAogICAgICAgICAgICArIGBLxIFyc2F2YWAgKyBgPC9kaXY+YCwKICAgICAgICAgICAgeyJzdGlja3kiOiB0cnVlfQogICAgICAgICk7CiAgICAgICAgCiAgICAKICAgICAgICB2YXIgbWFya2VyXzRkNjgxNDgxZmNlZTQyZTU4MjVmOWVhYmZhMDkzZTIzID0gTC5tYXJrZXIoCiAgICAgICAgICAgIFs1Ni41NTEyOCwgMjEuMDEyODddLAogICAgICAgICAgICB7CiAgICAgICAgICAgICAgICBpY29uOiBuZXcgTC5JY29uLkRlZmF1bHQoKSwKICAgICAgICAgICAgICAgIH0KICAgICAgICAgICAgKS5hZGRUbyhtYXBfMWMzMWIwYzVkNzFjNGQ3MDk4ZGFiMzI0NDA3MjAxMjEpOwogICAgICAgIAogICAgCiAgICAgICAgbWFya2VyXzRkNjgxNDgxZmNlZTQyZTU4MjVmOWVhYmZhMDkzZTIzLmJpbmRUb29sdGlwKAogICAgICAgICAgICBgPGRpdj5gCiAgICAgICAgICAgICsgYEthcm9zdGFgICsgYDwvZGl2PmAsCiAgICAgICAgICAgIHsic3RpY2t5IjogdHJ1ZX0KICAgICAgICApOwogICAgICAgIAogICAgCiAgICAgICAgdmFyIG1hcmtlcl8wOGMwYmVlMzFlYTk0YmQ4OTFkZmZkOTE3Y2E1Y2M1YSA9IEwubWFya2VyKAogICAgICAgICAgICBbNTcuMDQwODcsIDIyLjc3NDY2XSwKICAgICAgICAgICAgewogICAgICAgICAgICAgICAgaWNvbjogbmV3IEwuSWNvbi5EZWZhdWx0KCksCiAgICAgICAgICAgICAgICB9CiAgICAgICAgICAgICkuYWRkVG8obWFwXzFjMzFiMGM1ZDcxYzRkNzA5OGRhYjMyNDQwNzIwMTIxKTsKICAgICAgICAKICAgIAogICAgICAgIG1hcmtlcl8wOGMwYmVlMzFlYTk0YmQ4OTFkZmZkOTE3Y2E1Y2M1YS5iaW5kVG9vbHRpcCgKICAgICAgICAgICAgYDxkaXY+YAogICAgICAgICAgICArIGBLYW5kYXZhYCArIGA8L2Rpdj5gLAogICAgICAgICAgICB7InN0aWNreSI6IHRydWV9CiAgICAgICAgKTsKICAgICAgICAKICAgIAogICAgICAgIHZhciBtYXJrZXJfNmMwMjQwODQ0ZTE1NGI2NWE2ZDMzMDZlNDM4OTU5YTYgPSBMLm1hcmtlcigKICAgICAgICAgICAgWzU2Ljk2OCwgMjMuNzcwMzhdLAogICAgICAgICAgICB7CiAgICAgICAgICAgICAgICBpY29uOiBuZXcgTC5JY29uLkRlZmF1bHQoKSwKICAgICAgICAgICAgICAgIH0KICAgICAgICAgICAgKS5hZGRUbyhtYXBfMWMzMWIwYzVkNzFjNGQ3MDk4ZGFiMzI0NDA3MjAxMjEpOwogICAgICAgIAogICAgCiAgICAgICAgbWFya2VyXzZjMDI0MDg0NGUxNTRiNjVhNmQzMzA2ZTQzODk1OWE2LmJpbmRUb29sdGlwKAogICAgICAgICAgICBgPGRpdj5gCiAgICAgICAgICAgICsgYErFq3JtYWxhYCArIGA8L2Rpdj5gLAogICAgICAgICAgICB7InN0aWNreSI6IHRydWV9CiAgICAgICAgKTsKICAgICAgICAKICAgIAogICAgICAgIHZhciBtYXJrZXJfMWUxMTNlODYyYWMyNDMxYTgwMWZjMWJiOWVmYWI1OGUgPSBMLm1hcmtlcigKICAgICAgICAgICAgWzU2LjY3NjEzLCAyNC45NzIxXSwKICAgICAgICAgICAgewogICAgICAgICAgICAgICAgaWNvbjogbmV3IEwuSWNvbi5EZWZhdWx0KCksCiAgICAgICAgICAgICAgICB9CiAgICAgICAgICAgICkuYWRkVG8obWFwXzFjMzFiMGM1ZDcxYzRkNzA5OGRhYjMyNDQwNzIwMTIxKTsKICAgICAgICAKICAgIAogICAgICAgIG1hcmtlcl8xZTExM2U4NjJhYzI0MzFhODAxZmMxYmI5ZWZhYjU4ZS5iaW5kVG9vbHRpcCgKICAgICAgICAgICAgYDxkaXY+YAogICAgICAgICAgICArIGBKdW1wcmF2YWAgKyBgPC9kaXY+YCwKICAgICAgICAgICAgeyJzdGlja3kiOiB0cnVlfQogICAgICAgICk7CiAgICAgICAgCiAgICAKICAgICAgICB2YXIgbWFya2VyXzEzMWYyMzZlYzE1MjQ2MmU4YTlmZjE5NjlkYjRhMWU0ID0gTC5tYXJrZXIoCiAgICAgICAgICAgIFs1Ni42NSwgMjMuNzEyNzhdLAogICAgICAgICAgICB7CiAgICAgICAgICAgICAgICBpY29uOiBuZXcgTC5JY29uLkRlZmF1bHQoKSwKICAgICAgICAgICAgICAgIH0KICAgICAgICAgICAgKS5hZGRUbyhtYXBfMWMzMWIwYzVkNzFjNGQ3MDk4ZGFiMzI0NDA3MjAxMjEpOwogICAgICAgIAogICAgCiAgICAgICAgbWFya2VyXzEzMWYyMzZlYzE1MjQ2MmU4YTlmZjE5NjlkYjRhMWU0LmJpbmRUb29sdGlwKAogICAgICAgICAgICBgPGRpdj5gCiAgICAgICAgICAgICsgYEplbGdhdmFgICsgYDwvZGl2PmAsCiAgICAgICAgICAgIHsic3RpY2t5IjogdHJ1ZX0KICAgICAgICApOwogICAgICAgIAogICAgCiAgICAgICAgdmFyIG1hcmtlcl82NTBmZjMzNTA0NTM0ZGY1YjZjOWRlMDc1ZTliMGZlZiA9IEwubWFya2VyKAogICAgICAgICAgICBbNTYuNDk5MDMsIDI1Ljg1NzM1XSwKICAgICAgICAgICAgewogICAgICAgICAgICAgICAgaWNvbjogbmV3IEwuSWNvbi5EZWZhdWx0KCksCiAgICAgICAgICAgICAgICB9CiAgICAgICAgICAgICkuYWRkVG8obWFwXzFjMzFiMGM1ZDcxYzRkNzA5OGRhYjMyNDQwNzIwMTIxKTsKICAgICAgICAKICAgIAogICAgICAgIG1hcmtlcl82NTBmZjMzNTA0NTM0ZGY1YjZjOWRlMDc1ZTliMGZlZi5iaW5kVG9vbHRpcCgKICAgICAgICAgICAgYDxkaXY+YAogICAgICAgICAgICArIGBKxJNrYWJwaWxzYCArIGA8L2Rpdj5gLAogICAgICAgICAgICB7InN0aWNreSI6IHRydWV9CiAgICAgICAgKTsKICAgICAgICAKICAgIAogICAgICAgIHZhciBtYXJrZXJfYWY2N2QzZDkyYTNiNDBjMDgzMzcyOGIzMzYzNmQ0NWIgPSBMLm1hcmtlcigKICAgICAgICAgICAgWzU2LjczMTM3LCAyMy4wMTI0N10sCiAgICAgICAgICAgIHsKICAgICAgICAgICAgICAgIGljb246IG5ldyBMLkljb24uRGVmYXVsdCgpLAogICAgICAgICAgICAgICAgfQogICAgICAgICAgICApLmFkZFRvKG1hcF8xYzMxYjBjNWQ3MWM0ZDcwOThkYWIzMjQ0MDcyMDEyMSk7CiAgICAgICAgCiAgICAKICAgICAgICBtYXJrZXJfYWY2N2QzZDkyYTNiNDBjMDgzMzcyOGIzMzYzNmQ0NWIuYmluZFRvb2x0aXAoCiAgICAgICAgICAgIGA8ZGl2PmAKICAgICAgICAgICAgKyBgSmF1bnBpbHNgICsgYDwvZGl2PmAsCiAgICAgICAgICAgIHsic3RpY2t5IjogdHJ1ZX0KICAgICAgICApOwogICAgICAgIAogICAgCiAgICAgICAgdmFyIG1hcmtlcl82NGRkOGFiZDM2MmY0OTZkOGUzMjM0YzFiNTAzNzJiZiA9IEwubWFya2VyKAogICAgICAgICAgICBbNTcuMTc3NDUsIDI2LjAyODRdLAogICAgICAgICAgICB7CiAgICAgICAgICAgICAgICBpY29uOiBuZXcgTC5JY29uLkRlZmF1bHQoKSwKICAgICAgICAgICAgICAgIH0KICAgICAgICAgICAgKS5hZGRUbyhtYXBfMWMzMWIwYzVkNzFjNGQ3MDk4ZGFiMzI0NDA3MjAxMjEpOwogICAgICAgIAogICAgCiAgICAgICAgbWFya2VyXzY0ZGQ4YWJkMzYyZjQ5NmQ4ZTMyMzRjMWI1MDM3MmJmLmJpbmRUb29sdGlwKAogICAgICAgICAgICBgPGRpdj5gCiAgICAgICAgICAgICsgYEphdW5waWViYWxnYWAgKyBgPC9kaXY+YCwKICAgICAgICAgICAgeyJzdGlja3kiOiB0cnVlfQogICAgICAgICk7CiAgICAgICAgCiAgICAKICAgICAgICB2YXIgbWFya2VyX2FkMzMxOGViOWIxMzRmMGViOTcyZWJiNDM3ZTdmMWU1ID0gTC5tYXJrZXIoCiAgICAgICAgICAgIFs1Ni42MTMxOSwgMjUuMDgzMTZdLAogICAgICAgICAgICB7CiAgICAgICAgICAgICAgICBpY29uOiBuZXcgTC5JY29uLkRlZmF1bHQoKSwKICAgICAgICAgICAgICAgIH0KICAgICAgICAgICAgKS5hZGRUbyhtYXBfMWMzMWIwYzVkNzFjNGQ3MDk4ZGFiMzI0NDA3MjAxMjEpOwogICAgICAgIAogICAgCiAgICAgICAgbWFya2VyX2FkMzMxOGViOWIxMzRmMGViOTcyZWJiNDM3ZTdmMWU1LmJpbmRUb29sdGlwKAogICAgICAgICAgICBgPGRpdj5gCiAgICAgICAgICAgICsgYEphdW5qZWxnYXZhYCArIGA8L2Rpdj5gLAogICAgICAgICAgICB7InN0aWNreSI6IHRydWV9CiAgICAgICAgKTsKICAgICAgICAKICAgIAogICAgICAgIHZhciBtYXJrZXJfMDA0YjM4YjE5YTc0NGRmMWFiZTA2YWIyMGY3MmRhM2UgPSBMLm1hcmtlcigKICAgICAgICAgICAgWzU3LjAzOTEsIDI0LjE3NDEzXSwKICAgICAgICAgICAgewogICAgICAgICAgICAgICAgaWNvbjogbmV3IEwuSWNvbi5EZWZhdWx0KCksCiAgICAgICAgICAgICAgICB9CiAgICAgICAgICAgICkuYWRkVG8obWFwXzFjMzFiMGM1ZDcxYzRkNzA5OGRhYjMyNDQwNzIwMTIxKTsKICAgICAgICAKICAgIAogICAgICAgIG1hcmtlcl8wMDRiMzhiMTlhNzQ0ZGYxYWJlMDZhYjIwZjcyZGEzZS5iaW5kVG9vbHRpcCgKICAgICAgICAgICAgYDxkaXY+YAogICAgICAgICAgICArIGBKYXVuY2llbXNgICsgYDwvZGl2PmAsCiAgICAgICAgICAgIHsic3RpY2t5IjogdHJ1ZX0KICAgICAgICApOwogICAgICAgIAogICAgCiAgICAgICAgdmFyIG1hcmtlcl81ZGE4NGYxYWQ4MWI0NGU1YmQ2NzhiNGZmZjcwZTU2YSA9IEwubWFya2VyKAogICAgICAgICAgICBbNTYuMTYwNjYsIDI3LjAwNzE0XSwKICAgICAgICAgICAgewogICAgICAgICAgICAgICAgaWNvbjogbmV3IEwuSWNvbi5EZWZhdWx0KCksCiAgICAgICAgICAgICAgICB9CiAgICAgICAgICAgICkuYWRkVG8obWFwXzFjMzFiMGM1ZDcxYzRkNzA5OGRhYjMyNDQwNzIwMTIxKTsKICAgICAgICAKICAgIAogICAgICAgIG1hcmtlcl81ZGE4NGYxYWQ4MWI0NGU1YmQ2NzhiNGZmZjcwZTU2YS5iaW5kVG9vbHRpcCgKICAgICAgICAgICAgYDxkaXY+YAogICAgICAgICAgICArIGBKYXVuYWdsb25hYCArIGA8L2Rpdj5gLAogICAgICAgICAgICB7InN0aWNreSI6IHRydWV9CiAgICAgICAgKTsKICAgICAgICAKICAgIAogICAgICAgIHZhciBtYXJrZXJfNjc5OTkwZjcwNWU3NDUzZWE4M2I4ODQ3ZDhlMjljODcgPSBMLm1hcmtlcigKICAgICAgICAgICAgWzU3LjA5ODY3LCAyNC42ODYzXSwKICAgICAgICAgICAgewogICAgICAgICAgICAgICAgaWNvbjogbmV3IEwuSWNvbi5EZWZhdWx0KCksCiAgICAgICAgICAgICAgICB9CiAgICAgICAgICAgICkuYWRkVG8obWFwXzFjMzFiMGM1ZDcxYzRkNzA5OGRhYjMyNDQwNzIwMTIxKTsKICAgICAgICAKICAgIAogICAgICAgIG1hcmtlcl82Nzk5OTBmNzA1ZTc0NTNlYTgzYjg4NDdkOGUyOWM4Ny5iaW5kVG9vbHRpcCgKICAgICAgICAgICAgYDxkaXY+YAogICAgICAgICAgICArIGBJbsSNdWthbG5zYCArIGA8L2Rpdj5gLAogICAgICAgICAgICB7InN0aWNreSI6IHRydWV9CiAgICAgICAgKTsKICAgICAgICAKICAgIAogICAgICAgIHZhciBtYXJrZXJfOWU2YzU5NGZjNmM4NGMwYWIwODk1ZDU4MmU2MmY3MGEgPSBMLm1hcmtlcigKICAgICAgICAgICAgWzU1Ljk3NzU0LCAyNi4yOTY1NV0sCiAgICAgICAgICAgIHsKICAgICAgICAgICAgICAgIGljb246IG5ldyBMLkljb24uRGVmYXVsdCgpLAogICAgICAgICAgICAgICAgfQogICAgICAgICAgICApLmFkZFRvKG1hcF8xYzMxYjBjNWQ3MWM0ZDcwOThkYWIzMjQ0MDcyMDEyMSk7CiAgICAgICAgCiAgICAKICAgICAgICBtYXJrZXJfOWU2YzU5NGZjNmM4NGMwYWIwODk1ZDU4MmU2MmY3MGEuYmluZFRvb2x0aXAoCiAgICAgICAgICAgIGA8ZGl2PmAKICAgICAgICAgICAgKyBgSWzFq2tzdGVgICsgYDwvZGl2PmAsCiAgICAgICAgICAgIHsic3RpY2t5IjogdHJ1ZX0KICAgICAgICApOwogICAgICAgIAogICAgCiAgICAgICAgdmFyIG1hcmtlcl8yNmQ3ZmE4NGRmOWQ0ZjUwOWM2MDAxOWM3ZjVjOGE3MiA9IEwubWFya2VyKAogICAgICAgICAgICBbNTYuODMzOTksIDI0LjQ5Njc5XSwKICAgICAgICAgICAgewogICAgICAgICAgICAgICAgaWNvbjogbmV3IEwuSWNvbi5EZWZhdWx0KCksCiAgICAgICAgICAgICAgICB9CiAgICAgICAgICAgICkuYWRkVG8obWFwXzFjMzFiMGM1ZDcxYzRkNzA5OGRhYjMyNDQwNzIwMTIxKTsKICAgICAgICAKICAgIAogICAgICAgIG1hcmtlcl8yNmQ3ZmE4NGRmOWQ0ZjUwOWM2MDAxOWM3ZjVjOGE3Mi5iaW5kVG9vbHRpcCgKICAgICAgICAgICAgYDxkaXY+YAogICAgICAgICAgICArIGBJa8WhxLdpbGVgICsgYDwvZGl2PmAsCiAgICAgICAgICAgIHsic3RpY2t5IjogdHJ1ZX0KICAgICAgICApOwogICAgICAgIAogICAgCiAgICAgICAgdmFyIG1hcmtlcl82NjViMjk1ZWUyMTE0ZjcwOWI4NWNhYTAzYTcyNWY4MyA9IEwubWFya2VyKAogICAgICAgICAgICBbNTYuNTk3NjYsIDI0LjIwNzYzXSwKICAgICAgICAgICAgewogICAgICAgICAgICAgICAgaWNvbjogbmV3IEwuSWNvbi5EZWZhdWx0KCksCiAgICAgICAgICAgICAgICB9CiAgICAgICAgICAgICkuYWRkVG8obWFwXzFjMzFiMGM1ZDcxYzRkNzA5OGRhYjMyNDQwNzIwMTIxKTsKICAgICAgICAKICAgIAogICAgICAgIG1hcmtlcl82NjViMjk1ZWUyMTE0ZjcwOWI4NWNhYTAzYTcyNWY4My5iaW5kVG9vbHRpcCgKICAgICAgICAgICAgYDxkaXY+YAogICAgICAgICAgICArIGBJZWNhdmFgICsgYDwvZGl2PmAsCiAgICAgICAgICAgIHsic3RpY2t5IjogdHJ1ZX0KICAgICAgICApOwogICAgICAgIAogICAgCiAgICAgICAgdmFyIG1hcmtlcl83ZDg3YmE3YWI3N2I0Njg0YTA4OGRlNzE5N2U0MzBiMyA9IEwubWFya2VyKAogICAgICAgICAgICBbNTcuMTc3NjcsIDI2Ljc1MjkxXSwKICAgICAgICAgICAgewogICAgICAgICAgICAgICAgaWNvbjogbmV3IEwuSWNvbi5EZWZhdWx0KCksCiAgICAgICAgICAgICAgICB9CiAgICAgICAgICAgICkuYWRkVG8obWFwXzFjMzFiMGM1ZDcxYzRkNzA5OGRhYjMyNDQwNzIwMTIxKTsKICAgICAgICAKICAgIAogICAgICAgIG1hcmtlcl83ZDg3YmE3YWI3N2I0Njg0YTA4OGRlNzE5N2U0MzBiMy5iaW5kVG9vbHRpcCgKICAgICAgICAgICAgYDxkaXY+YAogICAgICAgICAgICArIGBHdWxiZW5lYCArIGA8L2Rpdj5gLAogICAgICAgICAgICB7InN0aWNreSI6IHRydWV9CiAgICAgICAgKTsKICAgICAgICAKICAgIAogICAgICAgIHZhciBtYXJrZXJfYzNmMmMyNzk5ODIxNDM4MWIyMTdjYzQxM2E5Mzc3Y2YgPSBMLm1hcmtlcigKICAgICAgICAgICAgWzU2LjUzNTIxLCAyMS4xNjc4Ml0sCiAgICAgICAgICAgIHsKICAgICAgICAgICAgICAgIGljb246IG5ldyBMLkljb24uRGVmYXVsdCgpLAogICAgICAgICAgICAgICAgfQogICAgICAgICAgICApLmFkZFRvKG1hcF8xYzMxYjBjNWQ3MWM0ZDcwOThkYWIzMjQ0MDcyMDEyMSk7CiAgICAgICAgCiAgICAKICAgICAgICBtYXJrZXJfYzNmMmMyNzk5ODIxNDM4MWIyMTdjYzQxM2E5Mzc3Y2YuYmluZFRvb2x0aXAoCiAgICAgICAgICAgIGA8ZGl2PmAKICAgICAgICAgICAgKyBgR3JvYmnFhmFgICsgYDwvZGl2PmAsCiAgICAgICAgICAgIHsic3RpY2t5IjogdHJ1ZX0KICAgICAgICApOwogICAgICAgIAogICAgCiAgICAgICAgdmFyIG1hcmtlcl9kYjk0NmFiOTg1YTI0ZmY2YjdhNjJmNGQ3NjcxZDE4OCA9IEwubWFya2VyKAogICAgICAgICAgICBbNTYuNTQ5OCwgMjcuODgzN10sCiAgICAgICAgICAgIHsKICAgICAgICAgICAgICAgIGljb246IG5ldyBMLkljb24uRGVmYXVsdCgpLAogICAgICAgICAgICAgICAgfQogICAgICAgICAgICApLmFkZFRvKG1hcF8xYzMxYjBjNWQ3MWM0ZDcwOThkYWIzMjQ0MDcyMDEyMSk7CiAgICAgICAgCiAgICAKICAgICAgICBtYXJrZXJfZGI5NDZhYjk4NWEyNGZmNmI3YTYyZjRkNzY3MWQxODguYmluZFRvb2x0aXAoCiAgICAgICAgICAgIGA8ZGl2PmAKICAgICAgICAgICAgKyBgQ2libGFgICsgYDwvZGl2PmAsCiAgICAgICAgICAgIHsic3RpY2t5IjogdHJ1ZX0KICAgICAgICApOwogICAgICAgIAogICAgCiAgICAgICAgdmFyIG1hcmtlcl9hNDQ3OWYwNGE5MGY0MGNhOWE0Y2RkMTc3OTc4ODVmNiA9IEwubWFya2VyKAogICAgICAgICAgICBbNTYuODk3NTIsIDI1LjYzNjY4XSwKICAgICAgICAgICAgewogICAgICAgICAgICAgICAgaWNvbjogbmV3IEwuSWNvbi5EZWZhdWx0KCksCiAgICAgICAgICAgICAgICB9CiAgICAgICAgICAgICkuYWRkVG8obWFwXzFjMzFiMGM1ZDcxYzRkNzA5OGRhYjMyNDQwNzIwMTIxKTsKICAgICAgICAKICAgIAogICAgICAgIG1hcmtlcl9hNDQ3OWYwNGE5MGY0MGNhOWE0Y2RkMTc3OTc4ODVmNi5iaW5kVG9vbHRpcCgKICAgICAgICAgICAgYDxkaXY+YAogICAgICAgICAgICArIGDEknJnxLxpYCArIGA8L2Rpdj5gLAogICAgICAgICAgICB7InN0aWNreSI6IHRydWV9CiAgICAgICAgKTsKICAgICAgICAKICAgIAogICAgICAgIHZhciBtYXJrZXJfM2JlNzA2YjZkMThmNDM4NGFjYzc2YTExYjEwYmU3YjIgPSBMLm1hcmtlcigKICAgICAgICAgICAgWzU3LjE2MDYxLCAyMy4yMjUyN10sCiAgICAgICAgICAgIHsKICAgICAgICAgICAgICAgIGljb246IG5ldyBMLkljb24uRGVmYXVsdCgpLAogICAgICAgICAgICAgICAgfQogICAgICAgICAgICApLmFkZFRvKG1hcF8xYzMxYjBjNWQ3MWM0ZDcwOThkYWIzMjQ0MDcyMDEyMSk7CiAgICAgICAgCiAgICAKICAgICAgICBtYXJrZXJfM2JlNzA2YjZkMThmNDM4NGFjYzc2YTExYjEwYmU3YjIuYmluZFRvb2x0aXAoCiAgICAgICAgICAgIGA8ZGl2PmAKICAgICAgICAgICAgKyBgRW5ndXJlYCArIGA8L2Rpdj5gLAogICAgICAgICAgICB7InN0aWNreSI6IHRydWV9CiAgICAgICAgKTsKICAgICAgICAKICAgIAogICAgICAgIHZhciBtYXJrZXJfNmYzYjdjMDU5YWUwNGY0NzgwM2UyMWQ5MzRlNGQ5NGIgPSBMLm1hcmtlcigKICAgICAgICAgICAgWzU3LjUwNDk4LCAyMi4zNTA0MV0sCiAgICAgICAgICAgIHsKICAgICAgICAgICAgICAgIGljb246IG5ldyBMLkljb24uRGVmYXVsdCgpLAogICAgICAgICAgICAgICAgfQogICAgICAgICAgICApLmFkZFRvKG1hcF8xYzMxYjBjNWQ3MWM0ZDcwOThkYWIzMjQ0MDcyMDEyMSk7CiAgICAgICAgCiAgICAKICAgICAgICBtYXJrZXJfNmYzYjdjMDU5YWUwNGY0NzgwM2UyMWQ5MzRlNGQ5NGIuYmluZFRvb2x0aXAoCiAgICAgICAgICAgIGA8ZGl2PmAKICAgICAgICAgICAgKyBgRHVuZGFnYWAgKyBgPC9kaXY+YCwKICAgICAgICAgICAgeyJzdGlja3kiOiB0cnVlfQogICAgICAgICk7CiAgICAgICAgCiAgICAKICAgICAgICB2YXIgbWFya2VyX2M3ZDJhZmU4Yjg0NTRmNDRiNDJlZTkxNjgyMmM4NmMwID0gTC5tYXJrZXIoCiAgICAgICAgICAgIFs1Ny4yNDMxNiwgMjUuMjc3NDhdLAogICAgICAgICAgICB7CiAgICAgICAgICAgICAgICBpY29uOiBuZXcgTC5JY29uLkRlZmF1bHQoKSwKICAgICAgICAgICAgICAgIH0KICAgICAgICAgICAgKS5hZGRUbyhtYXBfMWMzMWIwYzVkNzFjNGQ3MDk4ZGFiMzI0NDA3MjAxMjEpOwogICAgICAgIAogICAgCiAgICAgICAgbWFya2VyX2M3ZDJhZmU4Yjg0NTRmNDRiNDJlZTkxNjgyMmM4NmMwLmJpbmRUb29sdGlwKAogICAgICAgICAgICBgPGRpdj5gCiAgICAgICAgICAgICsgYERyYWJlxaFpYCArIGA8L2Rpdj5gLAogICAgICAgICAgICB7InN0aWNreSI6IHRydWV9CiAgICAgICAgKTsKICAgICAgICAKICAgIAogICAgICAgIHZhciBtYXJrZXJfMjU3MTUxMWJhNjQ3NGU0ZTk1ZmFiN2U1NmFhZmY0MmIgPSBMLm1hcmtlcigKICAgICAgICAgICAgWzU2LjYyMzcyLCAyMy4yNzUxXSwKICAgICAgICAgICAgewogICAgICAgICAgICAgICAgaWNvbjogbmV3IEwuSWNvbi5EZWZhdWx0KCksCiAgICAgICAgICAgICAgICB9CiAgICAgICAgICAgICkuYWRkVG8obWFwXzFjMzFiMGM1ZDcxYzRkNzA5OGRhYjMyNDQwNzIwMTIxKTsKICAgICAgICAKICAgIAogICAgICAgIG1hcmtlcl8yNTcxNTExYmE2NDc0ZTRlOTVmYWI3ZTU2YWFmZjQyYi5iaW5kVG9vbHRpcCgKICAgICAgICAgICAgYDxkaXY+YAogICAgICAgICAgICArIGBEb2JlbGVgICsgYDwvZGl2PmAsCiAgICAgICAgICAgIHsic3RpY2t5IjogdHJ1ZX0KICAgICAgICApOwogICAgICAgIAogICAgCiAgICAgICAgdmFyIG1hcmtlcl8zODAyMmJhMTdlY2U0ODc1ODE2OGM3YjQxODE1ZTU0YyA9IEwubWFya2VyKAogICAgICAgICAgICBbNTUuODgzMzMsIDI2LjUzMzMzXSwKICAgICAgICAgICAgewogICAgICAgICAgICAgICAgaWNvbjogbmV3IEwuSWNvbi5EZWZhdWx0KCksCiAgICAgICAgICAgICAgICB9CiAgICAgICAgICAgICkuYWRkVG8obWFwXzFjMzFiMGM1ZDcxYzRkNzA5OGRhYjMyNDQwNzIwMTIxKTsKICAgICAgICAKICAgIAogICAgICAgIG1hcmtlcl8zODAyMmJhMTdlY2U0ODc1ODE2OGM3YjQxODE1ZTU0Yy5iaW5kVG9vbHRpcCgKICAgICAgICAgICAgYDxkaXY+YAogICAgICAgICAgICArIGBEYXVnYXZwaWxzYCArIGA8L2Rpdj5gLAogICAgICAgICAgICB7InN0aWNreSI6IHRydWV9CiAgICAgICAgKTsKICAgICAgICAKICAgIAogICAgICAgIHZhciBtYXJrZXJfNTBlYzQ3MmM1NzQ2NDkzMWI5Njk3MDFhMDg0YWY4N2IgPSBMLm1hcmtlcigKICAgICAgICAgICAgWzU3LjA0MzE1LCAyNC4wMzYxM10sCiAgICAgICAgICAgIHsKICAgICAgICAgICAgICAgIGljb246IG5ldyBMLkljb24uRGVmYXVsdCgpLAogICAgICAgICAgICAgICAgfQogICAgICAgICAgICApLmFkZFRvKG1hcF8xYzMxYjBjNWQ3MWM0ZDcwOThkYWIzMjQ0MDcyMDEyMSk7CiAgICAgICAgCiAgICAKICAgICAgICBtYXJrZXJfNTBlYzQ3MmM1NzQ2NDkzMWI5Njk3MDFhMDg0YWY4N2IuYmluZFRvb2x0aXAoCiAgICAgICAgICAgIGA8ZGl2PmAKICAgICAgICAgICAgKyBgRGF1Z2F2Z3LEq3ZhYCArIGA8L2Rpdj5gLAogICAgICAgICAgICB7InN0aWNreSI6IHRydWV9CiAgICAgICAgKTsKICAgICAgICAKICAgIAogICAgICAgIHZhciBtYXJrZXJfNjhhNzFmM2Q2ZjhiNGJjZGFjMDA0NGIxYTgxZGYzMGMgPSBMLm1hcmtlcigKICAgICAgICAgICAgWzU2LjA5NTEyLCAyNy41MzcyM10sCiAgICAgICAgICAgIHsKICAgICAgICAgICAgICAgIGljb246IG5ldyBMLkljb24uRGVmYXVsdCgpLAogICAgICAgICAgICAgICAgfQogICAgICAgICAgICApLmFkZFRvKG1hcF8xYzMxYjBjNWQ3MWM0ZDcwOThkYWIzMjQ0MDcyMDEyMSk7CiAgICAgICAgCiAgICAKICAgICAgICBtYXJrZXJfNjhhNzFmM2Q2ZjhiNGJjZGFjMDA0NGIxYTgxZGYzMGMuYmluZFRvb2x0aXAoCiAgICAgICAgICAgIGA8ZGl2PmAKICAgICAgICAgICAgKyBgRGFnZGFgICsgYDwvZGl2PmAsCiAgICAgICAgICAgIHsic3RpY2t5IjogdHJ1ZX0KICAgICAgICApOwogICAgICAgIAogICAgCiAgICAgICAgdmFyIG1hcmtlcl84NTdlZDBkMWEwNmQ0MzMxYjIyMDQ2YjEzNWI3MGYzNiA9IEwubWFya2VyKAogICAgICAgICAgICBbNTYuOTY3NTQsIDI2LjMwNzY0XSwKICAgICAgICAgICAgewogICAgICAgICAgICAgICAgaWNvbjogbmV3IEwuSWNvbi5EZWZhdWx0KCksCiAgICAgICAgICAgICAgICB9CiAgICAgICAgICAgICkuYWRkVG8obWFwXzFjMzFiMGM1ZDcxYzRkNzA5OGRhYjMyNDQwNzIwMTIxKTsKICAgICAgICAKICAgIAogICAgICAgIG1hcmtlcl84NTdlZDBkMWEwNmQ0MzMxYjIyMDQ2YjEzNWI3MGYzNi5iaW5kVG9vbHRpcCgKICAgICAgICAgICAgYDxkaXY+YAogICAgICAgICAgICArIGBDZXN2YWluZWAgKyBgPC9kaXY+YCwKICAgICAgICAgICAgeyJzdGlja3kiOiB0cnVlfQogICAgICAgICk7CiAgICAgICAgCiAgICAKICAgICAgICB2YXIgbWFya2VyXzQ0OGFjYjllNjkwNTQxNmZiNzNiNTYxMjI4YzhmMDBlID0gTC5tYXJrZXIoCiAgICAgICAgICAgIFs1Ny4zMTE4OCwgMjUuMjc0NTZdLAogICAgICAgICAgICB7CiAgICAgICAgICAgICAgICBpY29uOiBuZXcgTC5JY29uLkRlZmF1bHQoKSwKICAgICAgICAgICAgICAgIH0KICAgICAgICAgICAgKS5hZGRUbyhtYXBfMWMzMWIwYzVkNzFjNGQ3MDk4ZGFiMzI0NDA3MjAxMjEpOwogICAgICAgIAogICAgCiAgICAgICAgbWFya2VyXzQ0OGFjYjllNjkwNTQxNmZiNzNiNTYxMjI4YzhmMDBlLmJpbmRUb29sdGlwKAogICAgICAgICAgICBgPGRpdj5gCiAgICAgICAgICAgICsgYEPEk3Npc2AgKyBgPC9kaXY+YCwKICAgICAgICAgICAgeyJzdGlja3kiOiB0cnVlfQogICAgICAgICk7CiAgICAgICAgCiAgICAKICAgICAgICB2YXIgbWFya2VyXzlhMjQ3NzM2YzM2MDQwMzA5MGI0YjFjYzRmMTg2MzY1ID0gTC5tYXJrZXIoCiAgICAgICAgICAgIFs1Ny4xMjkzNSwgMjQuMjg0MjNdLAogICAgICAgICAgICB7CiAgICAgICAgICAgICAgICBpY29uOiBuZXcgTC5JY29uLkRlZmF1bHQoKSwKICAgICAgICAgICAgICAgIH0KICAgICAgICAgICAgKS5hZGRUbyhtYXBfMWMzMWIwYzVkNzFjNGQ3MDk4ZGFiMzI0NDA3MjAxMjEpOwogICAgICAgIAogICAgCiAgICAgICAgbWFya2VyXzlhMjQ3NzM2YzM2MDQwMzA5MGI0YjFjYzRmMTg2MzY1LmJpbmRUb29sdGlwKAogICAgICAgICAgICBgPGRpdj5gCiAgICAgICAgICAgICsgYENhcm5pa2F2YWAgKyBgPC9kaXY+YCwKICAgICAgICAgICAgeyJzdGlja3kiOiB0cnVlfQogICAgICAgICk7CiAgICAgICAgCiAgICAKICAgICAgICB2YXIgbWFya2VyXzA3MTZkYzM4YjUzNDQwMTM4ZjQ1MDg1OTRjOTY3YTFjID0gTC5tYXJrZXIoCiAgICAgICAgICAgIFs1Ni42Nzg5LCAyMi41Njk0NV0sCiAgICAgICAgICAgIHsKICAgICAgICAgICAgICAgIGljb246IG5ldyBMLkljb24uRGVmYXVsdCgpLAogICAgICAgICAgICAgICAgfQogICAgICAgICAgICApLmFkZFRvKG1hcF8xYzMxYjBjNWQ3MWM0ZDcwOThkYWIzMjQ0MDcyMDEyMSk7CiAgICAgICAgCiAgICAKICAgICAgICBtYXJrZXJfMDcxNmRjMzhiNTM0NDAxMzhmNDUwODU5NGM5NjdhMWMuYmluZFRvb2x0aXAoCiAgICAgICAgICAgIGA8ZGl2PmAKICAgICAgICAgICAgKyBgQnJvY8STbmlgICsgYDwvZGl2PmAsCiAgICAgICAgICAgIHsic3RpY2t5IjogdHJ1ZX0KICAgICAgICApOwogICAgICAgIAogICAgCiAgICAgICAgdmFyIG1hcmtlcl8wYmJmYzljMzJiNTU0ZTExYTU4YTVjYzFlYzUyZjhlZCA9IEwubWFya2VyKAogICAgICAgICAgICBbNTcuMDMxMzIsIDI0LjA1NTcxXSwKICAgICAgICAgICAgewogICAgICAgICAgICAgICAgaWNvbjogbmV3IEwuSWNvbi5EZWZhdWx0KCksCiAgICAgICAgICAgICAgICB9CiAgICAgICAgICAgICkuYWRkVG8obWFwXzFjMzFiMGM1ZDcxYzRkNzA5OGRhYjMyNDQwNzIwMTIxKTsKICAgICAgICAKICAgIAogICAgICAgIG1hcmtlcl8wYmJmYzljMzJiNTU0ZTExYTU4YTVjYzFlYzUyZjhlZC5iaW5kVG9vbHRpcCgKICAgICAgICAgICAgYDxkaXY+YAogICAgICAgICAgICArIGBCb2xkZXJhamFgICsgYDwvZGl2PmAsCiAgICAgICAgICAgIHsic3RpY2t5IjogdHJ1ZX0KICAgICAgICApOwogICAgICAgIAogICAgCiAgICAgICAgdmFyIG1hcmtlcl9mOGE2NWZmNWU1ZWI0YjI0ODliNDcyYzdlMjkyYWJhYSA9IEwubWFya2VyKAogICAgICAgICAgICBbNTYuOTg2MzksIDI0LjI5OTE3XSwKICAgICAgICAgICAgewogICAgICAgICAgICAgICAgaWNvbjogbmV3IEwuSWNvbi5EZWZhdWx0KCksCiAgICAgICAgICAgICAgICB9CiAgICAgICAgICAgICkuYWRkVG8obWFwXzFjMzFiMGM1ZDcxYzRkNzA5OGRhYjMyNDQwNzIwMTIxKTsKICAgICAgICAKICAgIAogICAgICAgIG1hcmtlcl9mOGE2NWZmNWU1ZWI0YjI0ODliNDcyYzdlMjkyYWJhYS5iaW5kVG9vbHRpcCgKICAgICAgICAgICAgYDxkaXY+YAogICAgICAgICAgICArIGBCZXLEo2lgICsgYDwvZGl2PmAsCiAgICAgICAgICAgIHsic3RpY2t5IjogdHJ1ZX0KICAgICAgICApOwogICAgICAgIAogICAgCiAgICAgICAgdmFyIG1hcmtlcl82ZGZhZWE0NjViMDg0NjUwYmI1MDAwNzVkYjk2OGQyZCA9IEwubWFya2VyKAogICAgICAgICAgICBbNTYuNDA3OTQsIDI0LjE5NDQzXSwKICAgICAgICAgICAgewogICAgICAgICAgICAgICAgaWNvbjogbmV3IEwuSWNvbi5EZWZhdWx0KCksCiAgICAgICAgICAgICAgICB9CiAgICAgICAgICAgICkuYWRkVG8obWFwXzFjMzFiMGM1ZDcxYzRkNzA5OGRhYjMyNDQwNzIwMTIxKTsKICAgICAgICAKICAgIAogICAgICAgIG1hcmtlcl82ZGZhZWE0NjViMDg0NjUwYmI1MDAwNzVkYjk2OGQyZC5iaW5kVG9vbHRpcCgKICAgICAgICAgICAgYDxkaXY+YAogICAgICAgICAgICArIGBCYXVza2FgICsgYDwvZGl2PmAsCiAgICAgICAgICAgIHsic3RpY2t5IjogdHJ1ZX0KICAgICAgICApOwogICAgICAgIAogICAgCiAgICAgICAgdmFyIG1hcmtlcl8wNDdiMzE3NTEwYjI0ZTBlYWEzMzNlZGYzZTdjYjk5OCA9IEwubWFya2VyKAogICAgICAgICAgICBbNTcuMTMxMywgMjcuMjY1ODNdLAogICAgICAgICAgICB7CiAgICAgICAgICAgICAgICBpY29uOiBuZXcgTC5JY29uLkRlZmF1bHQoKSwKICAgICAgICAgICAgICAgIH0KICAgICAgICAgICAgKS5hZGRUbyhtYXBfMWMzMWIwYzVkNzFjNGQ3MDk4ZGFiMzI0NDA3MjAxMjEpOwogICAgICAgIAogICAgCiAgICAgICAgbWFya2VyXzA0N2IzMTc1MTBiMjRlMGVhYTMzM2VkZjNlN2NiOTk4LmJpbmRUb29sdGlwKAogICAgICAgICAgICBgPGRpdj5gCiAgICAgICAgICAgICsgYEJhbHZpYCArIGA8L2Rpdj5gLAogICAgICAgICAgICB7InN0aWNreSI6IHRydWV9CiAgICAgICAgKTsKICAgICAgICAKICAgIAogICAgICAgIHZhciBtYXJrZXJfYmRlNTkwNWQxOWI3NDEyNjkyNjU1YzBiOWRlMjcwZGEgPSBMLm1hcmtlcigKICAgICAgICAgICAgWzU2Ljk0Mzk0LCAyNy42NDQwMV0sCiAgICAgICAgICAgIHsKICAgICAgICAgICAgICAgIGljb246IG5ldyBMLkljb24uRGVmYXVsdCgpLAogICAgICAgICAgICAgICAgfQogICAgICAgICAgICApLmFkZFRvKG1hcF8xYzMxYjBjNWQ3MWM0ZDcwOThkYWIzMjQ0MDcyMDEyMSk7CiAgICAgICAgCiAgICAKICAgICAgICBtYXJrZXJfYmRlNTkwNWQxOWI3NDEyNjkyNjU1YzBiOWRlMjcwZGEuYmluZFRvb2x0aXAoCiAgICAgICAgICAgIGA8ZGl2PmAKICAgICAgICAgICAgKyBgQmFsdGluYXZhYCArIGA8L2Rpdj5gLAogICAgICAgICAgICB7InN0aWNreSI6IHRydWV9CiAgICAgICAgKTsKICAgICAgICAKICAgIAogICAgICAgIHZhciBtYXJrZXJfZmViY2VjN2M0MzQ2NDc2Nzg0ZDA4ZjUwNzQ1NjMwMDQgPSBMLm1hcmtlcigKICAgICAgICAgICAgWzU2Ljc0NDUxLCAyNC40MDA3OF0sCiAgICAgICAgICAgIHsKICAgICAgICAgICAgICAgIGljb246IG5ldyBMLkljb24uRGVmYXVsdCgpLAogICAgICAgICAgICAgICAgfQogICAgICAgICAgICApLmFkZFRvKG1hcF8xYzMxYjBjNWQ3MWM0ZDcwOThkYWIzMjQ0MDcyMDEyMSk7CiAgICAgICAgCiAgICAKICAgICAgICBtYXJrZXJfZmViY2VjN2M0MzQ2NDc2Nzg0ZDA4ZjUwNzQ1NjMwMDQuYmluZFRvb2x0aXAoCiAgICAgICAgICAgIGA8ZGl2PmAKICAgICAgICAgICAgKyBgQmFsZG9uZWAgKyBgPC9kaXY+YCwKICAgICAgICAgICAgeyJzdGlja3kiOiB0cnVlfQogICAgICAgICk7CiAgICAgICAgCiAgICAKICAgICAgICB2YXIgbWFya2VyXzk4OGNmNTM2ODZiYzQzZGY4ZmQ0MDdmZWEzMjhiZjY4ID0gTC5tYXJrZXIoCiAgICAgICAgICAgIFs1Ni40NTk4MSwgMjIuOTAxNjldLAogICAgICAgICAgICB7CiAgICAgICAgICAgICAgICBpY29uOiBuZXcgTC5JY29uLkRlZmF1bHQoKSwKICAgICAgICAgICAgICAgIH0KICAgICAgICAgICAgKS5hZGRUbyhtYXBfMWMzMWIwYzVkNzFjNGQ3MDk4ZGFiMzI0NDA3MjAxMjEpOwogICAgICAgIAogICAgCiAgICAgICAgbWFya2VyXzk4OGNmNTM2ODZiYzQzZGY4ZmQ0MDdmZWEzMjhiZjY4LmJpbmRUb29sdGlwKAogICAgICAgICAgICBgPGRpdj5gCiAgICAgICAgICAgICsgYEF1Y2VgICsgYDwvZGl2PmAsCiAgICAgICAgICAgIHsic3RpY2t5IjogdHJ1ZX0KICAgICAgICApOwogICAgICAgIAogICAgCiAgICAgICAgdmFyIG1hcmtlcl81MTUyNzc2ZmZiZmE0ZDBhOTI1ZTIyODEyOWNjNDc0MiA9IEwubWFya2VyKAogICAgICAgICAgICBbNTcuNTM5MjgsIDI2LjY5MjkxXSwKICAgICAgICAgICAgewogICAgICAgICAgICAgICAgaWNvbjogbmV3IEwuSWNvbi5EZWZhdWx0KCksCiAgICAgICAgICAgICAgICB9CiAgICAgICAgICAgICkuYWRkVG8obWFwXzFjMzFiMGM1ZDcxYzRkNzA5OGRhYjMyNDQwNzIwMTIxKTsKICAgICAgICAKICAgIAogICAgICAgIG1hcmtlcl81MTUyNzc2ZmZiZmE0ZDBhOTI1ZTIyODEyOWNjNDc0Mi5iaW5kVG9vbHRpcCgKICAgICAgICAgICAgYDxkaXY+YAogICAgICAgICAgICArIGBBcGVgICsgYDwvZGl2PmAsCiAgICAgICAgICAgIHsic3RpY2t5IjogdHJ1ZX0KICAgICAgICApOwogICAgICAgIAogICAgCiAgICAgICAgdmFyIG1hcmtlcl9lODA3NjAwNmVhM2M0YzA2OTEyOTllZGNhOTg0OGZkMyA9IEwubWFya2VyKAogICAgICAgICAgICBbNTcuNDIxNjIsIDI3LjA0NjYyXSwKICAgICAgICAgICAgewogICAgICAgICAgICAgICAgaWNvbjogbmV3IEwuSWNvbi5EZWZhdWx0KCksCiAgICAgICAgICAgICAgICB9CiAgICAgICAgICAgICkuYWRkVG8obWFwXzFjMzFiMGM1ZDcxYzRkNzA5OGRhYjMyNDQwNzIwMTIxKTsKICAgICAgICAKICAgIAogICAgICAgIG1hcmtlcl9lODA3NjAwNmVhM2M0YzA2OTEyOTllZGNhOTg0OGZkMy5iaW5kVG9vbHRpcCgKICAgICAgICAgICAgYDxkaXY+YAogICAgICAgICAgICArIGBBbMWra3NuZWAgKyBgPC9kaXY+YCwKICAgICAgICAgICAgeyJzdGlja3kiOiB0cnVlfQogICAgICAgICk7CiAgICAgICAgCiAgICAKICAgICAgICB2YXIgbWFya2VyXzU5M2QwMDllZGY0NzQ4MzVhNWYyODY5NzViOTkzMGY5ID0gTC5tYXJrZXIoCiAgICAgICAgICAgIFs1Ni45ODE5NCwgMjEuNTU5MzhdLAogICAgICAgICAgICB7CiAgICAgICAgICAgICAgICBpY29uOiBuZXcgTC5JY29uLkRlZmF1bHQoKSwKICAgICAgICAgICAgICAgIH0KICAgICAgICAgICAgKS5hZGRUbyhtYXBfMWMzMWIwYzVkNzFjNGQ3MDk4ZGFiMzI0NDA3MjAxMjEpOwogICAgICAgIAogICAgCiAgICAgICAgbWFya2VyXzU5M2QwMDllZGY0NzQ4MzVhNWYyODY5NzViOTkzMGY5LmJpbmRUb29sdGlwKAogICAgICAgICAgICBgPGRpdj5gCiAgICAgICAgICAgICsgYEFsc3VuZ2FgICsgYDwvZGl2PmAsCiAgICAgICAgICAgIHsic3RpY2t5IjogdHJ1ZX0KICAgICAgICApOwogICAgICAgIAogICAgCiAgICAgICAgdmFyIG1hcmtlcl9jY2U1ZmQzZDMxODM0MmExOTU5N2MzNzljZjgzY2M2ZCA9IEwubWFya2VyKAogICAgICAgICAgICBbNTcuNzY3MjMsIDI0Ljg3NzQzXSwKICAgICAgICAgICAgewogICAgICAgICAgICAgICAgaWNvbjogbmV3IEwuSWNvbi5EZWZhdWx0KCksCiAgICAgICAgICAgICAgICB9CiAgICAgICAgICAgICkuYWRkVG8obWFwXzFjMzFiMGM1ZDcxYzRkNzA5OGRhYjMyNDQwNzIwMTIxKTsKICAgICAgICAKICAgIAogICAgICAgIG1hcmtlcl9jY2U1ZmQzZDMxODM0MmExOTU5N2MzNzljZjgzY2M2ZC5iaW5kVG9vbHRpcCgKICAgICAgICAgICAgYDxkaXY+YAogICAgICAgICAgICArIGBBbG9qYWAgKyBgPC9kaXY+YCwKICAgICAgICAgICAgeyJzdGlja3kiOiB0cnVlfQogICAgICAgICk7CiAgICAgICAgCiAgICAKICAgICAgICB2YXIgbWFya2VyXzkxMzY4NzRiZDc2MjQwN2NhOGMxYmU4OWNkNjljNDA5ID0gTC5tYXJrZXIoCiAgICAgICAgICAgIFs1Ni4xNjE1MiwgMjUuNzQ3ODNdLAogICAgICAgICAgICB7CiAgICAgICAgICAgICAgICBpY29uOiBuZXcgTC5JY29uLkRlZmF1bHQoKSwKICAgICAgICAgICAgICAgIH0KICAgICAgICAgICAgKS5hZGRUbyhtYXBfMWMzMWIwYzVkNzFjNGQ3MDk4ZGFiMzI0NDA3MjAxMjEpOwogICAgICAgIAogICAgCiAgICAgICAgbWFya2VyXzkxMzY4NzRiZDc2MjQwN2NhOGMxYmU4OWNkNjljNDA5LmJpbmRUb29sdGlwKAogICAgICAgICAgICBgPGRpdj5gCiAgICAgICAgICAgICsgYEFrbsSrc3RlYCArIGA8L2Rpdj5gLAogICAgICAgICAgICB7InN0aWNreSI6IHRydWV9CiAgICAgICAgKTsKICAgICAgICAKICAgIAogICAgICAgIHZhciBtYXJrZXJfMTg4N2YxYjFhMjRkNGIzY2JhY2FiOWJmZGMyNjIwZDQgPSBMLm1hcmtlcigKICAgICAgICAgICAgWzU2LjcyMTA4LCAyMS42MDE1Nl0sCiAgICAgICAgICAgIHsKICAgICAgICAgICAgICAgIGljb246IG5ldyBMLkljb24uRGVmYXVsdCgpLAogICAgICAgICAgICAgICAgfQogICAgICAgICAgICApLmFkZFRvKG1hcF8xYzMxYjBjNWQ3MWM0ZDcwOThkYWIzMjQ0MDcyMDEyMSk7CiAgICAgICAgCiAgICAKICAgICAgICBtYXJrZXJfMTg4N2YxYjFhMjRkNGIzY2JhY2FiOWJmZGMyNjIwZDQuYmluZFRvb2x0aXAoCiAgICAgICAgICAgIGA8ZGl2PmAKICAgICAgICAgICAgKyBgQWl6cHV0ZWAgKyBgPC9kaXY+YCwKICAgICAgICAgICAgeyJzdGlja3kiOiB0cnVlfQogICAgICAgICk7CiAgICAgICAgCiAgICAKICAgICAgICB2YXIgbWFya2VyXzFiNmI3ZDI3NzdjMjRiNWI5Zjg1ZDMwZGY0ODZkMzY2ID0gTC5tYXJrZXIoCiAgICAgICAgICAgIFs1Ni42MDQ3NywgMjUuMjU1MzRdLAogICAgICAgICAgICB7CiAgICAgICAgICAgICAgICBpY29uOiBuZXcgTC5JY29uLkRlZmF1bHQoKSwKICAgICAgICAgICAgICAgIH0KICAgICAgICAgICAgKS5hZGRUbyhtYXBfMWMzMWIwYzVkNzFjNGQ3MDk4ZGFiMzI0NDA3MjAxMjEpOwogICAgICAgIAogICAgCiAgICAgICAgbWFya2VyXzFiNmI3ZDI3NzdjMjRiNWI5Zjg1ZDMwZGY0ODZkMzY2LmJpbmRUb29sdGlwKAogICAgICAgICAgICBgPGRpdj5gCiAgICAgICAgICAgICsgYEFpemtyYXVrbGVgICsgYDwvZGl2PmAsCiAgICAgICAgICAgIHsic3RpY2t5IjogdHJ1ZX0KICAgICAgICApOwogICAgICAgIAogICAgCiAgICAgICAgdmFyIG1hcmtlcl80NzA4YTQ0ZjUyNmY0YzYyODUyMjkyYTJjMzUwMzY0NyA9IEwubWFya2VyKAogICAgICAgICAgICBbNTcuODYzNDgsIDI0LjM1ODUzXSwKICAgICAgICAgICAgewogICAgICAgICAgICAgICAgaWNvbjogbmV3IEwuSWNvbi5EZWZhdWx0KCksCiAgICAgICAgICAgICAgICB9CiAgICAgICAgICAgICkuYWRkVG8obWFwXzFjMzFiMGM1ZDcxYzRkNzA5OGRhYjMyNDQwNzIwMTIxKTsKICAgICAgICAKICAgIAogICAgICAgIG1hcmtlcl80NzA4YTQ0ZjUyNmY0YzYyODUyMjkyYTJjMzUwMzY0Ny5iaW5kVG9vbHRpcCgKICAgICAgICAgICAgYDxkaXY+YAogICAgICAgICAgICArIGBBaW5hxb5pYCArIGA8L2Rpdj5gLAogICAgICAgICAgICB7InN0aWNreSI6IHRydWV9CiAgICAgICAgKTsKICAgICAgICAKICAgIAogICAgICAgIHZhciBtYXJrZXJfNjFmNTdmZWVhMGJlNDA2YTg1OWNmMDBkZjM0MmJmNTMgPSBMLm1hcmtlcigKICAgICAgICAgICAgWzU2LjEzMzMzLCAyNy4wMTY2N10sCiAgICAgICAgICAgIHsKICAgICAgICAgICAgICAgIGljb246IG5ldyBMLkljb24uRGVmYXVsdCgpLAogICAgICAgICAgICAgICAgfQogICAgICAgICAgICApLmFkZFRvKG1hcF8xYzMxYjBjNWQ3MWM0ZDcwOThkYWIzMjQ0MDcyMDEyMSk7CiAgICAgICAgCiAgICAKICAgICAgICBtYXJrZXJfNjFmNTdmZWVhMGJlNDA2YTg1OWNmMDBkZjM0MmJmNTMuYmluZFRvb2x0aXAoCiAgICAgICAgICAgIGA8ZGl2PmAKICAgICAgICAgICAgKyBgQWdsb25hYCArIGA8L2Rpdj5gLAogICAgICAgICAgICB7InN0aWNreSI6IHRydWV9CiAgICAgICAgKTsKICAgICAgICAKICAgIAogICAgICAgIHZhciBtYXJrZXJfN2FlMGJjNGRhYjkyNDNmZThmZjc0YzA5ZmM4ZThjNDQgPSBMLm1hcmtlcigKICAgICAgICAgICAgWzU3LjA3MDQ1LCAyNC4zMzcxM10sCiAgICAgICAgICAgIHsKICAgICAgICAgICAgICAgIGljb246IG5ldyBMLkljb24uRGVmYXVsdCgpLAogICAgICAgICAgICAgICAgfQogICAgICAgICAgICApLmFkZFRvKG1hcF8xYzMxYjBjNWQ3MWM0ZDcwOThkYWIzMjQ0MDcyMDEyMSk7CiAgICAgICAgCiAgICAKICAgICAgICBtYXJrZXJfN2FlMGJjNGRhYjkyNDNmZThmZjc0YzA5ZmM4ZThjNDQuYmluZFRvb2x0aXAoCiAgICAgICAgICAgIGA8ZGl2PmAKICAgICAgICAgICAgKyBgxIBkYcW+aWAgKyBgPC9kaXY+YCwKICAgICAgICAgICAgeyJzdGlja3kiOiB0cnVlfQogICAgICAgICk7CiAgICAgICAgCiAgICAKICAgICAgICB2YXIgbWFya2VyXzYyNDdmZjYyNzMwYTQzMDViNTM2Y2VhMTNlYTg5YjZlID0gTC5tYXJrZXIoCiAgICAgICAgICAgIFs1Ni44NzY0MywgMjQuMTE4MjVdLAogICAgICAgICAgICB7CiAgICAgICAgICAgICAgICBpY29uOiBuZXcgTC5JY29uLkRlZmF1bHQoKSwKICAgICAgICAgICAgICAgIH0KICAgICAgICAgICAgKS5hZGRUbyhtYXBfMWMzMWIwYzVkNzFjNGQ3MDk4ZGFiMzI0NDA3MjAxMjEpOwogICAgICAgIAogICAgCiAgICAgICAgbWFya2VyXzYyNDdmZjYyNzMwYTQzMDViNTM2Y2VhMTNlYTg5YjZlLmJpbmRUb29sdGlwKAogICAgICAgICAgICBgPGRpdj5gCiAgICAgICAgICAgICsgYEJhbG/FvmlgICsgYDwvZGl2PmAsCiAgICAgICAgICAgIHsic3RpY2t5IjogdHJ1ZX0KICAgICAgICApOwogICAgICAgIAogICAgCiAgICAgICAgdmFyIG1hcmtlcl8wMGQ5YWE2NDkyMTg0OWU1ODE1NjhiNmU1YTgxYTNlMSA9IEwubWFya2VyKAogICAgICAgICAgICBbNTYuOTA1NDQsIDI0LjA1MTEzXSwKICAgICAgICAgICAgewogICAgICAgICAgICAgICAgaWNvbjogbmV3IEwuSWNvbi5EZWZhdWx0KCksCiAgICAgICAgICAgICAgICB9CiAgICAgICAgICAgICkuYWRkVG8obWFwXzFjMzFiMGM1ZDcxYzRkNzA5OGRhYjMyNDQwNzIwMTIxKTsKICAgICAgICAKICAgIAogICAgICAgIG1hcmtlcl8wMGQ5YWE2NDkyMTg0OWU1ODE1NjhiNmU1YTgxYTNlMS5iaW5kVG9vbHRpcCgKICAgICAgICAgICAgYDxkaXY+YAogICAgICAgICAgICArIGBNxIFydXBlYCArIGA8L2Rpdj5gLAogICAgICAgICAgICB7InN0aWNreSI6IHRydWV9CiAgICAgICAgKTsKICAgICAgICAKPC9zY3JpcHQ+\" style=\"position:absolute;width:100%;height:100%;left:0;top:0;border:none !important;\" allowfullscreen webkitallowfullscreen mozallowfullscreen></iframe></div></div>"
      ],
      "text/plain": [
       "<folium.folium.Map at 0x12f35ef69b0>"
      ]
     },
     "execution_count": 52,
     "metadata": {},
     "output_type": "execute_result"
    }
   ],
   "source": [
    "latvija = createCitiesMap(addToolTip=True)\n",
    "latvija"
   ]
  },
  {
   "cell_type": "code",
   "execution_count": 53,
   "metadata": {
    "scrolled": true
   },
   "outputs": [
    {
     "data": {
      "text/html": [
       "<div style=\"width:100%;\"><div style=\"position:relative;width:100%;height:0;padding-bottom:60%;\"><iframe src=\"data:text/html;charset=utf-8;base64,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\" style=\"position:absolute;width:100%;height:100%;left:0;top:0;border:none !important;\" allowfullscreen webkitallowfullscreen mozallowfullscreen></iframe></div></div>"
      ],
      "text/plain": [
       "<folium.folium.Map at 0x12f3bb8cc50>"
      ]
     },
     "execution_count": 53,
     "metadata": {},
     "output_type": "execute_result"
    }
   ],
   "source": [
    "lietuva = createCitiesMap(\"LT\", addToolTip=True)\n",
    "lietuva"
   ]
  },
  {
   "cell_type": "code",
   "execution_count": null,
   "metadata": {},
   "outputs": [],
   "source": [
    "usa = createCitiesMap(\"JP\")\n",
    "usa"
   ]
  },
  {
   "cell_type": "code",
   "execution_count": null,
   "metadata": {},
   "outputs": [],
   "source": [
    "lietuva.lat.max(),lietuva.lat.min()"
   ]
  },
  {
   "cell_type": "code",
   "execution_count": null,
   "metadata": {},
   "outputs": [],
   "source": [
    "lietuva = df[df.country == \"LT\"]\n",
    "lietuva.head()"
   ]
  },
  {
   "cell_type": "code",
   "execution_count": null,
   "metadata": {},
   "outputs": [],
   "source": [
    "df.head()"
   ]
  },
  {
   "cell_type": "code",
   "execution_count": null,
   "metadata": {},
   "outputs": [],
   "source": [
    "estonia = createCitiesMap('EE')"
   ]
  },
  {
   "cell_type": "code",
   "execution_count": null,
   "metadata": {},
   "outputs": [],
   "source": [
    "estonia"
   ]
  },
  {
   "cell_type": "code",
   "execution_count": null,
   "metadata": {},
   "outputs": [],
   "source": [
    "#Adding cities to map\n",
    "for index, city in lvcities.iterrows():\n",
    "    folium.Marker([float(city.lat), float(city.lng)]).add_to(clean_map)"
   ]
  },
  {
   "cell_type": "code",
   "execution_count": null,
   "metadata": {},
   "outputs": [],
   "source": [
    "clean_map"
   ]
  },
  {
   "cell_type": "code",
   "execution_count": null,
   "metadata": {},
   "outputs": [],
   "source": [
    "clean_map.location = getCity('Ogre')\n",
    "clean_map.zoom_start = 7\n",
    "clean_map"
   ]
  },
  {
   "cell_type": "code",
   "execution_count": null,
   "metadata": {},
   "outputs": [],
   "source": [
    "clean_map.zoom_start = 7\n",
    "clean_map"
   ]
  },
  {
   "cell_type": "code",
   "execution_count": null,
   "metadata": {},
   "outputs": [],
   "source": [
    "latvijas_universitate = folium.Map(location=[56.9504,24.11650],\n",
    "                        #tiles = \"Stamen Watercolor\",\n",
    "                        zoom_start = 20)\n",
    "# Parasts marķieris, zaļš\n",
    "folium.Marker([56.95080,24.11650],\n",
    "              popup='Latvijas universitāte',\n",
    "              icon=folium.Icon(color='green')\n",
    "             ).add_to(latvijas_universitate)\n",
    "\n",
    "# Apaļš marķieris\n",
    "folium.CircleMarker([56.95,24.1174],\n",
    "                    radius=100,\n",
    "                    popup='Mūzikas akadēmija',\n",
    "                    color='red',\n",
    "                    ).add_to(latvijas_universitate)\n",
    "\n",
    "# Interactive marker\n",
    "latvijas_universitate.add_child(folium.ClickForMarker(popup=\"Galapunkts\"))\n",
    "\n",
    "latvijas_universitate"
   ]
  },
  {
   "cell_type": "code",
   "execution_count": null,
   "metadata": {},
   "outputs": [],
   "source": []
  },
  {
   "cell_type": "code",
   "execution_count": null,
   "metadata": {},
   "outputs": [],
   "source": [
    "centrs = folium.Map(location=[56.9514934,24.1135],\n",
    "                        tiles = \"Stamen Toner\", #Mapbox Bright\n",
    "                        zoom_start = 17)\n",
    "\n",
    "folium.Marker([56.9514934,24.1135],\n",
    "              popup='Brīvības piemineklis',\n",
    "              icon=folium.Icon(color='green')\n",
    "             ).add_to(centrs)\n",
    "folium.Marker([56.95080,24.11650], \n",
    "              popup='Latvijas Universitāte',\n",
    "              icon=folium.Icon(color='blue',icon='university', prefix='fa') \n",
    "             ).add_to(centrs)\n",
    "\n",
    "folium.Marker([56.9514934,24.1111156], \n",
    "              popup='Bastejkalns',\n",
    "              icon=folium.Icon(color='red',icon='bicycle', prefix='fa')\n",
    "             ).add_to(centrs)\n",
    "\n",
    "centrs"
   ]
  },
  {
   "cell_type": "code",
   "execution_count": 54,
   "metadata": {},
   "outputs": [
    {
     "data": {
      "text/html": [
       "<div style=\"width:100%;\"><div style=\"position:relative;width:100%;height:0;padding-bottom:60%;\"><iframe src=\"data:text/html;charset=utf-8;base64,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\" style=\"position:absolute;width:100%;height:100%;left:0;top:0;border:none !important;\" allowfullscreen webkitallowfullscreen mozallowfullscreen></iframe></div></div>"
      ],
      "text/plain": [
       "<folium.folium.Map at 0x12f3bbc9ef0>"
      ]
     },
     "execution_count": 54,
     "metadata": {},
     "output_type": "execute_result"
    }
   ],
   "source": [
    "from folium.plugins import MiniMap\n",
    "\n",
    "latvia = folium.Map(location=(57,25), zoom_start=6,width=500, height=500)\n",
    "\n",
    "minimap = MiniMap()\n",
    "latvia.add_child(minimap)\n",
    "latvia"
   ]
  },
  {
   "cell_type": "code",
   "execution_count": null,
   "metadata": {},
   "outputs": [],
   "source": [
    "coordinates = [\n",
    "[56.95080,24.11650],\n",
    "[56.9506724,24.11533],\n",
    "[56.9515315,24.1143683],\n",
    "[56.9518371,24.1138815],\n",
    "[56.9515036,24.1135815]]\n",
    "\n",
    "centrs = folium.Map(location=[56.9514934,24.1135],\n",
    "                        zoom_start = 17)\n",
    "\n",
    "path = folium.PolyLine(\n",
    "    [coordinates]\n",
    ").add_to(centrs)\n",
    "\n",
    "# Create the map and add the line\n",
    "folium.Marker([56.95080,24.11650], popup='Latvijas universitāte', icon=folium.Icon(color='red')).add_to(centrs)\n",
    "folium.Marker([56.9514934,24.1135],\n",
    "              popup='Brīvības piemineklis',\n",
    "              icon=folium.Icon(color='red')\n",
    "             ).add_to(centrs)\n",
    "\n",
    "\n",
    "plugins.PolyLineTextPath(\n",
    "    path,\n",
    "    'Uz brīvības pieminekli',\n",
    "    offset=-5\n",
    ").add_to(centrs)\n",
    "\n",
    "centrs"
   ]
  },
  {
   "cell_type": "code",
   "execution_count": null,
   "metadata": {},
   "outputs": [],
   "source": [
    "#https://www.openstreetmap.org/relation/1554509\n",
    "#http://polygons.openstreetmap.fr/\n",
    "riga = os.path.join('riga.json')\n",
    "geo_json_data = json.load(open(riga))"
   ]
  },
  {
   "cell_type": "code",
   "execution_count": null,
   "metadata": {},
   "outputs": [],
   "source": [
    "riga = folium.Map(location=[56.9514934,24.1135],\n",
    "                        zoom_start = 10)\n",
    "\n",
    "folium.GeoJson(\n",
    "    geo_json_data,\n",
    "    style_function=lambda feature: {\n",
    "        'fillColor': 'blue',\n",
    "        'color': 'black',\n",
    "        'weight': 2,\n",
    "        'dashArray': '5, 5'\n",
    "    }\n",
    ").add_to(riga)\n",
    "\n",
    "riga.save(os.path.join('Colormaps_0.html')) #saglabā rezultātu html failā\n",
    "riga"
   ]
  },
  {
   "cell_type": "code",
   "execution_count": null,
   "metadata": {},
   "outputs": [],
   "source": [
    "m = folium.Map([30, 0], zoom_start=3)\n",
    "\n",
    "wind_locations = [\n",
    "    [59.35560, -31.992190],\n",
    "    [55.178870, -42.89062],\n",
    "    [47.754100, -43.94531],\n",
    "    [38.272690, -37.96875],\n",
    "    [27.059130, -41.13281],\n",
    "    [16.299050, -36.56250],\n",
    "    [8.4071700, -30.23437],\n",
    "    [1.0546300, -22.50000],\n",
    "    [-8.754790, -18.28125],\n",
    "    [-21.61658, -20.03906],\n",
    "    [-31.35364, -24.25781],\n",
    "    [-39.90974, -30.93750],\n",
    "    [-43.83453, -41.13281],\n",
    "    [-47.75410, -49.92187],\n",
    "    [-50.95843, -54.14062],\n",
    "    [-55.97380, -56.60156]\n",
    "]\n",
    "\n",
    "wind_line = folium.PolyLine(\n",
    "    wind_locations,\n",
    "    weight=15,\n",
    "    color='#8EE9FF'\n",
    ").add_to(m)\n",
    "\n",
    "attr = {'fill': '#007DEF', 'font-weight': 'bold', 'font-size': '24'}\n",
    "\n",
    "plugins.PolyLineTextPath(\n",
    "    wind_line,\n",
    "    ') ',\n",
    "    repeat=True,\n",
    "    offset=7,\n",
    "    attributes=attr\n",
    ").add_to(m)\n",
    "\n",
    "danger_line = folium.PolyLine(\n",
    "    [[-40.311, -31.952],\n",
    "     [-12.086, -18.727]],\n",
    "    weight=10,\n",
    "    color='orange',\n",
    "    opacity=0.8\n",
    ").add_to(m)\n",
    "\n",
    "attr = {'fill': 'red'}\n",
    "\n",
    "plugins.PolyLineTextPath(\n",
    "    danger_line,\n",
    "    '\\u25BA',\n",
    "    repeat=True,\n",
    "    offset=6,\n",
    "    attributes=attr\n",
    ").add_to(m)\n",
    "\n",
    "plane_line = folium.PolyLine(\n",
    "    [[-49.38237, -37.26562],\n",
    "     [-1.75754, -14.41406],\n",
    "     [51.61802, -23.20312]],\n",
    "    weight=1,\n",
    "    color='black'\n",
    ").add_to(m)\n",
    "\n",
    "attr = {'font-weight': 'bold', 'font-size': '24'}\n",
    "\n",
    "plugins.PolyLineTextPath(\n",
    "    plane_line,\n",
    "    '\\u2708     ',\n",
    "    repeat=True,\n",
    "    offset=8,\n",
    "    attributes=attr\n",
    ").add_to(m)\n",
    "\n",
    "\n",
    "line_to_new_delhi = folium.PolyLine(\n",
    "    [[46.67959447, 3.33984375],\n",
    "     [46.5588603, 29.53125],\n",
    "     [42.29356419, 51.328125],\n",
    "     [35.74651226, 68.5546875],\n",
    "     [28.65203063, 76.81640625]]\n",
    ").add_to(m)\n",
    "\n",
    "\n",
    "line_to_hanoi = folium.PolyLine(\n",
    "    [[28.76765911, 77.60742188],\n",
    "     [27.83907609, 88.72558594],\n",
    "     [25.68113734, 97.3828125],\n",
    "     [21.24842224, 105.77636719]]\n",
    ").add_to(m)\n",
    "\n",
    "\n",
    "plugins.PolyLineTextPath(\n",
    "    line_to_new_delhi,\n",
    "    'To New Delhi',\n",
    "    offset=-5\n",
    ").add_to(m)\n",
    "\n",
    "\n",
    "plugins.PolyLineTextPath(\n",
    "    line_to_hanoi,\n",
    "    'To Hanoi',\n",
    "    offset=-5\n",
    ").add_to(m)\n",
    "\n",
    "m.save(os.path.join('Polyline_text_path.html'))\n",
    "\n",
    "m"
   ]
  },
  {
   "cell_type": "code",
   "execution_count": null,
   "metadata": {},
   "outputs": [],
   "source": [
    "us_states = os.path.join('us-states.json')\n",
    "geo_json_data = json.load(open(us_states))\n",
    "\n",
    "unemployment = pd.read_csv('US_Unemployment_Oct2012.csv')\n",
    "\n",
    "unemployment_dict = unemployment.set_index('State')['Unemployment']"
   ]
  },
  {
   "cell_type": "code",
   "execution_count": null,
   "metadata": {},
   "outputs": [],
   "source": [
    "def my_color_function(feature):\n",
    "    \"Zemās vērtības - zaļas. Augstās - sarkanas\"\n",
    "    if unemployment_dict[feature['id']] > 6.5:\n",
    "        return '#ff0000'\n",
    "    else:\n",
    "        return '#008000'"
   ]
  },
  {
   "cell_type": "code",
   "execution_count": null,
   "metadata": {},
   "outputs": [],
   "source": [
    "m = folium.Map([43, -100], tiles='cartodbpositron', zoom_start=4)\n",
    "\n",
    "folium.GeoJson(\n",
    "    geo_json_data,\n",
    "    style_function=lambda feature: {\n",
    "        'fillColor': my_color_function(feature),\n",
    "        'color': 'black',\n",
    "        'weight': 2,\n",
    "        'dashArray': '5, 5'\n",
    "    }\n",
    ").add_to(m)\n",
    "\n",
    "m.save(os.path.join('Colormaps_0.html'))\n",
    "\n",
    "m"
   ]
  },
  {
   "cell_type": "code",
   "execution_count": null,
   "metadata": {},
   "outputs": [],
   "source": [
    "import branca.colormap as cm\n",
    "\n",
    "linear = cm.LinearColormap(\n",
    "    ['green', 'yellow', 'red'],\n",
    "    vmin=3, vmax=10\n",
    ")\n",
    "\n",
    "linear"
   ]
  },
  {
   "cell_type": "code",
   "execution_count": null,
   "metadata": {},
   "outputs": [],
   "source": [
    "m = folium.Map([43, -100], tiles='cartodbpositron', zoom_start=4)\n",
    "\n",
    "folium.GeoJson(\n",
    "    geo_json_data,\n",
    "    style_function=lambda feature: {\n",
    "        'fillColor': linear(unemployment_dict[feature['id']]),\n",
    "        'color': 'black',\n",
    "        'weight': 2,\n",
    "        'dashArray': '5, 5'\n",
    "    }\n",
    ").add_to(m)\n",
    "\n",
    "m.save(os.path.join('Colormaps_2.html'))\n",
    "\n",
    "m"
   ]
  },
  {
   "cell_type": "code",
   "execution_count": null,
   "metadata": {},
   "outputs": [],
   "source": []
  }
 ],
 "metadata": {
  "kernelspec": {
   "display_name": "Python 3",
   "language": "python",
   "name": "python3"
  },
  "language_info": {
   "codemirror_mode": {
    "name": "ipython",
    "version": 3
   },
   "file_extension": ".py",
   "mimetype": "text/x-python",
   "name": "python",
   "nbconvert_exporter": "python",
   "pygments_lexer": "ipython3",
   "version": "3.7.3"
  }
 },
 "nbformat": 4,
 "nbformat_minor": 2
}
