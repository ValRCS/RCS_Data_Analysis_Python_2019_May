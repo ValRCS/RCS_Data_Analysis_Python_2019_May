{
 "cells": [
  {
   "cell_type": "code",
   "execution_count": null,
   "metadata": {},
   "outputs": [],
   "source": [
    "import pandas as pd\n",
    "import folium\n",
    "from folium import plugins\n",
    "import os\n",
    "import json"
   ]
  },
  {
   "cell_type": "code",
   "execution_count": null,
   "metadata": {},
   "outputs": [],
   "source": [
    "!pip install folium"
   ]
  },
  {
   "cell_type": "code",
   "execution_count": null,
   "metadata": {},
   "outputs": [],
   "source": [
    "import folium\n",
    "from folium import plugins"
   ]
  },
  {
   "cell_type": "code",
   "execution_count": null,
   "metadata": {
    "scrolled": false
   },
   "outputs": [],
   "source": [
    "latvijas_universitate = folium.Map(location=[56.95080,24.11650],\n",
    "                    zoom_start = 20)\n",
    "latvijas_universitate"
   ]
  },
  {
   "cell_type": "code",
   "execution_count": null,
   "metadata": {},
   "outputs": [],
   "source": [
    "import pandas as pd"
   ]
  },
  {
   "cell_type": "code",
   "execution_count": null,
   "metadata": {},
   "outputs": [],
   "source": [
    "df = pd.read_json('cities.json', encoding=\"UTF-8\")\n",
    "df[20:30]"
   ]
  },
  {
   "cell_type": "code",
   "execution_count": null,
   "metadata": {},
   "outputs": [],
   "source": [
    "df.index = df['name']"
   ]
  },
  {
   "cell_type": "code",
   "execution_count": null,
   "metadata": {},
   "outputs": [],
   "source": [
    "df.head()"
   ]
  },
  {
   "cell_type": "code",
   "execution_count": null,
   "metadata": {},
   "outputs": [],
   "source": [
    "'Riga' in df.loc[]"
   ]
  },
  {
   "cell_type": "code",
   "execution_count": null,
   "metadata": {},
   "outputs": [],
   "source": [
    "df.loc['Riga']"
   ]
  },
  {
   "cell_type": "code",
   "execution_count": null,
   "metadata": {},
   "outputs": [],
   "source": [
    "Riga = df[df.name == 'Riga']\n",
    "Riga"
   ]
  },
  {
   "cell_type": "code",
   "execution_count": null,
   "metadata": {},
   "outputs": [],
   "source": []
  },
  {
   "cell_type": "code",
   "execution_count": null,
   "metadata": {},
   "outputs": [],
   "source": [
    "df.head(40)"
   ]
  },
  {
   "cell_type": "code",
   "execution_count": null,
   "metadata": {},
   "outputs": [],
   "source": [
    "def getCity(cityName):\n",
    "    cityFrame = pd.read_json('cities.json', encoding=\"UTF-8\")\n",
    "    city = cityFrame[cityFrame.name == cityName]\n",
    "    return [float(city.lat), float(city.lng)]"
   ]
  },
  {
   "cell_type": "code",
   "execution_count": null,
   "metadata": {},
   "outputs": [],
   "source": [
    "getCity('Riga')"
   ]
  },
  {
   "cell_type": "code",
   "execution_count": null,
   "metadata": {},
   "outputs": [],
   "source": [
    "getCity('Ogre')"
   ]
  },
  {
   "cell_type": "code",
   "execution_count": null,
   "metadata": {},
   "outputs": [],
   "source": [
    "ogre = folium.Map(location=getCity('Ogre'))\n",
    "ogre "
   ]
  },
  {
   "cell_type": "code",
   "execution_count": null,
   "metadata": {},
   "outputs": [],
   "source": [
    "latvijas_universitate = folium.Map(location=[56.95080,24.11650],\n",
    "                        tiles = \"Stamen Terrain\",\n",
    "                        zoom_start = 15)\n",
    "latvijas_universitate"
   ]
  },
  {
   "cell_type": "code",
   "execution_count": null,
   "metadata": {},
   "outputs": [],
   "source": [
    "clean_map = folium.Map()\n",
    "clean_map"
   ]
  },
  {
   "cell_type": "code",
   "execution_count": null,
   "metadata": {},
   "outputs": [],
   "source": [
    "latvijas_universitate = folium.Map(location=[56.95080,24.11650],\n",
    "                        tiles = \"Stamen Toner\",\n",
    "                        zoom_start = 20)\n",
    "latvijas_universitate"
   ]
  },
  {
   "cell_type": "code",
   "execution_count": null,
   "metadata": {},
   "outputs": [],
   "source": [
    "latvijas_universitate = folium.Map(location=[56.95080,24.11650],\n",
    "                        width=500, height=500, #var nodefinēt dimensijas\n",
    "                        zoom_start = 20)\n",
    "\n",
    "latvijas_universitate\n",
    "\n",
    "folium.Marker([56.95080,24.11650], popup='Latvijas universitāte').add_to(ogre)\n",
    "ogre"
   ]
  },
  {
   "cell_type": "code",
   "execution_count": null,
   "metadata": {},
   "outputs": [],
   "source": [
    "df.head()"
   ]
  },
  {
   "cell_type": "code",
   "execution_count": null,
   "metadata": {},
   "outputs": [],
   "source": [
    "lvcities = df[df.country == 'LV']\n",
    "lvcities.head(), len(lvcities)"
   ]
  },
  {
   "cell_type": "code",
   "execution_count": null,
   "metadata": {},
   "outputs": [],
   "source": [
    "zilupe = lvcities.iloc[1]\n",
    "zilupe"
   ]
  },
  {
   "cell_type": "code",
   "execution_count": null,
   "metadata": {},
   "outputs": [],
   "source": [
    "zilupe.name, float(zilupe.lat), float(zilupe.lng)"
   ]
  },
  {
   "cell_type": "code",
   "execution_count": null,
   "metadata": {},
   "outputs": [],
   "source": [
    "def createCitiesMap(countrycode, filename='cities.json'):\n",
    "    df = pd.read_json(filename, encoding=\"UTF-8\")\n",
    "    cities = df[df.country == countrycode]\n",
    "    newmap = folium.Map(location=[(cities.lat.max()+cities.lat.min())/2, (cities.lng.max()+cities.lng.min())/2], zoom_start = 8)\n",
    "    for index, city in cities.iterrows():\n",
    "        folium.Marker([float(city.lat), float(city.lng)]).add_to(newmap)\n",
    "    return newmap"
   ]
  },
  {
   "cell_type": "code",
   "execution_count": null,
   "metadata": {},
   "outputs": [],
   "source": [
    "lietuva = createCitiesMap(\"LT\")\n",
    "lietuva"
   ]
  },
  {
   "cell_type": "code",
   "execution_count": null,
   "metadata": {},
   "outputs": [],
   "source": [
    "usa = createCitiesMap(\"JP\")\n",
    "usa"
   ]
  },
  {
   "cell_type": "code",
   "execution_count": null,
   "metadata": {},
   "outputs": [],
   "source": [
    "lietuva.lat.max(),lietuva.lat.min()"
   ]
  },
  {
   "cell_type": "code",
   "execution_count": null,
   "metadata": {},
   "outputs": [],
   "source": [
    "lietuva = df[df.country == \"LT\"]\n",
    "lietuva.head()"
   ]
  },
  {
   "cell_type": "code",
   "execution_count": null,
   "metadata": {},
   "outputs": [],
   "source": [
    "df.head()"
   ]
  },
  {
   "cell_type": "code",
   "execution_count": null,
   "metadata": {},
   "outputs": [],
   "source": [
    "estonia = createCitiesMap('EE')"
   ]
  },
  {
   "cell_type": "code",
   "execution_count": null,
   "metadata": {},
   "outputs": [],
   "source": [
    "estonia"
   ]
  },
  {
   "cell_type": "code",
   "execution_count": null,
   "metadata": {},
   "outputs": [],
   "source": [
    "#Adding cities to map\n",
    "for index, city in lvcities.iterrows():\n",
    "    folium.Marker([float(city.lat), float(city.lng)]).add_to(clean_map)"
   ]
  },
  {
   "cell_type": "code",
   "execution_count": null,
   "metadata": {},
   "outputs": [],
   "source": [
    "clean_map"
   ]
  },
  {
   "cell_type": "code",
   "execution_count": null,
   "metadata": {},
   "outputs": [],
   "source": [
    "clean_map.location = getCity('Ogre')\n",
    "clean_map.zoom_start = 7\n",
    "clean_map"
   ]
  },
  {
   "cell_type": "code",
   "execution_count": null,
   "metadata": {},
   "outputs": [],
   "source": [
    "clean_map.zoom_start = 7\n",
    "clean_map"
   ]
  },
  {
   "cell_type": "code",
   "execution_count": null,
   "metadata": {},
   "outputs": [],
   "source": [
    "latvijas_universitate = folium.Map(location=[56.9504,24.11650],\n",
    "                        #tiles = \"Stamen Watercolor\",\n",
    "                        zoom_start = 20)\n",
    "# Parasts marķieris, zaļš\n",
    "folium.Marker([56.95080,24.11650],\n",
    "              popup='Latvijas universitāte',\n",
    "              icon=folium.Icon(color='green')\n",
    "             ).add_to(latvijas_universitate)\n",
    "\n",
    "# Apaļš marķieris\n",
    "folium.CircleMarker([56.95,24.1174],\n",
    "                    radius=100,\n",
    "                    popup='Mūzikas akadēmija',\n",
    "                    color='red',\n",
    "                    ).add_to(latvijas_universitate)\n",
    "\n",
    "# Interactive marker\n",
    "latvijas_universitate.add_child(folium.ClickForMarker(popup=\"Galapunkts\"))\n",
    "\n",
    "latvijas_universitate"
   ]
  },
  {
   "cell_type": "code",
   "execution_count": null,
   "metadata": {},
   "outputs": [],
   "source": []
  },
  {
   "cell_type": "code",
   "execution_count": null,
   "metadata": {},
   "outputs": [],
   "source": [
    "centrs = folium.Map(location=[56.9514934,24.1135],\n",
    "                        tiles = \"Stamen Toner\", #Mapbox Bright\n",
    "                        zoom_start = 17)\n",
    "\n",
    "folium.Marker([56.9514934,24.1135],\n",
    "              popup='Brīvības piemineklis',\n",
    "              icon=folium.Icon(color='green')\n",
    "             ).add_to(centrs)\n",
    "folium.Marker([56.95080,24.11650], \n",
    "              popup='Latvijas Universitāte',\n",
    "              icon=folium.Icon(color='blue',icon='university', prefix='fa') \n",
    "             ).add_to(centrs)\n",
    "\n",
    "folium.Marker([56.9514934,24.1111156], \n",
    "              popup='Bastejkalns',\n",
    "              icon=folium.Icon(color='red',icon='bicycle', prefix='fa')\n",
    "             ).add_to(centrs)\n",
    "\n",
    "centrs"
   ]
  },
  {
   "cell_type": "code",
   "execution_count": null,
   "metadata": {},
   "outputs": [],
   "source": [
    "from folium.plugins import MiniMap\n",
    "\n",
    "latvia = folium.Map(location=(57,25), zoom_start=6,width=500, height=500)\n",
    "\n",
    "minimap = MiniMap()\n",
    "latvia.add_child(minimap)\n",
    "latvia"
   ]
  },
  {
   "cell_type": "code",
   "execution_count": null,
   "metadata": {},
   "outputs": [],
   "source": [
    "coordinates = [\n",
    "[56.95080,24.11650],\n",
    "[56.9506724,24.11533],\n",
    "[56.9515315,24.1143683],\n",
    "[56.9518371,24.1138815],\n",
    "[56.9515036,24.1135815]]\n",
    "\n",
    "centrs = folium.Map(location=[56.9514934,24.1135],\n",
    "                        zoom_start = 17)\n",
    "\n",
    "path = folium.PolyLine(\n",
    "    [coordinates]\n",
    ").add_to(centrs)\n",
    "\n",
    "# Create the map and add the line\n",
    "folium.Marker([56.95080,24.11650], popup='Latvijas universitāte', icon=folium.Icon(color='red')).add_to(centrs)\n",
    "folium.Marker([56.9514934,24.1135],\n",
    "              popup='Brīvības piemineklis',\n",
    "              icon=folium.Icon(color='red')\n",
    "             ).add_to(centrs)\n",
    "\n",
    "\n",
    "plugins.PolyLineTextPath(\n",
    "    path,\n",
    "    'Uz brīvības pieminekli',\n",
    "    offset=-5\n",
    ").add_to(centrs)\n",
    "\n",
    "centrs"
   ]
  },
  {
   "cell_type": "code",
   "execution_count": null,
   "metadata": {},
   "outputs": [],
   "source": [
    "#https://www.openstreetmap.org/relation/1554509\n",
    "#http://polygons.openstreetmap.fr/\n",
    "riga = os.path.join('riga.json')\n",
    "geo_json_data = json.load(open(riga))"
   ]
  },
  {
   "cell_type": "code",
   "execution_count": null,
   "metadata": {},
   "outputs": [],
   "source": [
    "riga = folium.Map(location=[56.9514934,24.1135],\n",
    "                        zoom_start = 10)\n",
    "\n",
    "folium.GeoJson(\n",
    "    geo_json_data,\n",
    "    style_function=lambda feature: {\n",
    "        'fillColor': 'blue',\n",
    "        'color': 'black',\n",
    "        'weight': 2,\n",
    "        'dashArray': '5, 5'\n",
    "    }\n",
    ").add_to(riga)\n",
    "\n",
    "riga.save(os.path.join('Colormaps_0.html')) #saglabā rezultātu html failā\n",
    "riga"
   ]
  },
  {
   "cell_type": "code",
   "execution_count": null,
   "metadata": {},
   "outputs": [],
   "source": [
    "m = folium.Map([30, 0], zoom_start=3)\n",
    "\n",
    "wind_locations = [\n",
    "    [59.35560, -31.992190],\n",
    "    [55.178870, -42.89062],\n",
    "    [47.754100, -43.94531],\n",
    "    [38.272690, -37.96875],\n",
    "    [27.059130, -41.13281],\n",
    "    [16.299050, -36.56250],\n",
    "    [8.4071700, -30.23437],\n",
    "    [1.0546300, -22.50000],\n",
    "    [-8.754790, -18.28125],\n",
    "    [-21.61658, -20.03906],\n",
    "    [-31.35364, -24.25781],\n",
    "    [-39.90974, -30.93750],\n",
    "    [-43.83453, -41.13281],\n",
    "    [-47.75410, -49.92187],\n",
    "    [-50.95843, -54.14062],\n",
    "    [-55.97380, -56.60156]\n",
    "]\n",
    "\n",
    "wind_line = folium.PolyLine(\n",
    "    wind_locations,\n",
    "    weight=15,\n",
    "    color='#8EE9FF'\n",
    ").add_to(m)\n",
    "\n",
    "attr = {'fill': '#007DEF', 'font-weight': 'bold', 'font-size': '24'}\n",
    "\n",
    "plugins.PolyLineTextPath(\n",
    "    wind_line,\n",
    "    ') ',\n",
    "    repeat=True,\n",
    "    offset=7,\n",
    "    attributes=attr\n",
    ").add_to(m)\n",
    "\n",
    "danger_line = folium.PolyLine(\n",
    "    [[-40.311, -31.952],\n",
    "     [-12.086, -18.727]],\n",
    "    weight=10,\n",
    "    color='orange',\n",
    "    opacity=0.8\n",
    ").add_to(m)\n",
    "\n",
    "attr = {'fill': 'red'}\n",
    "\n",
    "plugins.PolyLineTextPath(\n",
    "    danger_line,\n",
    "    '\\u25BA',\n",
    "    repeat=True,\n",
    "    offset=6,\n",
    "    attributes=attr\n",
    ").add_to(m)\n",
    "\n",
    "plane_line = folium.PolyLine(\n",
    "    [[-49.38237, -37.26562],\n",
    "     [-1.75754, -14.41406],\n",
    "     [51.61802, -23.20312]],\n",
    "    weight=1,\n",
    "    color='black'\n",
    ").add_to(m)\n",
    "\n",
    "attr = {'font-weight': 'bold', 'font-size': '24'}\n",
    "\n",
    "plugins.PolyLineTextPath(\n",
    "    plane_line,\n",
    "    '\\u2708     ',\n",
    "    repeat=True,\n",
    "    offset=8,\n",
    "    attributes=attr\n",
    ").add_to(m)\n",
    "\n",
    "\n",
    "line_to_new_delhi = folium.PolyLine(\n",
    "    [[46.67959447, 3.33984375],\n",
    "     [46.5588603, 29.53125],\n",
    "     [42.29356419, 51.328125],\n",
    "     [35.74651226, 68.5546875],\n",
    "     [28.65203063, 76.81640625]]\n",
    ").add_to(m)\n",
    "\n",
    "\n",
    "line_to_hanoi = folium.PolyLine(\n",
    "    [[28.76765911, 77.60742188],\n",
    "     [27.83907609, 88.72558594],\n",
    "     [25.68113734, 97.3828125],\n",
    "     [21.24842224, 105.77636719]]\n",
    ").add_to(m)\n",
    "\n",
    "\n",
    "plugins.PolyLineTextPath(\n",
    "    line_to_new_delhi,\n",
    "    'To New Delhi',\n",
    "    offset=-5\n",
    ").add_to(m)\n",
    "\n",
    "\n",
    "plugins.PolyLineTextPath(\n",
    "    line_to_hanoi,\n",
    "    'To Hanoi',\n",
    "    offset=-5\n",
    ").add_to(m)\n",
    "\n",
    "m.save(os.path.join('Polyline_text_path.html'))\n",
    "\n",
    "m"
   ]
  },
  {
   "cell_type": "code",
   "execution_count": null,
   "metadata": {},
   "outputs": [],
   "source": [
    "us_states = os.path.join('us-states.json')\n",
    "geo_json_data = json.load(open(us_states))\n",
    "\n",
    "unemployment = pd.read_csv('US_Unemployment_Oct2012.csv')\n",
    "\n",
    "unemployment_dict = unemployment.set_index('State')['Unemployment']"
   ]
  },
  {
   "cell_type": "code",
   "execution_count": null,
   "metadata": {},
   "outputs": [],
   "source": [
    "def my_color_function(feature):\n",
    "    \"Zemās vērtības - zaļas. Augstās - sarkanas\"\n",
    "    if unemployment_dict[feature['id']] > 6.5:\n",
    "        return '#ff0000'\n",
    "    else:\n",
    "        return '#008000'"
   ]
  },
  {
   "cell_type": "code",
   "execution_count": null,
   "metadata": {},
   "outputs": [],
   "source": [
    "m = folium.Map([43, -100], tiles='cartodbpositron', zoom_start=4)\n",
    "\n",
    "folium.GeoJson(\n",
    "    geo_json_data,\n",
    "    style_function=lambda feature: {\n",
    "        'fillColor': my_color_function(feature),\n",
    "        'color': 'black',\n",
    "        'weight': 2,\n",
    "        'dashArray': '5, 5'\n",
    "    }\n",
    ").add_to(m)\n",
    "\n",
    "m.save(os.path.join('Colormaps_0.html'))\n",
    "\n",
    "m"
   ]
  },
  {
   "cell_type": "code",
   "execution_count": null,
   "metadata": {},
   "outputs": [],
   "source": [
    "import branca.colormap as cm\n",
    "\n",
    "linear = cm.LinearColormap(\n",
    "    ['green', 'yellow', 'red'],\n",
    "    vmin=3, vmax=10\n",
    ")\n",
    "\n",
    "linear"
   ]
  },
  {
   "cell_type": "code",
   "execution_count": null,
   "metadata": {},
   "outputs": [],
   "source": [
    "m = folium.Map([43, -100], tiles='cartodbpositron', zoom_start=4)\n",
    "\n",
    "folium.GeoJson(\n",
    "    geo_json_data,\n",
    "    style_function=lambda feature: {\n",
    "        'fillColor': linear(unemployment_dict[feature['id']]),\n",
    "        'color': 'black',\n",
    "        'weight': 2,\n",
    "        'dashArray': '5, 5'\n",
    "    }\n",
    ").add_to(m)\n",
    "\n",
    "m.save(os.path.join('Colormaps_2.html'))\n",
    "\n",
    "m"
   ]
  },
  {
   "cell_type": "code",
   "execution_count": null,
   "metadata": {},
   "outputs": [],
   "source": []
  }
 ],
 "metadata": {
  "kernelspec": {
   "display_name": "Python 3",
   "language": "python",
   "name": "python3"
  },
  "language_info": {
   "codemirror_mode": {
    "name": "ipython",
    "version": 3
   },
   "file_extension": ".py",
   "mimetype": "text/x-python",
   "name": "python",
   "nbconvert_exporter": "python",
   "pygments_lexer": "ipython3",
   "version": "3.7.0"
  }
 },
 "nbformat": 4,
 "nbformat_minor": 2
}
